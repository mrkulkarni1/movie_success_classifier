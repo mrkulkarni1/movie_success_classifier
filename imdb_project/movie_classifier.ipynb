{
 "cells": [
  {
   "cell_type": "code",
   "execution_count": 1,
   "metadata": {},
   "outputs": [
    {
     "data": {
      "text/html": [
       "<style>body {\n",
       "    margin: 0;\n",
       "    font-family: Helvetica;\n",
       "}\n",
       "table.dataframe {\n",
       "    border-collapse: collapse;\n",
       "    border: none;\n",
       "}\n",
       "table.dataframe tr {\n",
       "    border: none;\n",
       "}\n",
       "table.dataframe td, table.dataframe th {\n",
       "    margin: 0;\n",
       "    border: 1px solid white;\n",
       "    padding-left: 0.25em;\n",
       "    padding-right: 0.25em;\n",
       "}\n",
       "table.dataframe th:not(:empty) {\n",
       "    background-color: #fec;\n",
       "    text-align: left;\n",
       "    font-weight: normal;\n",
       "}\n",
       "table.dataframe tr:nth-child(2) th:empty {\n",
       "    border-left: none;\n",
       "    border-right: 1px dashed #888;\n",
       "}\n",
       "table.dataframe td {\n",
       "    border: 2px solid #ccf;\n",
       "    background-color: #f4f4ff;\n",
       "}\n",
       "h3 {\n",
       "    color: white;\n",
       "    background-color: black;\n",
       "    padding: 0.5em;\n",
       "}\n",
       "</style>"
      ],
      "text/plain": [
       "<IPython.core.display.HTML object>"
      ]
     },
     "execution_count": 1,
     "metadata": {},
     "output_type": "execute_result"
    }
   ],
   "source": [
    "\n",
    "import numpy as np\n",
    "import pandas as pd\n",
    "import scipy.stats as stats\n",
    "import matplotlib.pyplot as plt\n",
    "import sklearn\n",
    "\n",
    "import seaborn as sns\n",
    "\n",
    "# special matplotlib argument for improved plots\n",
    "from matplotlib import rcParams\n",
    "sns.set_style(\"whitegrid\")\n",
    "sns.set_context(\"poster\")\n",
    "from sklearn.linear_model import LinearRegression\n",
    "from sklearn.utils import shuffle\n",
    "from IPython.core.display import HTML\n",
    "import seaborn as sns\n",
    "import re\n",
    "from pandas import get_dummies\n",
    "%matplotlib inline\n",
    "\n",
    "css = open('style-table.css').read() + open('style-notebook.css').read()\n",
    "HTML('<style>{}</style>'.format(css))"
   ]
  },
  {
   "cell_type": "markdown",
   "metadata": {},
   "source": [
    "## Data Gathering and EDA"
   ]
  },
  {
   "cell_type": "markdown",
   "metadata": {},
   "source": [
    "Importing the data into a **pandas Dataframe**"
   ]
  },
  {
   "cell_type": "code",
   "execution_count": 2,
   "metadata": {
    "collapsed": true
   },
   "outputs": [],
   "source": [
    "titles = pd.DataFrame.from_csv('movie_metadata.csv', index_col=None)"
   ]
  },
  {
   "cell_type": "code",
   "execution_count": 3,
   "metadata": {
    "collapsed": true
   },
   "outputs": [],
   "source": [
    "titles=titles.set_index('movie_title')"
   ]
  },
  {
   "cell_type": "code",
   "execution_count": 4,
   "metadata": {
    "scrolled": false
   },
   "outputs": [
    {
     "name": "stdout",
     "output_type": "stream",
     "text": [
      "Index(['color', 'director_name', 'num_critic_for_reviews', 'duration',\n",
      "       'director_facebook_likes', 'actor_3_facebook_likes', 'actor_2_name',\n",
      "       'actor_1_facebook_likes', 'gross', 'genres', 'actor_1_name',\n",
      "       'num_voted_users', 'cast_total_facebook_likes', 'actor_3_name',\n",
      "       'facenumber_in_poster', 'plot_keywords', 'movie_imdb_link',\n",
      "       'num_user_for_reviews', 'language', 'country', 'content_rating',\n",
      "       'budget', 'title_year', 'actor_2_facebook_likes', 'imdb_score',\n",
      "       'aspect_ratio', 'movie_facebook_likes'],\n",
      "      dtype='object')\n"
     ]
    }
   ],
   "source": [
    "print(titles.columns)"
   ]
  },
  {
   "cell_type": "markdown",
   "metadata": {},
   "source": [
    "Creating a ratio field for profit percentage"
   ]
  },
  {
   "cell_type": "code",
   "execution_count": 5,
   "metadata": {
    "collapsed": true
   },
   "outputs": [],
   "source": [
    "titles['ratio']=titles.gross/titles.budget"
   ]
  },
  {
   "cell_type": "code",
   "execution_count": 6,
   "metadata": {
    "collapsed": true
   },
   "outputs": [],
   "source": [
    "titles=titles=titles.dropna(axis=0, subset=['imdb_score','gross', 'budget', 'ratio', 'director_facebook_likes' , 'content_rating' , 'title_year' , 'movie_facebook_likes' ])"
   ]
  },
  {
   "cell_type": "markdown",
   "metadata": {},
   "source": [
    "Checking the distribution of **movie ratings**.  \n",
    "Low frequency ratings are removed later to improve prediction accuracy.\n"
   ]
  },
  {
   "cell_type": "code",
   "execution_count": 7,
   "metadata": {},
   "outputs": [
    {
     "data": {
      "text/plain": [
       "R            1737\n",
       "PG-13        1331\n",
       "PG            576\n",
       "G              91\n",
       "Not Rated      42\n",
       "Unrated        24\n",
       "Approved       17\n",
       "X              10\n",
       "NC-17           6\n",
       "Passed          3\n",
       "M               2\n",
       "GP              1\n",
       "Name: content_rating, dtype: int64"
      ]
     },
     "execution_count": 7,
     "metadata": {},
     "output_type": "execute_result"
    }
   ],
   "source": [
    "titles.content_rating.value_counts()"
   ]
  },
  {
   "cell_type": "markdown",
   "metadata": {},
   "source": [
    "**Analyzing `imdb` score disctribution**"
   ]
  },
  {
   "cell_type": "code",
   "execution_count": 8,
   "metadata": {},
   "outputs": [
    {
     "data": {
      "text/plain": [
       "6.0    1459\n",
       "7.0    1091\n",
       "5.0     769\n",
       "4.0     217\n",
       "8.0     211\n",
       "3.0      64\n",
       "2.0      22\n",
       "9.0       4\n",
       "1.0       3\n",
       "Name: imdb_score, dtype: int64"
      ]
     },
     "execution_count": 8,
     "metadata": {},
     "output_type": "execute_result"
    }
   ],
   "source": [
    "((titles.imdb_score//1)).value_counts()"
   ]
  },
  {
   "cell_type": "code",
   "execution_count": 9,
   "metadata": {},
   "outputs": [
    {
     "data": {
      "text/plain": [
       "<matplotlib.axes._subplots.AxesSubplot at 0x1a1060d5c0>"
      ]
     },
     "execution_count": 9,
     "metadata": {},
     "output_type": "execute_result"
    },
    {
     "data": {
      "image/png": "[encoded data removed]",
      "text/plain": [
       "<matplotlib.figure.Figure at 0x1a111dde10>"
      ]
     },
     "metadata": {},
     "output_type": "display_data"
    }
   ],
   "source": [
    "titles.imdb_score.plot.kde(title='imdb score density plot' )"
   ]
  },
  {
   "cell_type": "code",
   "execution_count": 10,
   "metadata": {
    "collapsed": true
   },
   "outputs": [],
   "source": [
    "titles.genres=titles.genres.str.replace(\"\\|.*\",\"\")\n"
   ]
  },
  {
   "cell_type": "markdown",
   "metadata": {},
   "source": [
    "**Analyzing Genre Distribution of the movies**"
   ]
  },
  {
   "cell_type": "code",
   "execution_count": 11,
   "metadata": {},
   "outputs": [
    {
     "data": {
      "text/plain": [
       "<matplotlib.axes._subplots.AxesSubplot at 0x108072358>"
      ]
     },
     "execution_count": 11,
     "metadata": {},
     "output_type": "execute_result"
    },
    {
     "data": {
      "image/png": "[encoded data removed]",
      "text/plain": [
       "<matplotlib.figure.Figure at 0x1a10ca6748>"
      ]
     },
     "metadata": {},
     "output_type": "display_data"
    }
   ],
   "source": [
    "titles.genres.value_counts().plot(kind = 'bar', title='Movie Genre frequency')"
   ]
  },
  {
   "cell_type": "code",
   "execution_count": 12,
   "metadata": {},
   "outputs": [
    {
     "data": {
      "text/plain": [
       "<matplotlib.axes._subplots.AxesSubplot at 0x10806f748>"
      ]
     },
     "execution_count": 12,
     "metadata": {},
     "output_type": "execute_result"
    },
    {
     "data": {
      "image/png": "[encoded data removed]",
      "text/plain": [
       "<matplotlib.figure.Figure at 0x1a11007358>"
      ]
     },
     "metadata": {},
     "output_type": "display_data"
    }
   ],
   "source": [
    "titles.content_rating.value_counts().plot(kind = 'bar', title='Movie Rating frequency')"
   ]
  },
  {
   "cell_type": "code",
   "execution_count": 13,
   "metadata": {},
   "outputs": [
    {
     "data": {
      "text/plain": [
       "<matplotlib.axes._subplots.AxesSubplot at 0x1a1100f828>"
      ]
     },
     "execution_count": 13,
     "metadata": {},
     "output_type": "execute_result"
    },
    {
     "data": {
      "image/png": "[encoded data removed]",
      "text/plain": [
       "<matplotlib.figure.Figure at 0x1a110513c8>"
      ]
     },
     "metadata": {},
     "output_type": "display_data"
    }
   ],
   "source": [
    "titles.ratio.plot.kde(xlim=[-200,200] , title='profit density plot')"
   ]
  },
  {
   "cell_type": "markdown",
   "metadata": {},
   "source": [
    "** looking for outliers in profit ratio. To improve efficiency of the model **\n"
   ]
  },
  {
   "cell_type": "code",
   "execution_count": 14,
   "metadata": {},
   "outputs": [
    {
     "data": {
      "text/plain": [
       "0.0     3823\n",
       "1.0        9\n",
       "2.0        2\n",
       "3.0        2\n",
       "71.0       1\n",
       "4.0        1\n",
       "27.0       1\n",
       "23.0       1\n",
       "Name: ratio, dtype: int64"
      ]
     },
     "execution_count": 14,
     "metadata": {},
     "output_type": "execute_result"
    }
   ],
   "source": [
    "(titles.ratio//100).value_counts()"
   ]
  },
  {
   "cell_type": "markdown",
   "metadata": {},
   "source": [
    "**removing movies with a very high profit ratio (>200x) for which are mostly low budget movies**"
   ]
  },
  {
   "cell_type": "code",
   "execution_count": 15,
   "metadata": {
    "collapsed": true
   },
   "outputs": [],
   "source": [
    "titles=titles.drop(titles[(titles.ratio>200)].index)"
   ]
  },
  {
   "cell_type": "code",
   "execution_count": 16,
   "metadata": {},
   "outputs": [
    {
     "data": {
      "text/plain": [
       "(2.7023612667579786, 8.60812467633687)"
      ]
     },
     "execution_count": 16,
     "metadata": {},
     "output_type": "execute_result"
    }
   ],
   "source": [
    "titles.ratio.mean() , titles.ratio.std() \n"
   ]
  },
  {
   "cell_type": "markdown",
   "metadata": {},
   "source": [
    "## Profit distribution\n",
    "**Majority of movies make a loss**\n"
   ]
  },
  {
   "cell_type": "code",
   "execution_count": 17,
   "metadata": {},
   "outputs": [
    {
     "data": {
      "text/plain": [
       "<matplotlib.axes._subplots.AxesSubplot at 0x1a194fc588>"
      ]
     },
     "execution_count": 17,
     "metadata": {},
     "output_type": "execute_result"
    },
    {
     "data": {
      "image/png": "[encoded data removed]",
      "text/plain": [
       "<matplotlib.figure.Figure at 0x1a1951e278>"
      ]
     },
     "metadata": {},
     "output_type": "display_data"
    }
   ],
   "source": [
    "((titles.ratio -1 )*100).plot.hist(xlim=[-100,600],ylim=[0,60],bins=10000,title=\"frequency distribution of profit %\")"
   ]
  },
  {
   "cell_type": "code",
   "execution_count": 18,
   "metadata": {},
   "outputs": [
    {
     "data": {
      "text/plain": [
       "(2.7023612667579786, 8.60812467633687, 1.081657044736842)"
      ]
     },
     "execution_count": 18,
     "metadata": {},
     "output_type": "execute_result"
    }
   ],
   "source": [
    "titles.ratio.mean() , titles.ratio.std() , titles.ratio.median() "
   ]
  },
  {
   "cell_type": "markdown",
   "metadata": {},
   "source": [
    "**Defining the criterion of a classifying a movie as profit making. \n",
    "Choosing a value well above the median:: `20%` profit**\n"
   ]
  },
  {
   "cell_type": "code",
   "execution_count": 19,
   "metadata": {
    "collapsed": true
   },
   "outputs": [],
   "source": [
    "titles['profit_making']= (titles.ratio > 1.2)"
   ]
  },
  {
   "cell_type": "code",
   "execution_count": 20,
   "metadata": {
    "scrolled": true
   },
   "outputs": [
    {
     "data": {
      "text/plain": [
       "False    2059\n",
       "True     1773\n",
       "Name: profit_making, dtype: int64"
      ]
     },
     "execution_count": 20,
     "metadata": {},
     "output_type": "execute_result"
    }
   ],
   "source": [
    "titles.profit_making.value_counts()"
   ]
  },
  {
   "cell_type": "code",
   "execution_count": 21,
   "metadata": {
    "collapsed": true
   },
   "outputs": [],
   "source": [
    "#titles2 = pd.DataFrame.from_csv('movie_metadata.csv', index_col=None)"
   ]
  },
  {
   "cell_type": "code",
   "execution_count": 22,
   "metadata": {
    "collapsed": true
   },
   "outputs": [],
   "source": [
    "#(titles.budget/1e6).plot.hist(bins=10000,xlim=[0,1000],title=\"budget distribution millions $\")\n"
   ]
  },
  {
   "cell_type": "markdown",
   "metadata": {},
   "source": [
    "### Vital budget statistics in $ million"
   ]
  },
  {
   "cell_type": "code",
   "execution_count": 23,
   "metadata": {},
   "outputs": [
    {
     "data": {
      "text/plain": [
       "(45.56992900782881, 223.84992523867987, 25.0)"
      ]
     },
     "execution_count": 23,
     "metadata": {},
     "output_type": "execute_result"
    }
   ],
   "source": [
    "titles.budget.mean()/1e6 , titles.budget.std()/1e6 , titles.budget.median()/1e6\n"
   ]
  },
  {
   "cell_type": "code",
   "execution_count": 24,
   "metadata": {
    "scrolled": true
   },
   "outputs": [
    {
     "data": {
      "text/plain": [
       "0.0       920\n",
       "1.0       698\n",
       "2.0       535\n",
       "3.0       391\n",
       "4.0       258\n",
       "5.0       215\n",
       "6.0       174\n",
       "7.0       120\n",
       "8.0        93\n",
       "9.0        60\n",
       "10.0       69\n",
       "11.0       32\n",
       "12.0       37\n",
       "13.0       34\n",
       "14.0       26\n",
       "15.0       45\n",
       "16.0       15\n",
       "17.0       24\n",
       "18.0       11\n",
       "19.0        7\n",
       "20.0       28\n",
       "21.0        5\n",
       "22.0        7\n",
       "23.0        2\n",
       "24.0        1\n",
       "25.0        9\n",
       "26.0        2\n",
       "30.0        2\n",
       "39.0        1\n",
       "40.0        1\n",
       "55.0        1\n",
       "70.0        2\n",
       "100.0       1\n",
       "110.0       1\n",
       "212.0       1\n",
       "240.0       1\n",
       "250.0       1\n",
       "420.0       1\n",
       "1221.0      1\n",
       "Name: budget, dtype: int64"
      ]
     },
     "execution_count": 24,
     "metadata": {},
     "output_type": "execute_result"
    }
   ],
   "source": [
    "((titles.budget//1e7)).value_counts().sort_index()"
   ]
  },
  {
   "cell_type": "markdown",
   "metadata": {},
   "source": [
    "#### Looks like there are a few outliers which will have to be filtered out later \n",
    "On further investigation these movies are not made in the USA and do not have thier budget statistics in USD."
   ]
  },
  {
   "cell_type": "code",
   "execution_count": 25,
   "metadata": {},
   "outputs": [
    {
     "data": {
      "text/plain": [
       "Japan          4\n",
       "South Korea    2\n",
       "France         1\n",
       "Thailand       1\n",
       "Hungary        1\n",
       "India          1\n",
       "Spain          1\n",
       "China          1\n",
       "Name: country, dtype: int64"
      ]
     },
     "execution_count": 25,
     "metadata": {},
     "output_type": "execute_result"
    }
   ],
   "source": [
    "titles[titles.budget>.33e9].country.value_counts()"
   ]
  },
  {
   "cell_type": "code",
   "execution_count": 26,
   "metadata": {},
   "outputs": [
    {
     "data": {
      "text/plain": [
       "788"
      ]
     },
     "execution_count": 26,
     "metadata": {},
     "output_type": "execute_result"
    }
   ],
   "source": [
    "len(titles[titles.country != \"USA\"])"
   ]
  },
  {
   "cell_type": "markdown",
   "metadata": {},
   "source": [
    "** Removing foreign movies from the Dataset. Maybe add currency conversion in the future**"
   ]
  },
  {
   "cell_type": "code",
   "execution_count": 27,
   "metadata": {
    "collapsed": true
   },
   "outputs": [],
   "source": [
    "titles=titles.drop(titles[titles.country != \"USA\"].index)"
   ]
  },
  {
   "cell_type": "markdown",
   "metadata": {},
   "source": [
    "#### **Converting non quantitative data items (Genres, Ratings and color) into features**"
   ]
  },
  {
   "cell_type": "code",
   "execution_count": 28,
   "metadata": {
    "collapsed": true
   },
   "outputs": [],
   "source": [
    "titles=pd.get_dummies(titles , columns=[\"genres\"])"
   ]
  },
  {
   "cell_type": "code",
   "execution_count": 29,
   "metadata": {},
   "outputs": [
    {
     "data": {
      "text/plain": [
       "R            1327\n",
       "PG-13        1114\n",
       "PG            474\n",
       "G              71\n",
       "Not Rated      19\n",
       "Unrated        12\n",
       "Approved        9\n",
       "X               9\n",
       "NC-17           4\n",
       "Passed          3\n",
       "M               1\n",
       "Name: content_rating, dtype: int64"
      ]
     },
     "execution_count": 29,
     "metadata": {},
     "output_type": "execute_result"
    }
   ],
   "source": [
    "titles.content_rating.value_counts()"
   ]
  },
  {
   "cell_type": "code",
   "execution_count": 30,
   "metadata": {
    "collapsed": true
   },
   "outputs": [],
   "source": [
    "titles=pd.get_dummies(titles, columns=[\"color\"])"
   ]
  },
  {
   "cell_type": "markdown",
   "metadata": {},
   "source": [
    "** Removing low frequency ratings instances **"
   ]
  },
  {
   "cell_type": "code",
   "execution_count": 31,
   "metadata": {
    "collapsed": true
   },
   "outputs": [],
   "source": [
    "titles=titles.drop(titles[titles.content_rating.str.match(\"NC-17|Passed|M|GP\")].index)"
   ]
  },
  {
   "cell_type": "code",
   "execution_count": 32,
   "metadata": {
    "collapsed": true
   },
   "outputs": [],
   "source": [
    "titles=pd.get_dummies(titles , columns=[\"content_rating\"])"
   ]
  },
  {
   "cell_type": "code",
   "execution_count": 33,
   "metadata": {},
   "outputs": [
    {
     "data": {
      "image/png": "[encoded data removed]",
      "text/plain": [
       "<matplotlib.figure.Figure at 0x1a19790710>"
      ]
     },
     "metadata": {},
     "output_type": "display_data"
    }
   ],
   "source": [
    "plt.axis([0,200,0,50])\n",
    "plt.xlabel('Budget in millions')\n",
    "plt.ylabel('Profit Ratio')\n",
    "plt.title('Distribution of profit ratio vs budget')\n",
    "plt.scatter(titles.budget/(1e6) , titles.ratio , s=10)\n",
    "plt.axis([0,200,0,20])\n",
    "\n",
    "plt.show()"
   ]
  },
  {
   "cell_type": "code",
   "execution_count": 34,
   "metadata": {},
   "outputs": [
    {
     "data": {
      "text/plain": [
       "<matplotlib.axes._subplots.AxesSubplot at 0x1a1f21df28>"
      ]
     },
     "execution_count": 34,
     "metadata": {},
     "output_type": "execute_result"
    },
    {
     "data": {
      "image/png": "[encoded data removed]",
      "text/plain": [
       "<matplotlib.figure.Figure at 0x1a19773c50>"
      ]
     },
     "metadata": {},
     "output_type": "display_data"
    }
   ],
   "source": [
    "titles.plot.scatter(x='imdb_score',y='gross')"
   ]
  },
  {
   "cell_type": "code",
   "execution_count": 35,
   "metadata": {},
   "outputs": [
    {
     "data": {
      "text/plain": [
       "<matplotlib.axes._subplots.AxesSubplot at 0x1a1f3b62b0>"
      ]
     },
     "execution_count": 35,
     "metadata": {},
     "output_type": "execute_result"
    },
    {
     "data": {
      "image/png": "[encoded data removed]",
      "text/plain": [
       "<matplotlib.figure.Figure at 0x1a1f2237f0>"
      ]
     },
     "metadata": {},
     "output_type": "display_data"
    }
   ],
   "source": [
    "titles.plot.scatter(x='budget',y='gross')"
   ]
  },
  {
   "cell_type": "code",
   "execution_count": 36,
   "metadata": {
    "scrolled": true
   },
   "outputs": [
    {
     "data": {
      "text/plain": [
       "<matplotlib.axes._subplots.AxesSubplot at 0x1a1f3c0358>"
      ]
     },
     "execution_count": 36,
     "metadata": {},
     "output_type": "execute_result"
    },
    {
     "data": {
      "image/png": "[encoded data removed]",
      "text/plain": [
       "<matplotlib.figure.Figure at 0x1a1f3b6898>"
      ]
     },
     "metadata": {},
     "output_type": "display_data"
    }
   ],
   "source": [
    "titles.plot.scatter(x='actor_1_facebook_likes',y='gross', xlim=[0,60000])"
   ]
  },
  {
   "cell_type": "code",
   "execution_count": 37,
   "metadata": {
    "collapsed": true
   },
   "outputs": [],
   "source": [
    "titles_non_normalized=titles"
   ]
  },
  {
   "cell_type": "markdown",
   "metadata": {
    "collapsed": true
   },
   "source": [
    "##  Sending budget and number of likes through normalizer\n"
   ]
  },
  {
   "cell_type": "code",
   "execution_count": 38,
   "metadata": {
    "collapsed": true
   },
   "outputs": [],
   "source": [
    "def normalize(array1, name):\n",
    "    print (\"normalizing \"+name);\n",
    "    array=array1\n",
    "    array=array/array.std()\n",
    "    array=array-array.mean()\n",
    "    return(array);"
   ]
  },
  {
   "cell_type": "code",
   "execution_count": 39,
   "metadata": {},
   "outputs": [
    {
     "name": "stdout",
     "output_type": "stream",
     "text": [
      "budget: true\n",
      "normalizing budget\n",
      "movie_facebook_likes: true\n",
      "normalizing movie_facebook_likes\n",
      "cast_total_facebook_likes: true\n",
      "normalizing cast_total_facebook_likes\n",
      "director_facebook_likes: true\n",
      "normalizing director_facebook_likes\n",
      "actor_1_facebook_likes: true\n",
      "normalizing actor_1_facebook_likes\n",
      "actor_2_facebook_likes: true\n",
      "normalizing actor_2_facebook_likes\n",
      "duration: true\n",
      "normalizing duration\n",
      "num_voted_users: true\n",
      "normalizing num_voted_users\n",
      "num_user_for_reviews: true\n",
      "normalizing num_user_for_reviews\n",
      "gross: true\n",
      "normalizing gross\n"
     ]
    }
   ],
   "source": [
    "for column in ['budget','movie_facebook_likes','cast_total_facebook_likes','director_facebook_likes','actor_1_facebook_likes','actor_2_facebook_likes','duration','num_voted_users', 'num_user_for_reviews', 'gross']:\n",
    "    if np.issubdtype(titles[column].dtype, np.number):\n",
    "        print (column + \": true\")\n",
    "        titles[column]=normalize(array1=titles[column],name=column)\n",
    "    else:\n",
    "        print (column + \":false\")"
   ]
  },
  {
   "cell_type": "code",
   "execution_count": 40,
   "metadata": {
    "collapsed": true
   },
   "outputs": [],
   "source": [
    "def plot_corr(df,size=10):\n",
    "    '''Function plots a graphical correlation matrix for each pair of columns in the dataframe.\n",
    "        Input:\n",
    "        df: pandas DataFrame\n",
    "        size: vertical and horizontal size of the plot'''\n",
    "\n",
    "    plt.figure(figsize=(10,10) , dpi= 300)\n",
    "    corr = df.corr()\n",
    "    fig, ax = plt.subplots(figsize=(size, size))\n",
    "    ax.matshow(corr)\n",
    "    plt.xticks(range(len(corr.columns)), corr.columns, rotation=90);\n",
    "    plt.yticks(range(len(corr.columns)), corr.columns);"
   ]
  },
  {
   "cell_type": "code",
   "execution_count": 41,
   "metadata": {
    "collapsed": true
   },
   "outputs": [],
   "source": [
    "list1=[]\n",
    "for x in titles.columns:\n",
    "    if re.match('(content)|(genre)|(color)',x):\n",
    "        list1.append(x)"
   ]
  },
  {
   "cell_type": "code",
   "execution_count": 42,
   "metadata": {},
   "outputs": [
    {
     "data": {
      "text/plain": [
       "<matplotlib.figure.Figure at 0x1a1f50dcf8>"
      ]
     },
     "metadata": {},
     "output_type": "display_data"
    },
    {
     "data": {
      "image/png": "[encoded data removed]",
      "text/plain": [
       "<matplotlib.figure.Figure at 0x1a19435fd0>"
      ]
     },
     "metadata": {},
     "output_type": "display_data"
    }
   ],
   "source": [
    "titles_correlation=titles.drop([ 'profit_making','movie_facebook_likes','num_voted_users','gross','aspect_ratio'],axis=1 )\n",
    "\n",
    "titles_correlation=titles_correlation.drop(list1,axis=1)\n",
    "\n",
    "plot_corr(titles_correlation)"
   ]
  },
  {
   "cell_type": "code",
   "execution_count": 43,
   "metadata": {
    "scrolled": true
   },
   "outputs": [
    {
     "data": {
      "text/html": [
       "<div>\n",
       "<style>\n",
       "    .dataframe thead tr:only-child th {\n",
       "        text-align: right;\n",
       "    }\n",
       "\n",
       "    .dataframe thead th {\n",
       "        text-align: left;\n",
       "    }\n",
       "\n",
       "    .dataframe tbody tr th {\n",
       "        vertical-align: top;\n",
       "    }\n",
       "</style>\n",
       "<table border=\"1\" class=\"dataframe\">\n",
       "  <thead>\n",
       "    <tr style=\"text-align: right;\">\n",
       "      <th></th>\n",
       "      <th>ratio</th>\n",
       "      <th>cast_total_facebook_likes</th>\n",
       "      <th>duration</th>\n",
       "    </tr>\n",
       "  </thead>\n",
       "  <tbody>\n",
       "    <tr>\n",
       "      <th>num_critic_for_reviews</th>\n",
       "      <td>0.023809</td>\n",
       "      <td>0.252788</td>\n",
       "      <td>0.269825</td>\n",
       "    </tr>\n",
       "    <tr>\n",
       "      <th>duration</th>\n",
       "      <td>-0.021709</td>\n",
       "      <td>0.133333</td>\n",
       "      <td>1.000000</td>\n",
       "    </tr>\n",
       "    <tr>\n",
       "      <th>director_facebook_likes</th>\n",
       "      <td>-0.001804</td>\n",
       "      <td>0.116920</td>\n",
       "      <td>0.209395</td>\n",
       "    </tr>\n",
       "    <tr>\n",
       "      <th>actor_3_facebook_likes</th>\n",
       "      <td>-0.026360</td>\n",
       "      <td>0.482528</td>\n",
       "      <td>0.143701</td>\n",
       "    </tr>\n",
       "    <tr>\n",
       "      <th>actor_1_facebook_likes</th>\n",
       "      <td>-0.039214</td>\n",
       "      <td>0.945888</td>\n",
       "      <td>0.089803</td>\n",
       "    </tr>\n",
       "    <tr>\n",
       "      <th>cast_total_facebook_likes</th>\n",
       "      <td>-0.046234</td>\n",
       "      <td>1.000000</td>\n",
       "      <td>0.133333</td>\n",
       "    </tr>\n",
       "    <tr>\n",
       "      <th>facenumber_in_poster</th>\n",
       "      <td>-0.043795</td>\n",
       "      <td>0.075342</td>\n",
       "      <td>0.005242</td>\n",
       "    </tr>\n",
       "    <tr>\n",
       "      <th>num_user_for_reviews</th>\n",
       "      <td>0.092855</td>\n",
       "      <td>0.189405</td>\n",
       "      <td>0.376825</td>\n",
       "    </tr>\n",
       "    <tr>\n",
       "      <th>budget</th>\n",
       "      <td>-0.149816</td>\n",
       "      <td>0.234009</td>\n",
       "      <td>0.299387</td>\n",
       "    </tr>\n",
       "    <tr>\n",
       "      <th>title_year</th>\n",
       "      <td>-0.250859</td>\n",
       "      <td>0.123287</td>\n",
       "      <td>-0.113718</td>\n",
       "    </tr>\n",
       "    <tr>\n",
       "      <th>actor_2_facebook_likes</th>\n",
       "      <td>-0.040584</td>\n",
       "      <td>0.631592</td>\n",
       "      <td>0.149046</td>\n",
       "    </tr>\n",
       "    <tr>\n",
       "      <th>imdb_score</th>\n",
       "      <td>0.139781</td>\n",
       "      <td>0.138695</td>\n",
       "      <td>0.384837</td>\n",
       "    </tr>\n",
       "    <tr>\n",
       "      <th>ratio</th>\n",
       "      <td>1.000000</td>\n",
       "      <td>-0.046234</td>\n",
       "      <td>-0.021709</td>\n",
       "    </tr>\n",
       "  </tbody>\n",
       "</table>\n",
       "</div>"
      ],
      "text/plain": [
       "                              ratio  cast_total_facebook_likes  duration\n",
       "num_critic_for_reviews     0.023809                   0.252788  0.269825\n",
       "duration                  -0.021709                   0.133333  1.000000\n",
       "director_facebook_likes   -0.001804                   0.116920  0.209395\n",
       "actor_3_facebook_likes    -0.026360                   0.482528  0.143701\n",
       "actor_1_facebook_likes    -0.039214                   0.945888  0.089803\n",
       "cast_total_facebook_likes -0.046234                   1.000000  0.133333\n",
       "facenumber_in_poster      -0.043795                   0.075342  0.005242\n",
       "num_user_for_reviews       0.092855                   0.189405  0.376825\n",
       "budget                    -0.149816                   0.234009  0.299387\n",
       "title_year                -0.250859                   0.123287 -0.113718\n",
       "actor_2_facebook_likes    -0.040584                   0.631592  0.149046\n",
       "imdb_score                 0.139781                   0.138695  0.384837\n",
       "ratio                      1.000000                  -0.046234 -0.021709"
      ]
     },
     "execution_count": 43,
     "metadata": {},
     "output_type": "execute_result"
    }
   ],
   "source": [
    "titles_correlation.corr().filter(['ratio','cast_total_facebook_likes','duration'])"
   ]
  },
  {
   "cell_type": "markdown",
   "metadata": {},
   "source": [
    "#### Couple of points to evaluate\n",
    "Light color is positive correlation; Dark color is negative correlation\n",
    "   1. year of release shows a very strong negative correlation with the success of the movie: **This needs to be evaluated further. **\n",
    "   2. Imdb score shows a positive correlation which is expected\n",
    "   3. Things like facebook likes show a slight negative correlation with the success of movies; whichis kindof counter intutive. \n",
    "   4. Feature like cast_total_facebook_likes and actor_1_facebook likes are very positively correlated hence one of them could be easily removed\n"
   ]
  },
  {
   "cell_type": "code",
   "execution_count": 44,
   "metadata": {},
   "outputs": [
    {
     "data": {
      "text/plain": [
       "<matplotlib.axes._subplots.AxesSubplot at 0x1a1f4215c0>"
      ]
     },
     "execution_count": 44,
     "metadata": {},
     "output_type": "execute_result"
    },
    {
     "data": {
      "image/png": "[encoded data removed]",
      "text/plain": [
       "<matplotlib.figure.Figure at 0x1a1f2fc3c8>"
      ]
     },
     "metadata": {},
     "output_type": "display_data"
    }
   ],
   "source": [
    "ratio_list=[]\n",
    "for i in range(1940, 2020):\n",
    "    ratio_mean=titles_correlation[(titles_correlation.title_year==i)].ratio.mean()\n",
    "    ratio_std=titles_correlation[(titles_correlation.title_year==i)].ratio.std()\n",
    "    ratio_list.append([i,((ratio_mean//.1)/10),((ratio_std//.1)/10)])\n",
    "ratio_data_frame=pd.DataFrame(ratio_list)\n",
    "ratio_data_frame=ratio_data_frame.set_index(0)\n",
    "ratio_data_frame.columns=['ratio','std_dev']\n",
    "ratio_data_frame.index.name='year'\n",
    "ratio_data_frame[ratio_data_frame.index > 1940].plot.line()"
   ]
  },
  {
   "cell_type": "markdown",
   "metadata": {},
   "source": [
    "#### As we can the see the variability reduces quite a bit after 1980's thats due to lack of large number of instances pre 1980. \n",
    "#### So Maybe the prediction accuracy will improve if we use post-1980 movies in our training data. "
   ]
  },
  {
   "cell_type": "code",
   "execution_count": 45,
   "metadata": {
    "scrolled": true
   },
   "outputs": [
    {
     "data": {
      "text/plain": [
       "<matplotlib.axes._subplots.AxesSubplot at 0x1a1faa7c18>"
      ]
     },
     "execution_count": 45,
     "metadata": {},
     "output_type": "execute_result"
    },
    {
     "data": {
      "image/png": "[encoded data removed]",
      "text/plain": [
       "<matplotlib.figure.Figure at 0x1a1f5c6240>"
      ]
     },
     "metadata": {},
     "output_type": "display_data"
    }
   ],
   "source": [
    "titles[(titles.ratio<10)].plot.scatter(x='imdb_score',y='ratio', s=10)"
   ]
  },
  {
   "cell_type": "markdown",
   "metadata": {},
   "source": [
    "#### Removing IMDB score since it is unknown before a movie get released also removing movies before 1980  "
   ]
  },
  {
   "cell_type": "code",
   "execution_count": 46,
   "metadata": {},
   "outputs": [],
   "source": [
    "##titles=titles.drop(titles[(titles.title_year < 1980)].index)\n",
    "titles=titles.drop(['imdb_score'], axis=1)"
   ]
  },
  {
   "cell_type": "markdown",
   "metadata": {},
   "source": [
    "## Splitting titles into low budget and high budget movies"
   ]
  },
  {
   "cell_type": "code",
   "execution_count": 47,
   "metadata": {
    "scrolled": true
   },
   "outputs": [
    {
     "data": {
      "text/plain": [
       "<matplotlib.axes._subplots.AxesSubplot at 0x1a20033860>"
      ]
     },
     "execution_count": 47,
     "metadata": {},
     "output_type": "execute_result"
    },
    {
     "data": {
      "image/png": "[encoded data removed]",
      "text/plain": [
       "<matplotlib.figure.Figure at 0x1a1fd47710>"
      ]
     },
     "metadata": {},
     "output_type": "display_data"
    }
   ],
   "source": [
    "titles.budget.plot.kde(xlim=[-2,2])"
   ]
  },
  {
   "cell_type": "code",
   "execution_count": 48,
   "metadata": {},
   "outputs": [
    {
     "data": {
      "text/plain": [
       "-0.35378772592239804"
      ]
     },
     "execution_count": 48,
     "metadata": {},
     "output_type": "execute_result"
    }
   ],
   "source": [
    "titles.budget.median() "
   ]
  },
  {
   "cell_type": "code",
   "execution_count": 49,
   "metadata": {},
   "outputs": [
    {
     "data": {
      "text/plain": [
       "2.9149714718665765"
      ]
     },
     "execution_count": 49,
     "metadata": {},
     "output_type": "execute_result"
    }
   ],
   "source": [
    "titles.ratio.mean()"
   ]
  },
  {
   "cell_type": "markdown",
   "metadata": {},
   "source": [
    "#### Profit Distribution between low and high budget movies was found to be quite different. So splitting them will be benificial from a point of view of accurately training the predictors\n",
    "#### Taking the median as roughly the point that splits the high budget and low budget movies "
   ]
  },
  {
   "cell_type": "code",
   "execution_count": 50,
   "metadata": {
    "collapsed": true
   },
   "outputs": [],
   "source": [
    "titles_highb = titles[(titles.budget > titles.budget.median() )]"
   ]
  },
  {
   "cell_type": "code",
   "execution_count": 51,
   "metadata": {
    "collapsed": true
   },
   "outputs": [],
   "source": [
    "titles_lowb = titles[(titles.budget <= titles.budget.median() )]"
   ]
  },
  {
   "cell_type": "code",
   "execution_count": 52,
   "metadata": {},
   "outputs": [
    {
     "data": {
      "text/plain": [
       "1508"
      ]
     },
     "execution_count": 52,
     "metadata": {},
     "output_type": "execute_result"
    }
   ],
   "source": [
    "len(titles_highb)"
   ]
  },
  {
   "cell_type": "code",
   "execution_count": 53,
   "metadata": {},
   "outputs": [
    {
     "data": {
      "text/plain": [
       "1527"
      ]
     },
     "execution_count": 53,
     "metadata": {},
     "output_type": "execute_result"
    }
   ],
   "source": [
    " len(titles_lowb)"
   ]
  },
  {
   "cell_type": "markdown",
   "metadata": {},
   "source": [
    "#### The Graph shows the wide variation in distribution of profit making between high and low budget movies"
   ]
  },
  {
   "cell_type": "code",
   "execution_count": 54,
   "metadata": {
    "scrolled": false
   },
   "outputs": [
    {
     "data": {
      "text/plain": [
       "<Container object of 13 artists>"
      ]
     },
     "execution_count": 54,
     "metadata": {},
     "output_type": "execute_result"
    },
    {
     "data": {
      "image/png": "[encoded data removed]",
      "text/plain": [
       "<matplotlib.figure.Figure at 0x1a1ffd2dd8>"
      ]
     },
     "metadata": {},
     "output_type": "display_data"
    }
   ],
   "source": [
    "temp=((titles_highb.ratio//.5)*.5).value_counts()\n",
    "temp=temp.sort_index(ascending=True)\n",
    "temp2=((titles_lowb.ratio//.5)*.5).value_counts()\n",
    "temp2=temp2.sort_index(ascending=True)\n",
    "\n",
    "plt.figure(figsize=(12,12), dpi=100)\n",
    "plt.title(\"Profit distribution of low and high budget movies \\n BLUE= Low budget \\n RED= High budget\")\n",
    "plt.yticks([0,50,100,150,200,250,300,350,400,450,500,550,600,650,700,750,800,850,900])\n",
    "plt.xticks([0,.50,1.00,1.50,2.00,2.50,3.00,3.50,4.00,4.50,5.00,5.50,6.00])\n",
    "\n",
    "plt.xlim(-.5,6)\n",
    "plt.xlabel(' profit distribution')\n",
    "plt.ylabel('frequency')\n",
    "#plt.hist([temp], color=['RED'] , rwidth=.5)\n",
    "temp=(((titles_highb[titles_highb.ratio<6.1].ratio)//.5)*.5).value_counts().sort_index()\n",
    "temp2=(((titles_lowb[titles_lowb.ratio<6.1].ratio)//.5)*.5).value_counts().sort_index()\n",
    "\n",
    "plt.bar(x=temp.index,height=temp.values,width=-.15 , color=['RED'] , align='edge')\n",
    "plt.bar(x=temp2.index,height=temp2.values,width=+.15 , color=['BLUE'] , align='edge')\n",
    "\n",
    "#plt.hist([(((titles_highb[titles_highb.ratio<6.1].ratio)//.5)*.5),(((titles_lowb[titles_lowb.ratio<6.1].ratio)//.5)*.5)], color=['RED','BLUE'])"
   ]
  },
  {
   "cell_type": "code",
   "execution_count": 55,
   "metadata": {},
   "outputs": [
    {
     "data": {
      "text/plain": [
       "0.43236074270557029"
      ]
     },
     "execution_count": 55,
     "metadata": {},
     "output_type": "execute_result"
    }
   ],
   "source": [
    "titles_highb.profit_making.mean()"
   ]
  },
  {
   "cell_type": "code",
   "execution_count": 56,
   "metadata": {
    "scrolled": true
   },
   "outputs": [
    {
     "data": {
      "text/plain": [
       "0.57301899148657498"
      ]
     },
     "execution_count": 56,
     "metadata": {},
     "output_type": "execute_result"
    }
   ],
   "source": [
    "titles_lowb.profit_making.mean()"
   ]
  },
  {
   "cell_type": "markdown",
   "metadata": {},
   "source": [
    "## Classification"
   ]
  },
  {
   "cell_type": "code",
   "execution_count": 57,
   "metadata": {
    "collapsed": true
   },
   "outputs": [],
   "source": [
    "titles_cat_ml_highb=titles_highb.select_dtypes(exclude=['object']) \n",
    "\n",
    "titles_cat_ml_highb_ratio=titles_cat_ml_highb.ratio\n",
    "\n",
    "titles_cat_logistic_highb=titles_cat_ml_highb.drop(['ratio'], axis=1)\n",
    "\n",
    "titles_cat_logistic_highb=titles_cat_logistic_highb.dropna()\n",
    "\n",
    "titles_cat_logistic_highb=shuffle(titles_cat_logistic_highb)\n",
    "\n",
    "titles_cat_logistic_highb_train=titles_cat_logistic_highb[:round((len(titles_cat_logistic_highb)*.7))]\n",
    "titles_cat_logistic_highb_test=titles_cat_logistic_highb[round((len(titles_cat_logistic_highb)*.7)):]"
   ]
  },
  {
   "cell_type": "code",
   "execution_count": 58,
   "metadata": {
    "collapsed": true
   },
   "outputs": [],
   "source": [
    "titles_cat_logistic_highb_train_x=titles_cat_logistic_highb_train.drop(['gross', 'profit_making','movie_facebook_likes','num_voted_users'],axis=1 )\n",
    "\n",
    "titles_cat_logistic_highb_test_x=titles_cat_logistic_highb_test.drop( ['gross', 'profit_making','movie_facebook_likes','num_voted_users' ],axis=1)\n",
    "\n",
    "titles_cat_logistic_highb_train_y=pd.DataFrame(titles_cat_logistic_highb_train['profit_making'])\n",
    "\n",
    "titles_cat_logistic_highb_test_y=pd.DataFrame(titles_cat_logistic_highb_test[ 'profit_making' ])"
   ]
  },
  {
   "cell_type": "code",
   "execution_count": 59,
   "metadata": {
    "collapsed": true
   },
   "outputs": [],
   "source": [
    "\n",
    "titles_cat_ml_lowb=titles_lowb.select_dtypes(exclude=['object']) \n",
    "\n",
    "titles_cat_ml_lowb_ratio=titles_cat_ml_lowb.ratio\n",
    "\n",
    "titles_cat_logistic_lowb=titles_cat_ml_lowb.drop(['ratio'], axis=1)\n",
    "\n",
    "titles_cat_logistic_lowb=titles_cat_logistic_lowb.dropna()\n",
    "\n",
    "titles_cat_logistic_lowb=shuffle(titles_cat_logistic_lowb)\n",
    "\n",
    "titles_cat_logistic_lowb_train=titles_cat_logistic_lowb[:round((len(titles_cat_logistic_lowb)*.7))]\n",
    "titles_cat_logistic_lowb_test=titles_cat_logistic_lowb[round((len(titles_cat_logistic_lowb)*.7)):]"
   ]
  },
  {
   "cell_type": "code",
   "execution_count": 60,
   "metadata": {
    "collapsed": true
   },
   "outputs": [],
   "source": [
    "titles_cat_logistic_lowb_train_x=titles_cat_logistic_lowb_train.drop(['gross', 'profit_making','movie_facebook_likes','num_voted_users'],axis=1 )\n",
    "\n",
    "titles_cat_logistic_lowb_test_x=titles_cat_logistic_lowb_test.drop( ['gross', 'profit_making','movie_facebook_likes','num_voted_users' ],axis=1)\n",
    "\n",
    "titles_cat_logistic_lowb_train_y=pd.DataFrame(titles_cat_logistic_lowb_train['profit_making'])\n",
    "\n",
    "titles_cat_logistic_lowb_test_y=pd.DataFrame(titles_cat_logistic_lowb_test[ 'profit_making' ])"
   ]
  },
  {
   "cell_type": "code",
   "execution_count": 61,
   "metadata": {},
   "outputs": [
    {
     "data": {
      "text/plain": [
       "(1474, 1032, 442)"
      ]
     },
     "execution_count": 61,
     "metadata": {},
     "output_type": "execute_result"
    }
   ],
   "source": [
    "len(titles_cat_logistic_lowb) , len(titles_cat_logistic_lowb_train) , len(titles_cat_logistic_lowb_test)"
   ]
  },
  {
   "cell_type": "code",
   "execution_count": 62,
   "metadata": {},
   "outputs": [
    {
     "data": {
      "text/plain": [
       "(1505, 1054, 451)"
      ]
     },
     "execution_count": 62,
     "metadata": {},
     "output_type": "execute_result"
    }
   ],
   "source": [
    "len(titles_cat_logistic_highb) , len(titles_cat_logistic_highb_train) , len(titles_cat_logistic_highb_test)"
   ]
  },
  {
   "cell_type": "markdown",
   "metadata": {},
   "source": [
    "#### Variable for tracking accuracy score"
   ]
  },
  {
   "cell_type": "code",
   "execution_count": 63,
   "metadata": {
    "collapsed": true
   },
   "outputs": [],
   "source": [
    "array_accuracy_score={}\n",
    "array_accuracy_score['high_b'] = {}\n",
    "array_accuracy_score['low_b'] = {}"
   ]
  },
  {
   "cell_type": "markdown",
   "metadata": {
    "collapsed": true
   },
   "source": [
    "## `Logistic Regression `"
   ]
  },
  {
   "cell_type": "code",
   "execution_count": 64,
   "metadata": {
    "collapsed": true
   },
   "outputs": [],
   "source": [
    "from sklearn.model_selection import train_test_split\n",
    "from sklearn.linear_model import LogisticRegression\n",
    "from sklearn.metrics import accuracy_score\n",
    "from sklearn.pipeline import Pipeline\n",
    "from sklearn.preprocessing import PolynomialFeatures\n",
    "from sklearn.preprocessing import StandardScaler\n"
   ]
  },
  {
   "cell_type": "code",
   "execution_count": 65,
   "metadata": {},
   "outputs": [
    {
     "data": {
      "text/plain": [
       "0.68736141906873616"
      ]
     },
     "execution_count": 65,
     "metadata": {},
     "output_type": "execute_result"
    }
   ],
   "source": [
    "logistic_regression_1= LogisticRegression()\n",
    "logistic_regression_1.fit(titles_cat_logistic_highb_train_x,titles_cat_logistic_highb_train_y.profit_making)\n",
    "accuracy_score(logistic_regression_1.predict(titles_cat_logistic_highb_test_x),titles_cat_logistic_highb_test_y.profit_making)"
   ]
  },
  {
   "cell_type": "code",
   "execution_count": 66,
   "metadata": {},
   "outputs": [
    {
     "data": {
      "text/plain": [
       "0.67647058823529416"
      ]
     },
     "execution_count": 66,
     "metadata": {},
     "output_type": "execute_result"
    }
   ],
   "source": [
    "logistic_regression_2= LogisticRegression()\n",
    "logistic_regression_2.fit(titles_cat_logistic_lowb_train_x,titles_cat_logistic_lowb_train_y.profit_making)\n",
    "accuracy_score(logistic_regression_2.predict(titles_cat_logistic_lowb_test_x),titles_cat_logistic_lowb_test_y.profit_making)"
   ]
  },
  {
   "cell_type": "code",
   "execution_count": 67,
   "metadata": {
    "collapsed": true
   },
   "outputs": [],
   "source": [
    "y=titles_cat_logistic_lowb_test_y.reset_index()\n",
    "y=y.drop('movie_title', axis=1)\n",
    "\n",
    "x=titles_cat_logistic_lowb_test_x.reset_index()\n",
    "x=x.drop('movie_title', axis=1)"
   ]
  },
  {
   "cell_type": "code",
   "execution_count": 68,
   "metadata": {},
   "outputs": [
    {
     "data": {
      "text/plain": [
       "0.68514412416851445"
      ]
     },
     "execution_count": 68,
     "metadata": {},
     "output_type": "execute_result"
    }
   ],
   "source": [
    "logistic_regression_nocross= LogisticRegression()\n",
    "logistic_regression_nocross.fit(titles_cat_logistic_highb_train_x,titles_cat_logistic_highb_train_y.profit_making)\n",
    "accuracy_score(logistic_regression_nocross.predict(titles_cat_logistic_highb_test_x),titles_cat_logistic_highb_test_y.profit_making)"
   ]
  },
  {
   "cell_type": "code",
   "execution_count": 69,
   "metadata": {
    "collapsed": true
   },
   "outputs": [],
   "source": [
    "from sklearn.model_selection import train_test_split\n",
    "from sklearn.model_selection import KFold\n",
    "from sklearn.metrics import accuracy_score\n",
    "\n",
    "def cv_score(clf, x, y, score_func=accuracy_score):\n",
    "    result = 0\n",
    "    nfold = 5\n",
    "    for train, test in KFold(nfold).split(x): # split data into train/test groups, 5 times\n",
    "        clf.fit(x.loc[train], y.loc[train]) # fit\n",
    "        result += accuracy_score(clf.predict(x.loc[test]), y.loc[test]) # evaluate score function on held-out data\n",
    "    return result / nfold # average"
   ]
  },
  {
   "cell_type": "code",
   "execution_count": 70,
   "metadata": {
    "scrolled": true
   },
   "outputs": [
    {
     "name": "stderr",
     "output_type": "stream",
     "text": [
      "/Users/mrkulkarni1/anaconda3/lib/python3.6/site-packages/sklearn/utils/validation.py:578: DataConversionWarning: A column-vector y was passed when a 1d array was expected. Please change the shape of y to (n_samples, ), for example using ravel().\n",
      "  y = column_or_1d(y, warn=True)\n"
     ]
    },
    {
     "name": "stdout",
     "output_type": "stream",
     "text": [
      "0.649514811032 10\n"
     ]
    }
   ],
   "source": [
    "score=0\n",
    "Cs = [0.001, .01, 0.1, 1,  10, 100, 1000]\n",
    "C_val=0\n",
    "for i in Cs:\n",
    "    clf = LogisticRegression(C=i)\n",
    "    if (score < cv_score(clf, x, y)):\n",
    "        score=cv_score(clf, x, y)\n",
    "        C_val=i\n",
    "        score_val=score\n",
    "\n",
    "print(score_val,C_val)\n"
   ]
  },
  {
   "cell_type": "code",
   "execution_count": 71,
   "metadata": {},
   "outputs": [
    {
     "data": {
      "text/plain": [
       "0.68514412416851445"
      ]
     },
     "execution_count": 71,
     "metadata": {},
     "output_type": "execute_result"
    }
   ],
   "source": [
    "logiastic_regression_1= LogisticRegression(C=C_val)\n",
    "logistic_regression_1.fit(titles_cat_logistic_highb_train_x,titles_cat_logistic_highb_train_y.profit_making)\n",
    "accuracy_score(logistic_regression_1.predict(titles_cat_logistic_highb_test_x),titles_cat_logistic_highb_test_y.profit_making)"
   ]
  },
  {
   "cell_type": "code",
   "execution_count": 72,
   "metadata": {},
   "outputs": [
    {
     "data": {
      "text/plain": [
       "0.66063348416289591"
      ]
     },
     "execution_count": 72,
     "metadata": {},
     "output_type": "execute_result"
    }
   ],
   "source": [
    "logistic_regression_2= LogisticRegression(C=C_val)\n",
    "logistic_regression_2.fit(titles_cat_logistic_lowb_train_x,titles_cat_logistic_lowb_train_y.profit_making)\n",
    "accuracy_score(logistic_regression_2.predict(titles_cat_logistic_lowb_test_x),titles_cat_logistic_lowb_test_y.profit_making)"
   ]
  },
  {
   "cell_type": "code",
   "execution_count": 73,
   "metadata": {
    "collapsed": true
   },
   "outputs": [],
   "source": [
    "array_accuracy_score['high_b']['lr'] = logistic_regression_1.score(titles_cat_logistic_highb_test_x,titles_cat_logistic_highb_test_y.profit_making)\n",
    "array_accuracy_score['low_b']['lr']=logistic_regression_2.score(titles_cat_logistic_lowb_test_x,titles_cat_logistic_lowb_test_y.profit_making)"
   ]
  },
  {
   "cell_type": "markdown",
   "metadata": {},
   "source": [
    "## `Logistic Regression with standard scalar`"
   ]
  },
  {
   "cell_type": "code",
   "execution_count": 74,
   "metadata": {
    "collapsed": true
   },
   "outputs": [],
   "source": [
    "from sklearn.pipeline import Pipeline\n",
    "from sklearn.preprocessing import PolynomialFeatures\n",
    "from sklearn.preprocessing import StandardScaler\n",
    "\n",
    "lgr = Pipeline([\n",
    "        (\"scaler\", StandardScaler()),\n",
    "        (\"lgr_clf\", LogisticRegression(C=.1))\n",
    "])"
   ]
  },
  {
   "cell_type": "code",
   "execution_count": 75,
   "metadata": {
    "scrolled": true
   },
   "outputs": [
    {
     "data": {
      "text/plain": [
       "0.70814479638009054"
      ]
     },
     "execution_count": 75,
     "metadata": {},
     "output_type": "execute_result"
    }
   ],
   "source": [
    "lgr.fit(titles_cat_logistic_lowb_train_x,titles_cat_logistic_lowb_train_y.profit_making)\n",
    "lgr.score(titles_cat_logistic_lowb_test_x,titles_cat_logistic_lowb_test_y.profit_making)"
   ]
  },
  {
   "cell_type": "code",
   "execution_count": 76,
   "metadata": {},
   "outputs": [
    {
     "data": {
      "text/plain": [
       "0.69844789356984482"
      ]
     },
     "execution_count": 76,
     "metadata": {},
     "output_type": "execute_result"
    }
   ],
   "source": [
    "lgr2 = Pipeline([\n",
    "        (\"scaler\", StandardScaler()),\n",
    "        (\"lgr_clf\", LogisticRegression(C=.1))\n",
    "])\n",
    "lgr2.fit(titles_cat_logistic_highb_train_x,titles_cat_logistic_highb_train_y.profit_making)\n",
    "lgr2.score(titles_cat_logistic_highb_test_x,titles_cat_logistic_highb_test_y.profit_making)"
   ]
  },
  {
   "cell_type": "markdown",
   "metadata": {
    "collapsed": true
   },
   "source": [
    "## `Support Vector Machine`"
   ]
  },
  {
   "cell_type": "code",
   "execution_count": 77,
   "metadata": {
    "collapsed": true
   },
   "outputs": [],
   "source": [
    "from sklearn.svm import SVC\n",
    "from sklearn.svm import SVR\n",
    "from sklearn.svm import LinearSVC\n"
   ]
  },
  {
   "cell_type": "code",
   "execution_count": 78,
   "metadata": {
    "collapsed": true
   },
   "outputs": [],
   "source": [
    "poly_kernel_svm_clf = Pipeline([\n",
    "        (\"scaler\", StandardScaler()),\n",
    "        (\"svm_clf\", SVC(kernel=\"poly\"))\n",
    "])\n"
   ]
  },
  {
   "cell_type": "code",
   "execution_count": 79,
   "metadata": {
    "scrolled": false
   },
   "outputs": [
    {
     "data": {
      "text/plain": [
       "0.5678733031674208"
      ]
     },
     "execution_count": 79,
     "metadata": {},
     "output_type": "execute_result"
    }
   ],
   "source": [
    "poly_kernel_svm_clf.fit(titles_cat_logistic_lowb_train_x,titles_cat_logistic_lowb_train_y.profit_making)\n",
    "poly_kernel_svm_clf.score(titles_cat_logistic_lowb_train_x,titles_cat_logistic_lowb_train_y.profit_making)\n",
    "poly_kernel_svm_clf.score(titles_cat_logistic_lowb_test_x,titles_cat_logistic_lowb_test_y.profit_making)"
   ]
  },
  {
   "cell_type": "code",
   "execution_count": 80,
   "metadata": {
    "collapsed": true
   },
   "outputs": [],
   "source": [
    "x=titles_cat_logistic_lowb_train_x.reset_index() \n",
    "x=x.drop('movie_title', axis=1)\n",
    "y=titles_cat_logistic_lowb_train_y.reset_index()\n",
    "y=y.drop('movie_title', axis=1)"
   ]
  },
  {
   "cell_type": "code",
   "execution_count": 81,
   "metadata": {
    "collapsed": true
   },
   "outputs": [],
   "source": [
    "poly_kernel_svm_clf_cross = Pipeline([\n",
    "        (\"scaler\", StandardScaler()),\n",
    "        (\"svm_clf\", SVC(kernel=\"poly\", degree=3, coef0=10, C=1))\n",
    "])\n"
   ]
  },
  {
   "cell_type": "code",
   "execution_count": 82,
   "metadata": {
    "collapsed": true
   },
   "outputs": [],
   "source": [
    "from sklearn.model_selection import GridSearchCV\n"
   ]
  },
  {
   "cell_type": "code",
   "execution_count": 83,
   "metadata": {},
   "outputs": [
    {
     "data": {
      "text/plain": [
       "GridSearchCV(cv=5, error_score='raise',\n",
       "       estimator=Pipeline(memory=None,\n",
       "     steps=[('scaler', StandardScaler(copy=True, with_mean=True, with_std=True)), ('svm_clf', SVC(C=1, cache_size=200, class_weight=None, coef0=10,\n",
       "  decision_function_shape='ovr', degree=3, gamma='auto', kernel='poly',\n",
       "  max_iter=-1, probability=False, random_state=None, shrinking=True,\n",
       "  tol=0.001, verbose=False))]),\n",
       "       fit_params=None, iid=True, n_jobs=1,\n",
       "       param_grid=[{'svm_clf__degree': [1, 2, 3], 'svm_clf__C': [0.1, 1, 10, 100]}],\n",
       "       pre_dispatch='2*n_jobs', refit=True, return_train_score='warn',\n",
       "       scoring=None, verbose=0)"
      ]
     },
     "execution_count": 83,
     "metadata": {},
     "output_type": "execute_result"
    }
   ],
   "source": [
    "param_grid = [{'svm_clf__degree': [1,2,3] , 'svm_clf__C':[.1,1,10,100]},]\n",
    "clf = poly_kernel_svm_clf_cross\n",
    "grid_search=GridSearchCV(clf,param_grid,cv=5)\n",
    "grid_search.fit(titles_cat_logistic_lowb_train_x,titles_cat_logistic_lowb_train_y.profit_making)"
   ]
  },
  {
   "cell_type": "code",
   "execution_count": 84,
   "metadata": {},
   "outputs": [
    {
     "data": {
      "text/plain": [
       "0.70135746606334837"
      ]
     },
     "execution_count": 84,
     "metadata": {},
     "output_type": "execute_result"
    }
   ],
   "source": [
    "grid_search.score(titles_cat_logistic_lowb_test_x,titles_cat_logistic_lowb_test_y.profit_making)"
   ]
  },
  {
   "cell_type": "code",
   "execution_count": 85,
   "metadata": {},
   "outputs": [
    {
     "data": {
      "text/plain": [
       "array([[138,  58],\n",
       "       [ 74, 172]])"
      ]
     },
     "execution_count": 85,
     "metadata": {},
     "output_type": "execute_result"
    }
   ],
   "source": [
    "sklearn.metrics.confusion_matrix(titles_cat_logistic_lowb_test_y,grid_search.predict(titles_cat_logistic_lowb_test_x))"
   ]
  },
  {
   "cell_type": "code",
   "execution_count": 86,
   "metadata": {
    "collapsed": true
   },
   "outputs": [],
   "source": [
    "array_accuracy_score['low_b']['svm']=grid_search.score(titles_cat_logistic_lowb_test_x,titles_cat_logistic_lowb_test_y.profit_making)"
   ]
  },
  {
   "cell_type": "markdown",
   "metadata": {},
   "source": [
    "#### High budget movie classification"
   ]
  },
  {
   "cell_type": "code",
   "execution_count": 87,
   "metadata": {},
   "outputs": [
    {
     "data": {
      "text/plain": [
       "GridSearchCV(cv=5, error_score='raise',\n",
       "       estimator=Pipeline(memory=None,\n",
       "     steps=[('scaler', StandardScaler(copy=True, with_mean=True, with_std=True)), ('svm_clf', SVC(C=1, cache_size=200, class_weight=None, coef0=10,\n",
       "  decision_function_shape='ovr', degree=2, gamma='auto', kernel='poly',\n",
       "  max_iter=-1, probability=False, random_state=None, shrinking=True,\n",
       "  tol=0.001, verbose=False))]),\n",
       "       fit_params=None, iid=True, n_jobs=1,\n",
       "       param_grid=[{'svm_clf__degree': [1, 2, 3], 'svm_clf__C': [0.1, 1, 10, 100]}],\n",
       "       pre_dispatch='2*n_jobs', refit=True, return_train_score='warn',\n",
       "       scoring=None, verbose=0)"
      ]
     },
     "execution_count": 87,
     "metadata": {},
     "output_type": "execute_result"
    }
   ],
   "source": [
    "clf_2 = Pipeline([\n",
    "        (\"scaler\", StandardScaler()),\n",
    "        (\"svm_clf\", SVC(kernel='poly', coef0=10, C=1, degree=2))\n",
    "])\n",
    "param_grid = [{'svm_clf__degree': [1,2,3] , 'svm_clf__C':[.1,1,10,100]},]\n",
    "grid_search_2=GridSearchCV(clf_2,param_grid,cv=5)\n",
    "grid_search_2.fit(titles_cat_logistic_highb_train_x,titles_cat_logistic_highb_train_y.profit_making)"
   ]
  },
  {
   "cell_type": "code",
   "execution_count": 88,
   "metadata": {},
   "outputs": [
    {
     "data": {
      "text/plain": [
       "{'svm_clf__C': 100, 'svm_clf__degree': 2}"
      ]
     },
     "execution_count": 88,
     "metadata": {},
     "output_type": "execute_result"
    }
   ],
   "source": [
    "grid_search_2.best_params_"
   ]
  },
  {
   "cell_type": "code",
   "execution_count": 89,
   "metadata": {},
   "outputs": [
    {
     "data": {
      "text/plain": [
       "0.64079822616407978"
      ]
     },
     "execution_count": 89,
     "metadata": {},
     "output_type": "execute_result"
    }
   ],
   "source": [
    "grid_search_2.score(titles_cat_logistic_highb_test_x,titles_cat_logistic_highb_test_y.profit_making)"
   ]
  },
  {
   "cell_type": "code",
   "execution_count": 90,
   "metadata": {},
   "outputs": [
    {
     "data": {
      "text/plain": [
       "array([[202,  51],\n",
       "       [111,  87]])"
      ]
     },
     "execution_count": 90,
     "metadata": {},
     "output_type": "execute_result"
    }
   ],
   "source": [
    "sklearn.metrics.confusion_matrix(titles_cat_logistic_highb_test_y,grid_search_2.predict(titles_cat_logistic_highb_test_x))"
   ]
  },
  {
   "cell_type": "code",
   "execution_count": 91,
   "metadata": {
    "collapsed": true
   },
   "outputs": [],
   "source": [
    "array_accuracy_score['high_b']['svm']=grid_search_2.score(titles_cat_logistic_highb_test_x,titles_cat_logistic_highb_test_y.profit_making)"
   ]
  },
  {
   "cell_type": "markdown",
   "metadata": {
    "collapsed": true
   },
   "source": [
    "## `Random forest` "
   ]
  },
  {
   "cell_type": "code",
   "execution_count": 92,
   "metadata": {
    "collapsed": true
   },
   "outputs": [],
   "source": [
    "from sklearn.ensemble import RandomForestClassifier"
   ]
  },
  {
   "cell_type": "code",
   "execution_count": 93,
   "metadata": {},
   "outputs": [
    {
     "data": {
      "text/plain": [
       "0.64253393665158376"
      ]
     },
     "execution_count": 93,
     "metadata": {},
     "output_type": "execute_result"
    }
   ],
   "source": [
    "rnd_clf = RandomForestClassifier()\n",
    "rnd_clf.fit(titles_cat_logistic_lowb_train_x,titles_cat_logistic_lowb_train_y.profit_making)\n",
    "rnd_clf.score(titles_cat_logistic_lowb_test_x,titles_cat_logistic_lowb_test_y.profit_making)"
   ]
  },
  {
   "cell_type": "code",
   "execution_count": 94,
   "metadata": {
    "collapsed": true
   },
   "outputs": [],
   "source": [
    "x=titles_cat_logistic_lowb_train_x.reset_index() \n",
    "x=x.drop('movie_title', axis=1)\n",
    "y=titles_cat_logistic_lowb_train_y.reset_index()\n",
    "y=y.drop('movie_title', axis=1)"
   ]
  },
  {
   "cell_type": "code",
   "execution_count": 95,
   "metadata": {
    "scrolled": true
   },
   "outputs": [
    {
     "name": "stdout",
     "output_type": "stream",
     "text": [
      "0.699591951597 10 100\n",
      "0.705374982412 10 1000\n",
      "0.709281928615 100 1000\n",
      "0.714126917124 100 10000\n",
      "0.714126917124 100 10000\n"
     ]
    }
   ],
   "source": [
    "import warnings\n",
    "warnings.filterwarnings('ignore')\n",
    "\n",
    "score=0\n",
    "m= [10,100,1000]\n",
    "n= [100,1000,10000]\n",
    "#kernel=['linear','rbf','poly']\n",
    "max_nodes_final,n_estim_fianl=0,0\n",
    "\n",
    "for max_nodes in m:\n",
    "    for n_estim in n:\n",
    "        clf = RandomForestClassifier(n_estimators=n_estim, max_leaf_nodes=max_nodes, n_jobs=-1, random_state=42)\n",
    "        if (score < cv_score(clf, x, y)):\n",
    "            score=cv_score(clf, x, y)\n",
    "            score_val=score\n",
    "            max_nodes_final=max_nodes\n",
    "            n_estim_fianl=n_estim\n",
    "            print(score_val,max_nodes,n_estim)\n",
    "        \n",
    "\n",
    "print(score_val,max_nodes_final,n_estim_fianl)\n"
   ]
  },
  {
   "cell_type": "code",
   "execution_count": 96,
   "metadata": {},
   "outputs": [
    {
     "data": {
      "text/plain": [
       "0.70588235294117652"
      ]
     },
     "execution_count": 96,
     "metadata": {},
     "output_type": "execute_result"
    }
   ],
   "source": [
    "rnd_clf = RandomForestClassifier(n_estimators=n_estim_fianl, max_leaf_nodes=max_nodes_final, n_jobs=-1, random_state=42)\n",
    "rnd_clf.fit(titles_cat_logistic_lowb_train_x,titles_cat_logistic_lowb_train_y.profit_making)\n",
    "rnd_clf.score(titles_cat_logistic_lowb_test_x,titles_cat_logistic_lowb_test_y.profit_making)"
   ]
  },
  {
   "cell_type": "code",
   "execution_count": 97,
   "metadata": {},
   "outputs": [
    {
     "data": {
      "text/plain": [
       "array([[111,  85],\n",
       "       [ 45, 201]])"
      ]
     },
     "execution_count": 97,
     "metadata": {},
     "output_type": "execute_result"
    }
   ],
   "source": [
    "sklearn.metrics.confusion_matrix(titles_cat_logistic_lowb_test_y,rnd_clf.predict(titles_cat_logistic_lowb_test_x))"
   ]
  },
  {
   "cell_type": "code",
   "execution_count": 98,
   "metadata": {
    "collapsed": true
   },
   "outputs": [],
   "source": [
    "array_accuracy_score['low_b']['rnd']=rnd_clf.score(titles_cat_logistic_lowb_test_x,titles_cat_logistic_lowb_test_y.profit_making)"
   ]
  },
  {
   "cell_type": "code",
   "execution_count": 99,
   "metadata": {
    "collapsed": true
   },
   "outputs": [],
   "source": [
    "x=titles_cat_logistic_highb_train_x.reset_index() \n",
    "x=x.drop('movie_title', axis=1)\n",
    "y=titles_cat_logistic_highb_train_y.reset_index()\n",
    "y=y.drop('movie_title', axis=1)"
   ]
  },
  {
   "cell_type": "code",
   "execution_count": 100,
   "metadata": {
    "scrolled": true
   },
   "outputs": [
    {
     "name": "stdout",
     "output_type": "stream",
     "text": [
      "0.655572105619 10 100\n",
      "0.689713382984 100 100\n",
      "0.694470774092 1000 1000\n",
      "0.694470774092 1000 1000\n"
     ]
    }
   ],
   "source": [
    "import warnings\n",
    "warnings.filterwarnings('ignore')\n",
    "score=0\n",
    "m= [10,100,1000]\n",
    "n= [100,1000,10000]\n",
    "#kernel=['linear','rbf','poly']\n",
    "max_nodes_final,n_estim_fianl=0,0\n",
    "\n",
    "for max_nodes in m:\n",
    "    for n_estim in n:\n",
    "        clf = RandomForestClassifier(n_estimators=n_estim, max_leaf_nodes=max_nodes, n_jobs=-1, random_state=42)\n",
    "        if (score < cv_score(clf, x, y)):\n",
    "            score=cv_score(clf, x, y)\n",
    "            score_val=score\n",
    "            max_nodes_final=max_nodes\n",
    "            n_estim_fianl=n_estim\n",
    "            print(score_val,max_nodes,n_estim) \n",
    "\n",
    "print(score_val,max_nodes_final,n_estim_fianl)   "
   ]
  },
  {
   "cell_type": "code",
   "execution_count": 101,
   "metadata": {},
   "outputs": [
    {
     "data": {
      "text/plain": [
       "0.69179600886917958"
      ]
     },
     "execution_count": 101,
     "metadata": {},
     "output_type": "execute_result"
    }
   ],
   "source": [
    "rnd_clf2 = RandomForestClassifier(n_estimators=n_estim_fianl, max_leaf_nodes=max_nodes_final, n_jobs=-1, random_state=42)\n",
    "rnd_clf2.fit(titles_cat_logistic_highb_train_x,titles_cat_logistic_highb_train_y.profit_making)\n",
    "rnd_clf2.score(titles_cat_logistic_highb_test_x,titles_cat_logistic_highb_test_y.profit_making)"
   ]
  },
  {
   "cell_type": "code",
   "execution_count": 102,
   "metadata": {},
   "outputs": [
    {
     "data": {
      "text/plain": [
       "array([[207,  46],\n",
       "       [ 93, 105]])"
      ]
     },
     "execution_count": 102,
     "metadata": {},
     "output_type": "execute_result"
    }
   ],
   "source": [
    "sklearn.metrics.confusion_matrix(titles_cat_logistic_highb_test_y,rnd_clf2.predict(titles_cat_logistic_highb_test_x))"
   ]
  },
  {
   "cell_type": "code",
   "execution_count": 103,
   "metadata": {
    "collapsed": true
   },
   "outputs": [],
   "source": [
    "rnd = RandomForestClassifier(n_estimators=10, max_leaf_nodes=10, n_jobs=-1, random_state=42)"
   ]
  },
  {
   "cell_type": "code",
   "execution_count": 104,
   "metadata": {},
   "outputs": [
    {
     "data": {
      "text/plain": [
       "GridSearchCV(cv=5, error_score='raise',\n",
       "       estimator=RandomForestClassifier(bootstrap=True, class_weight=None, criterion='gini',\n",
       "            max_depth=None, max_features='auto', max_leaf_nodes=10,\n",
       "            min_impurity_decrease=0.0, min_impurity_split=None,\n",
       "            min_samples_leaf=1, min_samples_split=2,\n",
       "            min_weight_fraction_leaf=0.0, n_estimators=10, n_jobs=-1,\n",
       "            oob_score=False, random_state=42, verbose=0, warm_start=False),\n",
       "       fit_params=None, iid=True, n_jobs=1,\n",
       "       param_grid=[{'n_estimators': [100, 1000, 10000], 'max_leaf_nodes': [100, 1000, 10000]}],\n",
       "       pre_dispatch='2*n_jobs', refit=True, return_train_score='warn',\n",
       "       scoring=None, verbose=0)"
      ]
     },
     "execution_count": 104,
     "metadata": {},
     "output_type": "execute_result"
    }
   ],
   "source": [
    "param_grid_rnd = [{'n_estimators': [100,1000,10000] , 'max_leaf_nodes':[100,1000,10000]},]\n",
    "grid_search_rnd=GridSearchCV(rnd,param_grid_rnd,cv=5)\n",
    "grid_search_rnd.fit(titles_cat_logistic_highb_train_x,titles_cat_logistic_highb_train_y.profit_making)"
   ]
  },
  {
   "cell_type": "code",
   "execution_count": 105,
   "metadata": {},
   "outputs": [
    {
     "data": {
      "text/plain": [
       "RandomForestClassifier(bootstrap=True, class_weight=None, criterion='gini',\n",
       "            max_depth=None, max_features='auto', max_leaf_nodes=1000,\n",
       "            min_impurity_decrease=0.0, min_impurity_split=None,\n",
       "            min_samples_leaf=1, min_samples_split=2,\n",
       "            min_weight_fraction_leaf=0.0, n_estimators=10000, n_jobs=-1,\n",
       "            oob_score=False, random_state=42, verbose=0, warm_start=False)"
      ]
     },
     "execution_count": 105,
     "metadata": {},
     "output_type": "execute_result"
    }
   ],
   "source": [
    "grid_search_rnd.best_estimator_"
   ]
  },
  {
   "cell_type": "code",
   "execution_count": 106,
   "metadata": {},
   "outputs": [
    {
     "data": {
      "text/plain": [
       "0.68070953436807091"
      ]
     },
     "execution_count": 106,
     "metadata": {},
     "output_type": "execute_result"
    }
   ],
   "source": [
    "grid_search_rnd.score(titles_cat_logistic_highb_test_x,titles_cat_logistic_highb_test_y.profit_making)"
   ]
  },
  {
   "cell_type": "code",
   "execution_count": 107,
   "metadata": {},
   "outputs": [
    {
     "data": {
      "text/plain": [
       "array([[203,  50],\n",
       "       [ 94, 104]])"
      ]
     },
     "execution_count": 107,
     "metadata": {},
     "output_type": "execute_result"
    }
   ],
   "source": [
    "sklearn.metrics.confusion_matrix(titles_cat_logistic_highb_test_y,grid_search_rnd.predict(titles_cat_logistic_highb_test_x))"
   ]
  },
  {
   "cell_type": "code",
   "execution_count": 108,
   "metadata": {
    "collapsed": true
   },
   "outputs": [],
   "source": [
    "array_accuracy_score['high_b']['rnd']=grid_search_rnd.score(titles_cat_logistic_highb_test_x,titles_cat_logistic_highb_test_y.profit_making)"
   ]
  },
  {
   "cell_type": "markdown",
   "metadata": {},
   "source": [
    "## `Voting Classifier`"
   ]
  },
  {
   "cell_type": "code",
   "execution_count": 109,
   "metadata": {
    "collapsed": true
   },
   "outputs": [],
   "source": [
    "from sklearn.ensemble import VotingClassifier\n"
   ]
  },
  {
   "cell_type": "code",
   "execution_count": 110,
   "metadata": {
    "collapsed": true
   },
   "outputs": [],
   "source": [
    "voting_clf = VotingClassifier(\n",
    "       estimators=[('lr',lgr ),  ('svc', poly_kernel_svm_clf),  ('rnd', rnd_clf)],    voting='hard')\n",
    "\n",
    "voting_clf_2 = VotingClassifier (\n",
    "       estimators=[('lr',lgr2 ),  ('svc', grid_search_2),  ('rnd', rnd_clf2)],voting='hard')\n",
    "#voting_clf.fit(X_train, y_train) '''\n"
   ]
  },
  {
   "cell_type": "code",
   "execution_count": 111,
   "metadata": {},
   "outputs": [
    {
     "data": {
      "text/plain": [
       "0.7036199095022625"
      ]
     },
     "execution_count": 111,
     "metadata": {},
     "output_type": "execute_result"
    }
   ],
   "source": [
    "voting_clf.fit(titles_cat_logistic_lowb_train_x,titles_cat_logistic_lowb_train_y.profit_making )\n",
    "voting_clf.score(titles_cat_logistic_lowb_test_x,titles_cat_logistic_lowb_test_y.profit_making)"
   ]
  },
  {
   "cell_type": "code",
   "execution_count": 112,
   "metadata": {},
   "outputs": [
    {
     "data": {
      "text/plain": [
       "array([[102,  94],\n",
       "       [ 37, 209]])"
      ]
     },
     "execution_count": 112,
     "metadata": {},
     "output_type": "execute_result"
    }
   ],
   "source": [
    "sklearn.metrics.confusion_matrix(titles_cat_logistic_lowb_test_y,voting_clf.predict(titles_cat_logistic_lowb_test_x))"
   ]
  },
  {
   "cell_type": "code",
   "execution_count": 113,
   "metadata": {
    "collapsed": true
   },
   "outputs": [],
   "source": [
    "array_accuracy_score['low_b']['voting']=voting_clf.score(titles_cat_logistic_lowb_test_x,titles_cat_logistic_lowb_test_y.profit_making)"
   ]
  },
  {
   "cell_type": "code",
   "execution_count": 114,
   "metadata": {},
   "outputs": [
    {
     "data": {
      "text/plain": [
       "0.70066518847006654"
      ]
     },
     "execution_count": 114,
     "metadata": {},
     "output_type": "execute_result"
    }
   ],
   "source": [
    "voting_clf_2.fit(titles_cat_logistic_highb_train_x,titles_cat_logistic_highb_train_y.profit_making )\n",
    "voting_clf_2.score(titles_cat_logistic_highb_test_x,titles_cat_logistic_highb_test_y.profit_making)"
   ]
  },
  {
   "cell_type": "code",
   "execution_count": 115,
   "metadata": {
    "scrolled": true
   },
   "outputs": [
    {
     "data": {
      "text/plain": [
       "array([[219,  34],\n",
       "       [101,  97]])"
      ]
     },
     "execution_count": 115,
     "metadata": {},
     "output_type": "execute_result"
    }
   ],
   "source": [
    "sklearn.metrics.confusion_matrix(titles_cat_logistic_highb_test_y,voting_clf_2.predict(titles_cat_logistic_highb_test_x))"
   ]
  },
  {
   "cell_type": "code",
   "execution_count": 116,
   "metadata": {
    "collapsed": true
   },
   "outputs": [],
   "source": [
    "array_accuracy_score['high_b']['voting']=voting_clf_2.score(titles_cat_logistic_highb_test_x,titles_cat_logistic_highb_test_y.profit_making)"
   ]
  },
  {
   "cell_type": "markdown",
   "metadata": {},
   "source": [
    "## Summarizing prediction accuracies"
   ]
  },
  {
   "cell_type": "code",
   "execution_count": 117,
   "metadata": {
    "collapsed": true
   },
   "outputs": [],
   "source": [
    "a1,b1=zip(*sorted(array_accuracy_score['high_b'].items()))\n",
    "a2,b2=zip(*sorted(array_accuracy_score['low_b'].items()))\n",
    "a1,a2,b1,b2 = np.array(a1),np.array(a2),np.array(b1),np.array(b2)\n",
    "b3=(b1+b2)/2"
   ]
  },
  {
   "cell_type": "code",
   "execution_count": 118,
   "metadata": {},
   "outputs": [
    {
     "data": {
      "text/plain": [
       "[<matplotlib.lines.Line2D at 0x1a20b4c438>]"
      ]
     },
     "execution_count": 118,
     "metadata": {},
     "output_type": "execute_result"
    },
    {
     "data": {
      "image/png": "[encoded data removed]",
      "text/plain": [
       "<matplotlib.figure.Figure at 0x1a20aa6518>"
      ]
     },
     "metadata": {},
     "output_type": "display_data"
    }
   ],
   "source": [
    "plt.ylabel('Prediction accuracy')\n",
    "plt.xlabel('Predictors')\n",
    "plt.ylim(.65,.75)\n",
    "plt.plot(a1,b3 , '-',color='RED')\n",
    "#plt.plot(a2,b2 , '-',color='BLUE')"
   ]
  },
  {
   "cell_type": "markdown",
   "metadata": {},
   "source": [
    "## `Feature weights`"
   ]
  },
  {
   "cell_type": "code",
   "execution_count": 119,
   "metadata": {
    "collapsed": true
   },
   "outputs": [],
   "source": [
    "x=pd.DataFrame(rnd_clf.feature_importances_)"
   ]
  },
  {
   "cell_type": "code",
   "execution_count": 120,
   "metadata": {
    "collapsed": true
   },
   "outputs": [],
   "source": [
    "x=x.rename(columns={0:\"weight\"})"
   ]
  },
  {
   "cell_type": "code",
   "execution_count": 121,
   "metadata": {
    "collapsed": true
   },
   "outputs": [],
   "source": [
    "x['features']=pd.DataFrame(titles_cat_logistic_lowb_train_x.columns.values)"
   ]
  },
  {
   "cell_type": "code",
   "execution_count": 122,
   "metadata": {},
   "outputs": [
    {
     "data": {
      "text/html": [
       "<div>\n",
       "<style>\n",
       "    .dataframe thead tr:only-child th {\n",
       "        text-align: right;\n",
       "    }\n",
       "\n",
       "    .dataframe thead th {\n",
       "        text-align: left;\n",
       "    }\n",
       "\n",
       "    .dataframe tbody tr th {\n",
       "        vertical-align: top;\n",
       "    }\n",
       "</style>\n",
       "<table border=\"1\" class=\"dataframe\">\n",
       "  <thead>\n",
       "    <tr style=\"text-align: right;\">\n",
       "      <th></th>\n",
       "      <th>weight</th>\n",
       "      <th>features</th>\n",
       "    </tr>\n",
       "  </thead>\n",
       "  <tbody>\n",
       "    <tr>\n",
       "      <th>7</th>\n",
       "      <td>0.181949</td>\n",
       "      <td>num_user_for_reviews</td>\n",
       "    </tr>\n",
       "    <tr>\n",
       "      <th>0</th>\n",
       "      <td>0.106905</td>\n",
       "      <td>num_critic_for_reviews</td>\n",
       "    </tr>\n",
       "    <tr>\n",
       "      <th>9</th>\n",
       "      <td>0.095192</td>\n",
       "      <td>title_year</td>\n",
       "    </tr>\n",
       "    <tr>\n",
       "      <th>8</th>\n",
       "      <td>0.074209</td>\n",
       "      <td>budget</td>\n",
       "    </tr>\n",
       "    <tr>\n",
       "      <th>1</th>\n",
       "      <td>0.066968</td>\n",
       "      <td>duration</td>\n",
       "    </tr>\n",
       "  </tbody>\n",
       "</table>\n",
       "</div>"
      ],
      "text/plain": [
       "     weight                features\n",
       "7  0.181949    num_user_for_reviews\n",
       "0  0.106905  num_critic_for_reviews\n",
       "9  0.095192              title_year\n",
       "8  0.074209                  budget\n",
       "1  0.066968                duration"
      ]
     },
     "execution_count": 122,
     "metadata": {},
     "output_type": "execute_result"
    }
   ],
   "source": [
    "x.sort_values('weight' , ascending=False).head()"
   ]
  }
 ],
 "metadata": {
  "kernelspec": {
   "display_name": "Python 3",
   "language": "python",
   "name": "python3"
  },
  "language_info": {
   "codemirror_mode": {
    "name": "ipython",
    "version": 3
   },
   "file_extension": ".py",
   "mimetype": "text/x-python",
   "name": "python",
   "nbconvert_exporter": "python",
   "pygments_lexer": "ipython3",
   "version": "3.6.3"
  }
 },
 "nbformat": 4,
 "nbformat_minor": 2
}
