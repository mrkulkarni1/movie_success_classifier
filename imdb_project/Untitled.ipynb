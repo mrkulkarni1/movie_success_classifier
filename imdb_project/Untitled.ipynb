{
 "cells": [
  {
   "cell_type": "code",
   "execution_count": 153,
   "metadata": {},
   "outputs": [
    {
     "data": {
      "text/html": [
       "<style>body {\n",
       "    margin: 0;\n",
       "    font-family: Helvetica;\n",
       "}\n",
       "table.dataframe {\n",
       "    border-collapse: collapse;\n",
       "    border: none;\n",
       "}\n",
       "table.dataframe tr {\n",
       "    border: none;\n",
       "}\n",
       "table.dataframe td, table.dataframe th {\n",
       "    margin: 0;\n",
       "    border: 1px solid white;\n",
       "    padding-left: 0.25em;\n",
       "    padding-right: 0.25em;\n",
       "}\n",
       "table.dataframe th:not(:empty) {\n",
       "    background-color: #fec;\n",
       "    text-align: left;\n",
       "    font-weight: normal;\n",
       "}\n",
       "table.dataframe tr:nth-child(2) th:empty {\n",
       "    border-left: none;\n",
       "    border-right: 1px dashed #888;\n",
       "}\n",
       "table.dataframe td {\n",
       "    border: 2px solid #ccf;\n",
       "    background-color: #f4f4ff;\n",
       "}\n",
       "h3 {\n",
       "    color: white;\n",
       "    background-color: black;\n",
       "    padding: 0.5em;\n",
       "}\n",
       "</style>"
      ],
      "text/plain": [
       "<IPython.core.display.HTML object>"
      ]
     },
     "execution_count": 153,
     "metadata": {},
     "output_type": "execute_result"
    }
   ],
   "source": [
    "%matplotlib inline\n",
    "import pandas as pd\n",
    "from IPython.core.display import HTML\n",
    "css = open('style-table.css').read() + open('style-notebook.css').read()\n",
    "HTML('<style>{}</style>'.format(css))"
   ]
  },
  {
   "cell_type": "code",
   "execution_count": 300,
   "metadata": {
    "collapsed": true
   },
   "outputs": [],
   "source": [
    "titles = pd.DataFrame.from_csv('movie_metadata.csv', index_col=None)"
   ]
  },
  {
   "cell_type": "code",
   "execution_count": 301,
   "metadata": {
    "collapsed": true
   },
   "outputs": [],
   "source": [
    "titles=titles.set_index('movie_title')"
   ]
  },
  {
   "cell_type": "code",
   "execution_count": 302,
   "metadata": {
    "collapsed": true
   },
   "outputs": [],
   "source": [
    "ratio_real_numbers=titles.gross/titles.budget\n",
    "ratio_real_numbers=pd.DataFrame(ratio_real_numbers)\n",
    "ratio_real_numbers.columns=['ratio']"
   ]
  },
  {
   "cell_type": "code",
   "execution_count": 303,
   "metadata": {},
   "outputs": [
    {
     "data": {
      "text/html": [
       "<div>\n",
       "<style>\n",
       "    .dataframe thead tr:only-child th {\n",
       "        text-align: right;\n",
       "    }\n",
       "\n",
       "    .dataframe thead th {\n",
       "        text-align: left;\n",
       "    }\n",
       "\n",
       "    .dataframe tbody tr th {\n",
       "        vertical-align: top;\n",
       "    }\n",
       "</style>\n",
       "<table border=\"1\" class=\"dataframe\">\n",
       "  <thead>\n",
       "    <tr style=\"text-align: right;\">\n",
       "      <th></th>\n",
       "      <th>ratio</th>\n",
       "    </tr>\n",
       "    <tr>\n",
       "      <th>movie_title</th>\n",
       "      <th></th>\n",
       "    </tr>\n",
       "  </thead>\n",
       "  <tbody>\n",
       "    <tr>\n",
       "      <th>Avatar</th>\n",
       "      <td>3.208885</td>\n",
       "    </tr>\n",
       "    <tr>\n",
       "      <th>Pirates of the Caribbean: At World's End</th>\n",
       "      <td>1.031347</td>\n",
       "    </tr>\n",
       "    <tr>\n",
       "      <th>Spectre</th>\n",
       "      <td>0.816629</td>\n",
       "    </tr>\n",
       "    <tr>\n",
       "      <th>The Dark Knight Rises</th>\n",
       "      <td>1.792523</td>\n",
       "    </tr>\n",
       "    <tr>\n",
       "      <th>Star Wars: Episode VII - The Force Awakens</th>\n",
       "      <td>NaN</td>\n",
       "    </tr>\n",
       "  </tbody>\n",
       "</table>\n",
       "</div>"
      ],
      "text/plain": [
       "                                                       ratio\n",
       "movie_title                                                 \n",
       "Avatar                                              3.208885\n",
       "Pirates of the Caribbean: At World's End            1.031347\n",
       "Spectre                                             0.816629\n",
       "The Dark Knight Rises                               1.792523\n",
       "Star Wars: Episode VII - The Force Awakens     ...       NaN"
      ]
     },
     "execution_count": 303,
     "metadata": {},
     "output_type": "execute_result"
    }
   ],
   "source": [
    "ratio_real_numbers.head()"
   ]
  },
  {
   "cell_type": "code",
   "execution_count": 304,
   "metadata": {},
   "outputs": [
    {
     "data": {
      "text/plain": [
       "5043"
      ]
     },
     "execution_count": 304,
     "metadata": {},
     "output_type": "execute_result"
    }
   ],
   "source": [
    "len(ratio_real_numbers)"
   ]
  },
  {
   "cell_type": "code",
   "execution_count": 305,
   "metadata": {
    "collapsed": true
   },
   "outputs": [],
   "source": [
    "titles=titles[['imdb_score', 'gross',  'budget', 'genres', 'director_name',  'color', 'num_critic_for_reviews', 'duration',\n",
    "       'director_facebook_likes', 'actor_3_facebook_likes', 'actor_2_name',\n",
    "       'actor_1_facebook_likes',  'actor_1_name',\n",
    "       'num_voted_users', 'cast_total_facebook_likes', 'actor_3_name',\n",
    "       'facenumber_in_poster', 'plot_keywords', 'movie_imdb_link',\n",
    "       'num_user_for_reviews', 'language', 'country', 'content_rating',\n",
    "        'title_year', 'actor_2_facebook_likes', \n",
    "       'aspect_ratio', 'movie_facebook_likes']]"
   ]
  },
  {
   "cell_type": "code",
   "execution_count": 306,
   "metadata": {},
   "outputs": [],
   "source": [
    "titles=titles.dropna(axis=0, subset=['imdb_score','gross', 'budget'])\n"
   ]
  },
  {
   "cell_type": "code",
   "execution_count": 307,
   "metadata": {},
   "outputs": [],
   "source": [
    "ratio_real_numbers=ratio_real_numbers.ratio.dropna()\n",
    "ratio_real_numbers=pd.DataFrame(ratio_real_numbers)\n"
   ]
  },
  {
   "cell_type": "code",
   "execution_count": 308,
   "metadata": {},
   "outputs": [
    {
     "data": {
      "text/plain": [
       "3891"
      ]
     },
     "execution_count": 308,
     "metadata": {},
     "output_type": "execute_result"
    }
   ],
   "source": [
    "len(ratio_real_numbers)"
   ]
  },
  {
   "cell_type": "code",
   "execution_count": 309,
   "metadata": {},
   "outputs": [
    {
     "data": {
      "text/html": [
       "<div>\n",
       "<style>\n",
       "    .dataframe thead tr:only-child th {\n",
       "        text-align: right;\n",
       "    }\n",
       "\n",
       "    .dataframe thead th {\n",
       "        text-align: left;\n",
       "    }\n",
       "\n",
       "    .dataframe tbody tr th {\n",
       "        vertical-align: top;\n",
       "    }\n",
       "</style>\n",
       "<table border=\"1\" class=\"dataframe\">\n",
       "  <thead>\n",
       "    <tr style=\"text-align: right;\">\n",
       "      <th></th>\n",
       "      <th>ratio</th>\n",
       "    </tr>\n",
       "    <tr>\n",
       "      <th>movie_title</th>\n",
       "      <th></th>\n",
       "    </tr>\n",
       "  </thead>\n",
       "  <tbody>\n",
       "    <tr>\n",
       "      <th>Avatar</th>\n",
       "      <td>3.208885</td>\n",
       "    </tr>\n",
       "    <tr>\n",
       "      <th>Pirates of the Caribbean: At World's End</th>\n",
       "      <td>1.031347</td>\n",
       "    </tr>\n",
       "    <tr>\n",
       "      <th>Spectre</th>\n",
       "      <td>0.816629</td>\n",
       "    </tr>\n",
       "    <tr>\n",
       "      <th>The Dark Knight Rises</th>\n",
       "      <td>1.792523</td>\n",
       "    </tr>\n",
       "    <tr>\n",
       "      <th>John Carter</th>\n",
       "      <td>0.277052</td>\n",
       "    </tr>\n",
       "  </tbody>\n",
       "</table>\n",
       "</div>"
      ],
      "text/plain": [
       "                                              ratio\n",
       "movie_title                                        \n",
       "Avatar                                     3.208885\n",
       "Pirates of the Caribbean: At World's End   1.031347\n",
       "Spectre                                    0.816629\n",
       "The Dark Knight Rises                      1.792523\n",
       "John Carter                                0.277052"
      ]
     },
     "execution_count": 309,
     "metadata": {},
     "output_type": "execute_result"
    }
   ],
   "source": [
    "ratio_real_numbers.head()"
   ]
  },
  {
   "cell_type": "code",
   "execution_count": 310,
   "metadata": {},
   "outputs": [
    {
     "data": {
      "text/plain": [
       "'    \\n    def sample_stat(self, sample):\\n        \"\"\"Computes a sample statistic using the original sample or a\\n        simulated sample.\\n        \"\"\"\\n        return sample.mean()\\n    \\n    def compute_sampling_distribution(self, iters=1000):\\n        \"\"\"Simulates many experiments and collects the resulting sample\\n        statistics.\\n        \"\"\"\\n        stats = [self.sample_stat(self.resample()) for i in range(iters)]\\n        return numpy.array(stats)\\n    \\n    def plot_sampling_distribution(self):\\n        \"\"\"Plots the sampling distribution.\"\"\"\\n        sample_stats = self.compute_sampling_distribution()\\n        se = sample_stats.std()\\n        ci = numpy.percentile(sample_stats, [5, 95])\\n        me= sample_stats.mean()\\n        \\n        pyplot.hist(sample_stats, color=COLOR2)\\n        pyplot.xlabel(\\'sample statistic\\')\\n        pyplot.xlim(self.xlim)\\n        text(0.03, 0.95, \\'CI [%0.2f %0.2f]\\' % tuple(ci))\\n        text(0.03, 0.85, \\'SE %0.2f\\' % se)\\n        text(0.03, 0.75, \\'mean %0.2f\\' % me)\\n        pyplot.show()\\n'"
      ]
     },
     "execution_count": 310,
     "metadata": {},
     "output_type": "execute_result"
    }
   ],
   "source": [
    "class Cleaner(object):\n",
    "    \"\"\"Represents a framework for computing sampling distributions.\"\"\"\n",
    "    \n",
    "    def __init__(self, sample, xlim=None):\n",
    "        \"\"\"Stores the actual sample.\"\"\"\n",
    "        self.sample = sample\n",
    "        self.n = len(sample)\n",
    "        self.xlim = xlim\n",
    "        \n",
    "    def Normalizer(self,string):\n",
    "        \"\"\"Generates a new sample by choosing from the original\n",
    "        sample with replacement.\n",
    "        \"\"\"\n",
    "        \n",
    "        new_sample = numpy.random.choice(self.sample, self.n, replace=True)\n",
    "        return new_sample    \n",
    "        \n",
    "        \n",
    "'''    \n",
    "    def sample_stat(self, sample):\n",
    "        \"\"\"Computes a sample statistic using the original sample or a\n",
    "        simulated sample.\n",
    "        \"\"\"\n",
    "        return sample.mean()\n",
    "    \n",
    "    def compute_sampling_distribution(self, iters=1000):\n",
    "        \"\"\"Simulates many experiments and collects the resulting sample\n",
    "        statistics.\n",
    "        \"\"\"\n",
    "        stats = [self.sample_stat(self.resample()) for i in range(iters)]\n",
    "        return numpy.array(stats)\n",
    "    \n",
    "    def plot_sampling_distribution(self):\n",
    "        \"\"\"Plots the sampling distribution.\"\"\"\n",
    "        sample_stats = self.compute_sampling_distribution()\n",
    "        se = sample_stats.std()\n",
    "        ci = numpy.percentile(sample_stats, [5, 95])\n",
    "        me= sample_stats.mean()\n",
    "        \n",
    "        pyplot.hist(sample_stats, color=COLOR2)\n",
    "        pyplot.xlabel('sample statistic')\n",
    "        pyplot.xlim(self.xlim)\n",
    "        text(0.03, 0.95, 'CI [%0.2f %0.2f]' % tuple(ci))\n",
    "        text(0.03, 0.85, 'SE %0.2f' % se)\n",
    "        text(0.03, 0.75, 'mean %0.2f' % me)\n",
    "        pyplot.show()\n",
    "'''"
   ]
  },
  {
   "cell_type": "code",
   "execution_count": 311,
   "metadata": {},
   "outputs": [
    {
     "data": {
      "text/plain": [
       "dtype('float64')"
      ]
     },
     "execution_count": 311,
     "metadata": {},
     "output_type": "execute_result"
    }
   ],
   "source": [
    "titles.imdb_score.dtype"
   ]
  },
  {
   "cell_type": "code",
   "execution_count": 312,
   "metadata": {
    "collapsed": true
   },
   "outputs": [],
   "source": [
    "import numpy"
   ]
  },
  {
   "cell_type": "code",
   "execution_count": 313,
   "metadata": {},
   "outputs": [
    {
     "data": {
      "text/plain": [
       "False"
      ]
     },
     "execution_count": 313,
     "metadata": {},
     "output_type": "execute_result"
    }
   ],
   "source": [
    "numpy.issubdtype(titles.genres.dtype, numpy.number)\n"
   ]
  },
  {
   "cell_type": "code",
   "execution_count": 314,
   "metadata": {
    "collapsed": true
   },
   "outputs": [],
   "source": [
    "def normalize(array1, name):\n",
    "    print (\"normalizing \"+name);\n",
    "    array=array1\n",
    "    array=array/array.std()\n",
    "    array=array-array.mean()\n",
    "    return(array);"
   ]
  },
  {
   "cell_type": "code",
   "execution_count": 315,
   "metadata": {},
   "outputs": [
    {
     "name": "stdout",
     "output_type": "stream",
     "text": [
      "imdb_score: true\n",
      "normalizing imdb_score\n",
      "gross: true\n",
      "normalizing gross\n",
      "budget: true\n",
      "normalizing budget\n",
      "genres:false\n",
      "director_name:false\n",
      "color:false\n",
      "num_critic_for_reviews: true\n",
      "normalizing num_critic_for_reviews\n",
      "duration: true\n",
      "normalizing duration\n",
      "director_facebook_likes: true\n",
      "normalizing director_facebook_likes\n",
      "actor_3_facebook_likes: true\n",
      "normalizing actor_3_facebook_likes\n",
      "actor_2_name:false\n",
      "actor_1_facebook_likes: true\n",
      "normalizing actor_1_facebook_likes\n",
      "actor_1_name:false\n",
      "num_voted_users: true\n",
      "normalizing num_voted_users\n",
      "cast_total_facebook_likes: true\n",
      "normalizing cast_total_facebook_likes\n",
      "actor_3_name:false\n",
      "facenumber_in_poster: true\n",
      "normalizing facenumber_in_poster\n",
      "plot_keywords:false\n",
      "movie_imdb_link:false\n",
      "num_user_for_reviews: true\n",
      "normalizing num_user_for_reviews\n",
      "language:false\n",
      "country:false\n",
      "content_rating:false\n",
      "title_year: true\n",
      "normalizing title_year\n",
      "actor_2_facebook_likes: true\n",
      "normalizing actor_2_facebook_likes\n",
      "aspect_ratio: true\n",
      "normalizing aspect_ratio\n",
      "movie_facebook_likes: true\n",
      "normalizing movie_facebook_likes\n"
     ]
    }
   ],
   "source": [
    "for column in titles:\n",
    "    if numpy.issubdtype(titles[column].dtype, numpy.number):\n",
    "        print (column + \": true\")\n",
    "        titles[column]=normalize(array1=titles[column],name=column)\n",
    "    else:\n",
    "        print (column + \":false\")\n",
    "    \n"
   ]
  },
  {
   "cell_type": "code",
   "execution_count": 316,
   "metadata": {},
   "outputs": [
    {
     "data": {
      "text/html": [
       "<div>\n",
       "<style>\n",
       "    .dataframe thead tr:only-child th {\n",
       "        text-align: right;\n",
       "    }\n",
       "\n",
       "    .dataframe thead th {\n",
       "        text-align: left;\n",
       "    }\n",
       "\n",
       "    .dataframe tbody tr th {\n",
       "        vertical-align: top;\n",
       "    }\n",
       "</style>\n",
       "<table border=\"1\" class=\"dataframe\">\n",
       "  <thead>\n",
       "    <tr style=\"text-align: right;\">\n",
       "      <th></th>\n",
       "      <th>imdb_score</th>\n",
       "      <th>gross</th>\n",
       "      <th>budget</th>\n",
       "      <th>genres</th>\n",
       "      <th>director_name</th>\n",
       "      <th>color</th>\n",
       "      <th>num_critic_for_reviews</th>\n",
       "      <th>duration</th>\n",
       "      <th>director_facebook_likes</th>\n",
       "      <th>actor_3_facebook_likes</th>\n",
       "      <th>actor_2_name</th>\n",
       "      <th>actor_1_facebook_likes</th>\n",
       "      <th>actor_1_name</th>\n",
       "      <th>num_voted_users</th>\n",
       "      <th>cast_total_facebook_likes</th>\n",
       "      <th>actor_3_name</th>\n",
       "      <th>facenumber_in_poster</th>\n",
       "      <th>plot_keywords</th>\n",
       "      <th>movie_imdb_link</th>\n",
       "      <th>num_user_for_reviews</th>\n",
       "      <th>language</th>\n",
       "      <th>country</th>\n",
       "      <th>content_rating</th>\n",
       "      <th>title_year</th>\n",
       "      <th>actor_2_facebook_likes</th>\n",
       "      <th>aspect_ratio</th>\n",
       "      <th>movie_facebook_likes</th>\n",
       "    </tr>\n",
       "    <tr>\n",
       "      <th>movie_title</th>\n",
       "      <th></th>\n",
       "      <th></th>\n",
       "      <th></th>\n",
       "      <th></th>\n",
       "      <th></th>\n",
       "      <th></th>\n",
       "      <th></th>\n",
       "      <th></th>\n",
       "      <th></th>\n",
       "      <th></th>\n",
       "      <th></th>\n",
       "      <th></th>\n",
       "      <th></th>\n",
       "      <th></th>\n",
       "      <th></th>\n",
       "      <th></th>\n",
       "      <th></th>\n",
       "      <th></th>\n",
       "      <th></th>\n",
       "      <th></th>\n",
       "      <th></th>\n",
       "      <th></th>\n",
       "      <th></th>\n",
       "      <th></th>\n",
       "      <th></th>\n",
       "      <th></th>\n",
       "      <th></th>\n",
       "    </tr>\n",
       "  </thead>\n",
       "  <tbody>\n",
       "    <tr>\n",
       "      <th>Avatar</th>\n",
       "      <td>1.360213</td>\n",
       "      <td>10.163691</td>\n",
       "      <td>0.862405</td>\n",
       "      <td>Action|Adventure|Fantasy|Sci-Fi</td>\n",
       "      <td>James Cameron</td>\n",
       "      <td>Color</td>\n",
       "      <td>4.512281</td>\n",
       "      <td>2.999263</td>\n",
       "      <td>-0.258910</td>\n",
       "      <td>0.054357</td>\n",
       "      <td>Joel David Moore</td>\n",
       "      <td>-0.428520</td>\n",
       "      <td>CCH Pounder</td>\n",
       "      <td>5.199313</td>\n",
       "      <td>-0.339706</td>\n",
       "      <td>Wes Studi</td>\n",
       "      <td>-0.671393</td>\n",
       "      <td>avatar|future|marine|native|paraplegic</td>\n",
       "      <td>http://www.imdb.com/title/tt0499549/?ref_=fn_t...</td>\n",
       "      <td>6.682961</td>\n",
       "      <td>English</td>\n",
       "      <td>USA</td>\n",
       "      <td>PG-13</td>\n",
       "      <td>0.591773</td>\n",
       "      <td>-0.230655</td>\n",
       "      <td>-0.935687</td>\n",
       "      <td>1.120129</td>\n",
       "    </tr>\n",
       "    <tr>\n",
       "      <th>Pirates of the Caribbean: At World's End</th>\n",
       "      <td>0.602695</td>\n",
       "      <td>3.701146</td>\n",
       "      <td>1.145692</td>\n",
       "      <td>Action|Adventure|Fantasy</td>\n",
       "      <td>Gore Verbinski</td>\n",
       "      <td>Color</td>\n",
       "      <td>1.118590</td>\n",
       "      <td>2.602906</td>\n",
       "      <td>-0.072343</td>\n",
       "      <td>0.132037</td>\n",
       "      <td>Orlando Bloom</td>\n",
       "      <td>2.109538</td>\n",
       "      <td>Johnny Depp</td>\n",
       "      <td>2.445899</td>\n",
       "      <td>1.959643</td>\n",
       "      <td>Jack Davenport</td>\n",
       "      <td>-0.671393</td>\n",
       "      <td>goddess|marriage ceremony|marriage proposal|pi...</td>\n",
       "      <td>http://www.imdb.com/title/tt0449088/?ref_=fn_t...</td>\n",
       "      <td>2.232049</td>\n",
       "      <td>English</td>\n",
       "      <td>USA</td>\n",
       "      <td>PG-13</td>\n",
       "      <td>0.391800</td>\n",
       "      <td>0.675329</td>\n",
       "      <td>0.681720</td>\n",
       "      <td>-0.428966</td>\n",
       "    </tr>\n",
       "    <tr>\n",
       "      <th>Spectre</th>\n",
       "      <td>0.318626</td>\n",
       "      <td>2.134869</td>\n",
       "      <td>0.898378</td>\n",
       "      <td>Action|Adventure|Thriller</td>\n",
       "      <td>Sam Mendes</td>\n",
       "      <td>Color</td>\n",
       "      <td>3.536897</td>\n",
       "      <td>1.678072</td>\n",
       "      <td>-0.258910</td>\n",
       "      <td>-0.317435</td>\n",
       "      <td>Rory Kinnear</td>\n",
       "      <td>0.222264</td>\n",
       "      <td>Christoph Waltz</td>\n",
       "      <td>1.149741</td>\n",
       "      <td>0.023088</td>\n",
       "      <td>Stephanie Sigman</td>\n",
       "      <td>-0.184849</td>\n",
       "      <td>bomb|espionage|sequel|spy|terrorist</td>\n",
       "      <td>http://www.imdb.com/title/tt2379713/?ref_=fn_t...</td>\n",
       "      <td>1.634019</td>\n",
       "      <td>English</td>\n",
       "      <td>UK</td>\n",
       "      <td>PG-13</td>\n",
       "      <td>1.191692</td>\n",
       "      <td>-0.351706</td>\n",
       "      <td>0.681720</td>\n",
       "      <td>3.561127</td>\n",
       "    </tr>\n",
       "    <tr>\n",
       "      <th>The Dark Knight Rises</th>\n",
       "      <td>1.928352</td>\n",
       "      <td>5.688560</td>\n",
       "      <td>0.920861</td>\n",
       "      <td>Action|Thriller</td>\n",
       "      <td>Christopher Nolan</td>\n",
       "      <td>Color</td>\n",
       "      <td>5.237773</td>\n",
       "      <td>2.382707</td>\n",
       "      <td>7.031465</td>\n",
       "      <td>11.917968</td>\n",
       "      <td>Christian Bale</td>\n",
       "      <td>1.263519</td>\n",
       "      <td>Tom Hardy</td>\n",
       "      <td>6.912022</td>\n",
       "      <td>5.045926</td>\n",
       "      <td>Joseph Gordon-Levitt</td>\n",
       "      <td>-0.671393</td>\n",
       "      <td>deception|imprisonment|lawlessness|police offi...</td>\n",
       "      <td>http://www.imdb.com/title/tt1345836/?ref_=fn_t...</td>\n",
       "      <td>5.817778</td>\n",
       "      <td>English</td>\n",
       "      <td>USA</td>\n",
       "      <td>PG-13</td>\n",
       "      <td>0.891732</td>\n",
       "      <td>4.688053</td>\n",
       "      <td>0.681720</td>\n",
       "      <td>7.269567</td>\n",
       "    </tr>\n",
       "    <tr>\n",
       "      <th>John Carter</th>\n",
       "      <td>0.129246</td>\n",
       "      <td>0.315228</td>\n",
       "      <td>0.982464</td>\n",
       "      <td>Action|Adventure|Sci-Fi</td>\n",
       "      <td>Andrew Stanton</td>\n",
       "      <td>Color</td>\n",
       "      <td>2.408354</td>\n",
       "      <td>0.973436</td>\n",
       "      <td>-0.101504</td>\n",
       "      <td>-0.119753</td>\n",
       "      <td>Samantha Morton</td>\n",
       "      <td>-0.451949</td>\n",
       "      <td>Daryl Sabara</td>\n",
       "      <td>0.727331</td>\n",
       "      <td>-0.496163</td>\n",
       "      <td>Polly Walker</td>\n",
       "      <td>-0.184849</td>\n",
       "      <td>alien|american civil war|male nipple|mars|prin...</td>\n",
       "      <td>http://www.imdb.com/title/tt0401729/?ref_=fn_t...</td>\n",
       "      <td>1.006578</td>\n",
       "      <td>English</td>\n",
       "      <td>USA</td>\n",
       "      <td>PG-13</td>\n",
       "      <td>0.891732</td>\n",
       "      <td>-0.298426</td>\n",
       "      <td>0.681720</td>\n",
       "      <td>0.697649</td>\n",
       "    </tr>\n",
       "  </tbody>\n",
       "</table>\n",
       "</div>"
      ],
      "text/plain": [
       "                                           imdb_score      gross    budget                           genres      director_name  color  num_critic_for_reviews  duration  director_facebook_likes  actor_3_facebook_likes      actor_2_name  actor_1_facebook_likes     actor_1_name  num_voted_users  cast_total_facebook_likes          actor_3_name  facenumber_in_poster                                      plot_keywords                                    movie_imdb_link  num_user_for_reviews language  \\\n",
       "movie_title                                                                                                                                                                                                                                                                                                                                                                                                                                                                                                        \n",
       "Avatar                                       1.360213  10.163691  0.862405  Action|Adventure|Fantasy|Sci-Fi      James Cameron  Color                4.512281  2.999263                -0.258910                0.054357  Joel David Moore               -0.428520      CCH Pounder         5.199313                  -0.339706             Wes Studi             -0.671393             avatar|future|marine|native|paraplegic  http://www.imdb.com/title/tt0499549/?ref_=fn_t...              6.682961  English   \n",
       "Pirates of the Caribbean: At World's End     0.602695   3.701146  1.145692         Action|Adventure|Fantasy     Gore Verbinski  Color                1.118590  2.602906                -0.072343                0.132037     Orlando Bloom                2.109538      Johnny Depp         2.445899                   1.959643        Jack Davenport             -0.671393  goddess|marriage ceremony|marriage proposal|pi...  http://www.imdb.com/title/tt0449088/?ref_=fn_t...              2.232049  English   \n",
       "Spectre                                      0.318626   2.134869  0.898378        Action|Adventure|Thriller         Sam Mendes  Color                3.536897  1.678072                -0.258910               -0.317435      Rory Kinnear                0.222264  Christoph Waltz         1.149741                   0.023088      Stephanie Sigman             -0.184849                bomb|espionage|sequel|spy|terrorist  http://www.imdb.com/title/tt2379713/?ref_=fn_t...              1.634019  English   \n",
       "The Dark Knight Rises                        1.928352   5.688560  0.920861                  Action|Thriller  Christopher Nolan  Color                5.237773  2.382707                 7.031465               11.917968    Christian Bale                1.263519        Tom Hardy         6.912022                   5.045926  Joseph Gordon-Levitt             -0.671393  deception|imprisonment|lawlessness|police offi...  http://www.imdb.com/title/tt1345836/?ref_=fn_t...              5.817778  English   \n",
       "John Carter                                  0.129246   0.315228  0.982464          Action|Adventure|Sci-Fi     Andrew Stanton  Color                2.408354  0.973436                -0.101504               -0.119753   Samantha Morton               -0.451949     Daryl Sabara         0.727331                  -0.496163          Polly Walker             -0.184849  alien|american civil war|male nipple|mars|prin...  http://www.imdb.com/title/tt0401729/?ref_=fn_t...              1.006578  English   \n",
       "\n",
       "                                          country content_rating  title_year  actor_2_facebook_likes  aspect_ratio  movie_facebook_likes  \n",
       "movie_title                                                                                                                               \n",
       "Avatar                                        USA          PG-13    0.591773               -0.230655     -0.935687              1.120129  \n",
       "Pirates of the Caribbean: At World's End      USA          PG-13    0.391800                0.675329      0.681720             -0.428966  \n",
       "Spectre                                        UK          PG-13    1.191692               -0.351706      0.681720              3.561127  \n",
       "The Dark Knight Rises                         USA          PG-13    0.891732                4.688053      0.681720              7.269567  \n",
       "John Carter                                   USA          PG-13    0.891732               -0.298426      0.681720              0.697649  "
      ]
     },
     "execution_count": 316,
     "metadata": {},
     "output_type": "execute_result"
    }
   ],
   "source": [
    "titles.head()"
   ]
  },
  {
   "cell_type": "code",
   "execution_count": 317,
   "metadata": {
    "collapsed": true
   },
   "outputs": [],
   "source": [
    "titles_short= titles[['imdb_score' , 'budget', 'movie_facebook_likes', 'actor_1_facebook_likes', 'director_facebook_likes' ]]"
   ]
  },
  {
   "cell_type": "code",
   "execution_count": 318,
   "metadata": {},
   "outputs": [
    {
     "data": {
      "text/html": [
       "<div>\n",
       "<style>\n",
       "    .dataframe thead tr:only-child th {\n",
       "        text-align: right;\n",
       "    }\n",
       "\n",
       "    .dataframe thead th {\n",
       "        text-align: left;\n",
       "    }\n",
       "\n",
       "    .dataframe tbody tr th {\n",
       "        vertical-align: top;\n",
       "    }\n",
       "</style>\n",
       "<table border=\"1\" class=\"dataframe\">\n",
       "  <thead>\n",
       "    <tr style=\"text-align: right;\">\n",
       "      <th></th>\n",
       "      <th>imdb_score</th>\n",
       "      <th>budget</th>\n",
       "      <th>movie_facebook_likes</th>\n",
       "      <th>actor_1_facebook_likes</th>\n",
       "      <th>director_facebook_likes</th>\n",
       "    </tr>\n",
       "    <tr>\n",
       "      <th>movie_title</th>\n",
       "      <th></th>\n",
       "      <th></th>\n",
       "      <th></th>\n",
       "      <th></th>\n",
       "      <th></th>\n",
       "    </tr>\n",
       "  </thead>\n",
       "  <tbody>\n",
       "    <tr>\n",
       "      <th>Avatar</th>\n",
       "      <td>1.360213</td>\n",
       "      <td>0.862405</td>\n",
       "      <td>1.120129</td>\n",
       "      <td>-0.428520</td>\n",
       "      <td>-0.258910</td>\n",
       "    </tr>\n",
       "    <tr>\n",
       "      <th>Pirates of the Caribbean: At World's End</th>\n",
       "      <td>0.602695</td>\n",
       "      <td>1.145692</td>\n",
       "      <td>-0.428966</td>\n",
       "      <td>2.109538</td>\n",
       "      <td>-0.072343</td>\n",
       "    </tr>\n",
       "    <tr>\n",
       "      <th>Spectre</th>\n",
       "      <td>0.318626</td>\n",
       "      <td>0.898378</td>\n",
       "      <td>3.561127</td>\n",
       "      <td>0.222264</td>\n",
       "      <td>-0.258910</td>\n",
       "    </tr>\n",
       "    <tr>\n",
       "      <th>The Dark Knight Rises</th>\n",
       "      <td>1.928352</td>\n",
       "      <td>0.920861</td>\n",
       "      <td>7.269567</td>\n",
       "      <td>1.263519</td>\n",
       "      <td>7.031465</td>\n",
       "    </tr>\n",
       "    <tr>\n",
       "      <th>John Carter</th>\n",
       "      <td>0.129246</td>\n",
       "      <td>0.982464</td>\n",
       "      <td>0.697649</td>\n",
       "      <td>-0.451949</td>\n",
       "      <td>-0.101504</td>\n",
       "    </tr>\n",
       "  </tbody>\n",
       "</table>\n",
       "</div>"
      ],
      "text/plain": [
       "                                           imdb_score    budget  movie_facebook_likes  actor_1_facebook_likes  director_facebook_likes\n",
       "movie_title                                                                                                                           \n",
       "Avatar                                       1.360213  0.862405              1.120129               -0.428520                -0.258910\n",
       "Pirates of the Caribbean: At World's End     0.602695  1.145692             -0.428966                2.109538                -0.072343\n",
       "Spectre                                      0.318626  0.898378              3.561127                0.222264                -0.258910\n",
       "The Dark Knight Rises                        1.928352  0.920861              7.269567                1.263519                 7.031465\n",
       "John Carter                                  0.129246  0.982464              0.697649               -0.451949                -0.101504"
      ]
     },
     "execution_count": 318,
     "metadata": {},
     "output_type": "execute_result"
    }
   ],
   "source": [
    "titles_short.head()"
   ]
  },
  {
   "cell_type": "code",
   "execution_count": 319,
   "metadata": {},
   "outputs": [
    {
     "data": {
      "text/plain": [
       "<matplotlib.axes._subplots.AxesSubplot at 0x245978438>"
      ]
     },
     "execution_count": 319,
     "metadata": {},
     "output_type": "execute_result"
    },
    {
     "data": {
      "image/png": "[encoded data removed]",
      "text/plain": [
       "<matplotlib.figure.Figure at 0x245e0e898>"
      ]
     },
     "metadata": {},
     "output_type": "display_data"
    }
   ],
   "source": [
    "titles_short.imdb_score.plot.kde()"
   ]
  },
  {
   "cell_type": "code",
   "execution_count": 320,
   "metadata": {},
   "outputs": [],
   "source": [
    "%matplotlib inline\n",
    "import numpy as np\n",
    "import scipy as sp\n",
    "import matplotlib as mpl\n",
    "import matplotlib.cm as cm\n",
    "import matplotlib.pyplot as plt\n",
    "import pandas as pd\n",
    "import seaborn as sns\n",
    "from six.moves import range\n",
    "\n",
    "# Setup Pandas\n",
    "pd.set_option('display.width', 500)\n",
    "pd.set_option('display.max_columns', 100)\n",
    "pd.set_option('display.notebook_repr_html', True)\n",
    "\n",
    "# Setup Seaborn\n",
    "sns.set_style(\"whitegrid\")\n",
    "sns.set_context(\"poster\")"
   ]
  },
  {
   "cell_type": "code",
   "execution_count": 321,
   "metadata": {},
   "outputs": [
    {
     "data": {
      "image/png": "[encoded data removed]",
      "text/plain": [
       "<matplotlib.figure.Figure at 0x244e95dd8>"
      ]
     },
     "metadata": {},
     "output_type": "display_data"
    }
   ],
   "source": [
    "plt.scatter(titles_short.actor_1_facebook_likes , ratio_real_numbers.ratio)\n",
    "plt.xlim([-2,2])\n",
    "plt.ylim([-.5,.5])\n",
    "plt.show()"
   ]
  },
  {
   "cell_type": "code",
   "execution_count": 322,
   "metadata": {
    "collapsed": true
   },
   "outputs": [],
   "source": [
    "\n",
    "import numpy as np\n",
    "import pandas as pd\n",
    "import scipy.stats as stats\n",
    "import matplotlib.pyplot as plt\n",
    "import sklearn\n",
    "\n",
    "import seaborn as sns\n",
    "\n",
    "# special matplotlib argument for improved plots\n",
    "from matplotlib import rcParams\n",
    "sns.set_style(\"whitegrid\")\n",
    "sns.set_context(\"poster\")\n",
    "from sklearn.linear_model import LinearRegression\n",
    "from sklearn.utils import shuffle\n"
   ]
  },
  {
   "cell_type": "code",
   "execution_count": 323,
   "metadata": {
    "collapsed": true
   },
   "outputs": [],
   "source": [
    "linear_regression_1= LinearRegression()"
   ]
  },
  {
   "cell_type": "code",
   "execution_count": 324,
   "metadata": {},
   "outputs": [
    {
     "name": "stderr",
     "output_type": "stream",
     "text": [
      "C:\\Users\\milind\\Anaconda3\\lib\\site-packages\\ipykernel_launcher.py:1: SettingWithCopyWarning: \n",
      "A value is trying to be set on a copy of a slice from a DataFrame.\n",
      "Try using .loc[row_indexer,col_indexer] = value instead\n",
      "\n",
      "See the caveats in the documentation: http://pandas.pydata.org/pandas-docs/stable/indexing.html#indexing-view-versus-copy\n",
      "  \"\"\"Entry point for launching an IPython kernel.\n"
     ]
    }
   ],
   "source": [
    "titles_short['ratio']=ratio_real_numbers"
   ]
  },
  {
   "cell_type": "code",
   "execution_count": 325,
   "metadata": {
    "collapsed": true
   },
   "outputs": [],
   "source": [
    "titles_short=titles_short.dropna()"
   ]
  },
  {
   "cell_type": "code",
   "execution_count": 326,
   "metadata": {
    "collapsed": true
   },
   "outputs": [],
   "source": [
    "titles_short= shuffle(titles_short)"
   ]
  },
  {
   "cell_type": "code",
   "execution_count": 327,
   "metadata": {
    "collapsed": true
   },
   "outputs": [],
   "source": [
    "titles_short=pd.DataFrame(titles_short)"
   ]
  },
  {
   "cell_type": "code",
   "execution_count": 328,
   "metadata": {},
   "outputs": [],
   "source": [
    "ratio_real_numbers=pd.DataFrame(titles_short.ratio)\n"
   ]
  },
  {
   "cell_type": "code",
   "execution_count": 338,
   "metadata": {
    "collapsed": true
   },
   "outputs": [],
   "source": [
    "titles_short_train=titles_short[:3000]\n",
    "titles_short_test=titles_short[3000:]"
   ]
  },
  {
   "cell_type": "code",
   "execution_count": 339,
   "metadata": {
    "collapsed": true
   },
   "outputs": [],
   "source": [
    "ratio_real_numbers_train=ratio_real_numbers[:3000]\n",
    "ratio_real_numbers_test=ratio_real_numbers[3000:]"
   ]
  },
  {
   "cell_type": "code",
   "execution_count": 340,
   "metadata": {},
   "outputs": [
    {
     "data": {
      "text/html": [
       "<div>\n",
       "<style>\n",
       "    .dataframe thead tr:only-child th {\n",
       "        text-align: right;\n",
       "    }\n",
       "\n",
       "    .dataframe thead th {\n",
       "        text-align: left;\n",
       "    }\n",
       "\n",
       "    .dataframe tbody tr th {\n",
       "        vertical-align: top;\n",
       "    }\n",
       "</style>\n",
       "<table border=\"1\" class=\"dataframe\">\n",
       "  <thead>\n",
       "    <tr style=\"text-align: right;\">\n",
       "      <th></th>\n",
       "      <th>ratio</th>\n",
       "    </tr>\n",
       "    <tr>\n",
       "      <th>movie_title</th>\n",
       "      <th></th>\n",
       "    </tr>\n",
       "  </thead>\n",
       "  <tbody>\n",
       "    <tr>\n",
       "      <th>Jeepers Creepers</th>\n",
       "      <td>3.747002</td>\n",
       "    </tr>\n",
       "    <tr>\n",
       "      <th>Bad Words</th>\n",
       "      <td>0.776403</td>\n",
       "    </tr>\n",
       "    <tr>\n",
       "      <th>The Lawnmower Man</th>\n",
       "      <td>3.210100</td>\n",
       "    </tr>\n",
       "    <tr>\n",
       "      <th>Fascination</th>\n",
       "      <td>0.003213</td>\n",
       "    </tr>\n",
       "    <tr>\n",
       "      <th>The Whole Ten Yards</th>\n",
       "      <td>0.408099</td>\n",
       "    </tr>\n",
       "  </tbody>\n",
       "</table>\n",
       "</div>"
      ],
      "text/plain": [
       "                         ratio\n",
       "movie_title                   \n",
       "Jeepers Creepers      3.747002\n",
       "Bad Words             0.776403\n",
       "The Lawnmower Man     3.210100\n",
       "Fascination           0.003213\n",
       "The Whole Ten Yards   0.408099"
      ]
     },
     "execution_count": 340,
     "metadata": {},
     "output_type": "execute_result"
    }
   ],
   "source": [
    "ratio_real_numbers_train.head()"
   ]
  },
  {
   "cell_type": "code",
   "execution_count": 341,
   "metadata": {},
   "outputs": [
    {
     "data": {
      "text/html": [
       "<div>\n",
       "<style>\n",
       "    .dataframe thead tr:only-child th {\n",
       "        text-align: right;\n",
       "    }\n",
       "\n",
       "    .dataframe thead th {\n",
       "        text-align: left;\n",
       "    }\n",
       "\n",
       "    .dataframe tbody tr th {\n",
       "        vertical-align: top;\n",
       "    }\n",
       "</style>\n",
       "<table border=\"1\" class=\"dataframe\">\n",
       "  <thead>\n",
       "    <tr style=\"text-align: right;\">\n",
       "      <th></th>\n",
       "      <th>imdb_score</th>\n",
       "      <th>budget</th>\n",
       "      <th>movie_facebook_likes</th>\n",
       "      <th>actor_1_facebook_likes</th>\n",
       "      <th>director_facebook_likes</th>\n",
       "    </tr>\n",
       "    <tr>\n",
       "      <th>movie_title</th>\n",
       "      <th></th>\n",
       "      <th></th>\n",
       "      <th></th>\n",
       "      <th></th>\n",
       "      <th></th>\n",
       "    </tr>\n",
       "  </thead>\n",
       "  <tbody>\n",
       "    <tr>\n",
       "      <th>Jeepers Creepers</th>\n",
       "      <td>-0.344203</td>\n",
       "      <td>-0.158327</td>\n",
       "      <td>-0.428966</td>\n",
       "      <td>-0.428520</td>\n",
       "      <td>-0.223121</td>\n",
       "    </tr>\n",
       "    <tr>\n",
       "      <th>Bad Words</th>\n",
       "      <td>0.223936</td>\n",
       "      <td>-0.158327</td>\n",
       "      <td>-0.428966</td>\n",
       "      <td>-0.452729</td>\n",
       "      <td>-0.258910</td>\n",
       "    </tr>\n",
       "    <tr>\n",
       "      <th>The Lawnmower Man</th>\n",
       "      <td>-1.007031</td>\n",
       "      <td>-0.158327</td>\n",
       "      <td>-0.428966</td>\n",
       "      <td>-0.458782</td>\n",
       "      <td>-0.248306</td>\n",
       "    </tr>\n",
       "    <tr>\n",
       "      <th>Fascination</th>\n",
       "      <td>-2.995516</td>\n",
       "      <td>-0.180810</td>\n",
       "      <td>-0.427088</td>\n",
       "      <td>-0.440820</td>\n",
       "      <td>-0.247643</td>\n",
       "    </tr>\n",
       "    <tr>\n",
       "      <th>The Whole Ten Yards</th>\n",
       "      <td>-0.912341</td>\n",
       "      <td>-0.023429</td>\n",
       "      <td>-0.407278</td>\n",
       "      <td>0.352421</td>\n",
       "      <td>-0.245324</td>\n",
       "    </tr>\n",
       "  </tbody>\n",
       "</table>\n",
       "</div>"
      ],
      "text/plain": [
       "                      imdb_score    budget  movie_facebook_likes  actor_1_facebook_likes  director_facebook_likes\n",
       "movie_title                                                                                                      \n",
       "Jeepers Creepers       -0.344203 -0.158327             -0.428966               -0.428520                -0.223121\n",
       "Bad Words               0.223936 -0.158327             -0.428966               -0.452729                -0.258910\n",
       "The Lawnmower Man      -1.007031 -0.158327             -0.428966               -0.458782                -0.248306\n",
       "Fascination            -2.995516 -0.180810             -0.427088               -0.440820                -0.247643\n",
       "The Whole Ten Yards    -0.912341 -0.023429             -0.407278                0.352421                -0.245324"
      ]
     },
     "execution_count": 341,
     "metadata": {},
     "output_type": "execute_result"
    }
   ],
   "source": [
    "titles_short_train.head()"
   ]
  },
  {
   "cell_type": "code",
   "execution_count": 342,
   "metadata": {},
   "outputs": [
    {
     "data": {
      "text/plain": [
       "LinearRegression(copy_X=True, fit_intercept=True, n_jobs=1, normalize=False)"
      ]
     },
     "execution_count": 342,
     "metadata": {},
     "output_type": "execute_result"
    }
   ],
   "source": [
    "linear_regression_1.fit(titles_short_train , ratio_real_numbers_train)"
   ]
  },
  {
   "cell_type": "code",
   "execution_count": 346,
   "metadata": {},
   "outputs": [
    {
     "data": {
      "text/plain": [
       "array([[ 10.61574048],\n",
       "       [  4.93205889],\n",
       "       [  9.52914614],\n",
       "       [  3.59179651],\n",
       "       [  9.21380044],\n",
       "       [ 10.04030125],\n",
       "       [  7.71609476],\n",
       "       [  5.65337523],\n",
       "       [  7.91463153],\n",
       "       [  6.0602904 ],\n",
       "       [  2.94167108],\n",
       "       [  8.0401068 ],\n",
       "       [  8.36266483],\n",
       "       [  9.4734496 ],\n",
       "       [ 11.59236068],\n",
       "       [  5.41814496],\n",
       "       [  6.10142084],\n",
       "       [  4.52247435],\n",
       "       [  4.80194337],\n",
       "       [  9.24419653]])"
      ]
     },
     "execution_count": 346,
     "metadata": {},
     "output_type": "execute_result"
    }
   ],
   "source": [
    "linear_regression_1.predict(titles_short_test)[:20]"
   ]
  },
  {
   "cell_type": "code",
   "execution_count": 347,
   "metadata": {},
   "outputs": [
    {
     "data": {
      "text/html": [
       "<div>\n",
       "<style>\n",
       "    .dataframe thead tr:only-child th {\n",
       "        text-align: right;\n",
       "    }\n",
       "\n",
       "    .dataframe thead th {\n",
       "        text-align: left;\n",
       "    }\n",
       "\n",
       "    .dataframe tbody tr th {\n",
       "        vertical-align: top;\n",
       "    }\n",
       "</style>\n",
       "<table border=\"1\" class=\"dataframe\">\n",
       "  <thead>\n",
       "    <tr style=\"text-align: right;\">\n",
       "      <th></th>\n",
       "      <th>ratio</th>\n",
       "    </tr>\n",
       "    <tr>\n",
       "      <th>movie_title</th>\n",
       "      <th></th>\n",
       "    </tr>\n",
       "  </thead>\n",
       "  <tbody>\n",
       "    <tr>\n",
       "      <th>The Full Monty</th>\n",
       "      <td>13.102129</td>\n",
       "    </tr>\n",
       "    <tr>\n",
       "      <th>Star Wars: Episode II - Attack of the Clones</th>\n",
       "      <td>2.701527</td>\n",
       "    </tr>\n",
       "    <tr>\n",
       "      <th>Monster</th>\n",
       "      <td>7.659605</td>\n",
       "    </tr>\n",
       "    <tr>\n",
       "      <th>Dance Flick</th>\n",
       "      <td>1.024632</td>\n",
       "    </tr>\n",
       "    <tr>\n",
       "      <th>Cavite</th>\n",
       "      <td>10.010143</td>\n",
       "    </tr>\n",
       "    <tr>\n",
       "      <th>Sholem Aleichem: Laughing in the Darkness</th>\n",
       "      <td>1.813332</td>\n",
       "    </tr>\n",
       "    <tr>\n",
       "      <th>Thank You for Smoking</th>\n",
       "      <td>3.814163</td>\n",
       "    </tr>\n",
       "    <tr>\n",
       "      <th>The Men Who Stare at Goats</th>\n",
       "      <td>1.296644</td>\n",
       "    </tr>\n",
       "    <tr>\n",
       "      <th>Edge of Darkness</th>\n",
       "      <td>0.541137</td>\n",
       "    </tr>\n",
       "    <tr>\n",
       "      <th>True Romance</th>\n",
       "      <td>0.944731</td>\n",
       "    </tr>\n",
       "    <tr>\n",
       "      <th>R.I.P.D.</th>\n",
       "      <td>0.258403</td>\n",
       "    </tr>\n",
       "    <tr>\n",
       "      <th>Joe Dirt</th>\n",
       "      <td>1.530378</td>\n",
       "    </tr>\n",
       "    <tr>\n",
       "      <th>Among Giants</th>\n",
       "      <td>0.025744</td>\n",
       "    </tr>\n",
       "    <tr>\n",
       "      <th>Session 9</th>\n",
       "      <td>0.249311</td>\n",
       "    </tr>\n",
       "    <tr>\n",
       "      <th>Who Killed the Electric Car?</th>\n",
       "      <td>1.677838</td>\n",
       "    </tr>\n",
       "    <tr>\n",
       "      <th>Warriors of Virtue</th>\n",
       "      <td>0.184252</td>\n",
       "    </tr>\n",
       "    <tr>\n",
       "      <th>Batman</th>\n",
       "      <td>7.176826</td>\n",
       "    </tr>\n",
       "    <tr>\n",
       "      <th>Meet the Fockers</th>\n",
       "      <td>3.489595</td>\n",
       "    </tr>\n",
       "    <tr>\n",
       "      <th>Dumb and Dumber To</th>\n",
       "      <td>2.463086</td>\n",
       "    </tr>\n",
       "    <tr>\n",
       "      <th>Four Rooms</th>\n",
       "      <td>1.075333</td>\n",
       "    </tr>\n",
       "  </tbody>\n",
       "</table>\n",
       "</div>"
      ],
      "text/plain": [
       "                                                   ratio\n",
       "movie_title                                             \n",
       "The Full Monty                                 13.102129\n",
       "Star Wars: Episode II - Attack of the Clones    2.701527\n",
       "Monster                                         7.659605\n",
       "Dance Flick                                     1.024632\n",
       "Cavite                                         10.010143\n",
       "Sholem Aleichem: Laughing in the Darkness       1.813332\n",
       "Thank You for Smoking                           3.814163\n",
       "The Men Who Stare at Goats                      1.296644\n",
       "Edge of Darkness                                0.541137\n",
       "True Romance                                    0.944731\n",
       "R.I.P.D.                                        0.258403\n",
       "Joe Dirt                                        1.530378\n",
       "Among Giants                                    0.025744\n",
       "Session 9                                       0.249311\n",
       "Who Killed the Electric Car?                    1.677838\n",
       "Warriors of Virtue                              0.184252\n",
       "Batman                                          7.176826\n",
       "Meet the Fockers                                3.489595\n",
       "Dumb and Dumber To                              2.463086\n",
       "Four Rooms                                      1.075333"
      ]
     },
     "execution_count": 347,
     "metadata": {},
     "output_type": "execute_result"
    }
   ],
   "source": [
    "ratio_real_numbers_test[:20]"
   ]
  },
  {
   "cell_type": "code",
   "execution_count": 345,
   "metadata": {},
   "outputs": [
    {
     "data": {
      "text/plain": [
       "-0.28934907836334212"
      ]
     },
     "execution_count": 345,
     "metadata": {},
     "output_type": "execute_result"
    }
   ],
   "source": [
    "linear_regression_1.score(titles_short_test , ratio_real_numbers_test)"
   ]
  },
  {
   "cell_type": "code",
   "execution_count": 349,
   "metadata": {},
   "outputs": [
    {
     "data": {
      "text/plain": [
       "array([[ 1.89338781, -4.05437489, -0.30094396, -2.23076348, -1.04529614]])"
      ]
     },
     "execution_count": 349,
     "metadata": {},
     "output_type": "execute_result"
    }
   ],
   "source": [
    "linear_regression_1.coef_"
   ]
  },
  {
   "cell_type": "code",
   "execution_count": 351,
   "metadata": {},
   "outputs": [
    {
     "data": {
      "text/plain": [
       "Index(['imdb_score', 'budget', 'movie_facebook_likes', 'actor_1_facebook_likes', 'director_facebook_likes'], dtype='object')"
      ]
     },
     "execution_count": 351,
     "metadata": {},
     "output_type": "execute_result"
    }
   ],
   "source": [
    "titles_short.columns"
   ]
  },
  {
   "cell_type": "code",
   "execution_count": 358,
   "metadata": {},
   "outputs": [
    {
     "data": {
      "text/plain": [
       "<function matplotlib.pyplot.show>"
      ]
     },
     "execution_count": 358,
     "metadata": {},
     "output_type": "execute_result"
    },
    {
     "data": {
      "image/png": "[encoded data removed]",
      "text/plain": [
       "<matplotlib.figure.Figure at 0x247fd7d68>"
      ]
     },
     "metadata": {},
     "output_type": "display_data"
    }
   ],
   "source": [
    "plt.hist([linear_regression_1.predict(titles_short_test)] , histtype='bar',color=['RED' ])\n",
    "plt.xlim(0,50)\n",
    "plt.show\n"
   ]
  },
  {
   "cell_type": "code",
   "execution_count": 360,
   "metadata": {},
   "outputs": [
    {
     "data": {
      "text/plain": [
       "(0, 50)"
      ]
     },
     "execution_count": 360,
     "metadata": {},
     "output_type": "execute_result"
    },
    {
     "data": {
      "image/png": "[encoded data removed]",
      "text/plain": [
       "<matplotlib.figure.Figure at 0x2483ad6a0>"
      ]
     },
     "metadata": {},
     "output_type": "display_data"
    }
   ],
   "source": [
    "plt.hist([ratio_real_numbers_test.ratio] , histtype='bar',color=['BLUE' ])\n",
    "plt.xlim(0,50)"
   ]
  },
  {
   "cell_type": "code",
   "execution_count": null,
   "metadata": {
    "collapsed": true
   },
   "outputs": [],
   "source": []
  }
 ],
 "metadata": {
  "kernelspec": {
   "display_name": "Python 3",
   "language": "python",
   "name": "python3"
  },
  "language_info": {
   "codemirror_mode": {
    "name": "ipython",
    "version": 3
   },
   "file_extension": ".py",
   "mimetype": "text/x-python",
   "name": "python",
   "nbconvert_exporter": "python",
   "pygments_lexer": "ipython3",
   "version": "3.6.1"
  }
 },
 "nbformat": 4,
 "nbformat_minor": 2
}
