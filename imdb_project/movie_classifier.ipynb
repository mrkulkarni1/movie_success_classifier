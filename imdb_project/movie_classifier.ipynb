{
 "cells": [
  {
   "cell_type": "code",
   "execution_count": 193,
   "metadata": {},
   "outputs": [
    {
     "data": {
      "text/html": [
       "<style>body {\n",
       "    margin: 0;\n",
       "    font-family: Helvetica;\n",
       "}\n",
       "table.dataframe {\n",
       "    border-collapse: collapse;\n",
       "    border: none;\n",
       "}\n",
       "table.dataframe tr {\n",
       "    border: none;\n",
       "}\n",
       "table.dataframe td, table.dataframe th {\n",
       "    margin: 0;\n",
       "    border: 1px solid white;\n",
       "    padding-left: 0.25em;\n",
       "    padding-right: 0.25em;\n",
       "}\n",
       "table.dataframe th:not(:empty) {\n",
       "    background-color: #fec;\n",
       "    text-align: left;\n",
       "    font-weight: normal;\n",
       "}\n",
       "table.dataframe tr:nth-child(2) th:empty {\n",
       "    border-left: none;\n",
       "    border-right: 1px dashed #888;\n",
       "}\n",
       "table.dataframe td {\n",
       "    border: 2px solid #ccf;\n",
       "    background-color: #f4f4ff;\n",
       "}\n",
       "h3 {\n",
       "    color: white;\n",
       "    background-color: black;\n",
       "    padding: 0.5em;\n",
       "}\n",
       "</style>"
      ],
      "text/plain": [
       "<IPython.core.display.HTML object>"
      ]
     },
     "execution_count": 193,
     "metadata": {},
     "output_type": "execute_result"
    }
   ],
   "source": [
    "\n",
    "import numpy as np\n",
    "import pandas as pd\n",
    "import scipy.stats as stats\n",
    "import matplotlib.pyplot as plt\n",
    "import sklearn\n",
    "\n",
    "import seaborn as sns\n",
    "\n",
    "# special matplotlib argument for improved plots\n",
    "from matplotlib import rcParams\n",
    "sns.set_style(\"whitegrid\")\n",
    "sns.set_context(\"poster\")\n",
    "from sklearn.linear_model import LinearRegression\n",
    "from sklearn.utils import shuffle\n",
    "from IPython.core.display import HTML\n",
    "import seaborn as sns\n",
    "import re\n",
    "%matplotlib inline\n",
    "\n",
    "css = open('style-table.css').read() + open('style-notebook.css').read()\n",
    "HTML('<style>{}</style>'.format(css))"
   ]
  },
  {
   "cell_type": "code",
   "execution_count": 194,
   "metadata": {
    "collapsed": true
   },
   "outputs": [],
   "source": [
    "titles = pd.DataFrame.from_csv('movie_metadata.csv', index_col=None)"
   ]
  },
  {
   "cell_type": "code",
   "execution_count": 195,
   "metadata": {
    "collapsed": true
   },
   "outputs": [],
   "source": [
    "titles=titles.set_index('movie_title')"
   ]
  },
  {
   "cell_type": "code",
   "execution_count": 196,
   "metadata": {
    "collapsed": true
   },
   "outputs": [],
   "source": [
    "titles['ratio']=titles.gross/titles.budget"
   ]
  },
  {
   "cell_type": "code",
   "execution_count": 197,
   "metadata": {
    "collapsed": true
   },
   "outputs": [],
   "source": [
    "titles=titles=titles.dropna(axis=0, subset=['imdb_score','gross', 'budget', 'ratio', 'director_facebook_likes' , 'content_rating' , 'title_year' , 'movie_facebook_likes' ])"
   ]
  },
  {
   "cell_type": "code",
   "execution_count": 198,
   "metadata": {},
   "outputs": [
    {
     "data": {
      "text/plain": [
       "R            1737\n",
       "PG-13        1331\n",
       "PG            576\n",
       "G              91\n",
       "Not Rated      42\n",
       "Unrated        24\n",
       "Approved       17\n",
       "X              10\n",
       "NC-17           6\n",
       "Passed          3\n",
       "M               2\n",
       "GP              1\n",
       "Name: content_rating, dtype: int64"
      ]
     },
     "execution_count": 198,
     "metadata": {},
     "output_type": "execute_result"
    }
   ],
   "source": [
    "titles.content_rating.value_counts()"
   ]
  },
  {
   "cell_type": "code",
   "execution_count": 199,
   "metadata": {},
   "outputs": [
    {
     "data": {
      "text/plain": [
       "6.0    1459\n",
       "7.0    1091\n",
       "5.0     769\n",
       "4.0     217\n",
       "8.0     211\n",
       "3.0      64\n",
       "2.0      22\n",
       "9.0       4\n",
       "1.0       3\n",
       "Name: imdb_score, dtype: int64"
      ]
     },
     "execution_count": 199,
     "metadata": {},
     "output_type": "execute_result"
    }
   ],
   "source": [
    "((titles.imdb_score//1)).value_counts()"
   ]
  },
  {
   "cell_type": "code",
   "execution_count": 200,
   "metadata": {
    "collapsed": true
   },
   "outputs": [],
   "source": [
    "titles.genres=titles.genres.str.replace(\"\\|.*\",\"\")\n"
   ]
  },
  {
   "cell_type": "code",
   "execution_count": 201,
   "metadata": {},
   "outputs": [
    {
     "data": {
      "text/plain": [
       "<matplotlib.axes._subplots.AxesSubplot at 0x1a44dda828>"
      ]
     },
     "execution_count": 201,
     "metadata": {},
     "output_type": "execute_result"
    },
    {
     "data": {
      "image/png": "[encoded data removed]",
      "text/plain": [
       "<matplotlib.figure.Figure at 0x1a29216160>"
      ]
     },
     "metadata": {},
     "output_type": "display_data"
    }
   ],
   "source": [
    "titles.genres.value_counts().plot(kind = 'bar', title='Movie Genre frequency')\n"
   ]
  },
  {
   "cell_type": "code",
   "execution_count": 202,
   "metadata": {
    "collapsed": true
   },
   "outputs": [],
   "source": [
    "def normalize(array1, name):\n",
    "    print (\"normalizing \"+name);\n",
    "    array=array1\n",
    "    array=array/array.std()\n",
    "    array=array-array.mean()\n",
    "    return(array);"
   ]
  },
  {
   "cell_type": "code",
   "execution_count": 203,
   "metadata": {},
   "outputs": [
    {
     "data": {
      "text/plain": [
       "<matplotlib.axes._subplots.AxesSubplot at 0x1a44d659e8>"
      ]
     },
     "execution_count": 203,
     "metadata": {},
     "output_type": "execute_result"
    },
    {
     "data": {
      "image/png": "[encoded data removed]",
      "text/plain": [
       "<matplotlib.figure.Figure at 0x1a49abeba8>"
      ]
     },
     "metadata": {},
     "output_type": "display_data"
    }
   ],
   "source": [
    "titles.imdb_score.plot.kde(title='imdb score density plot' )"
   ]
  },
  {
   "cell_type": "code",
   "execution_count": 204,
   "metadata": {},
   "outputs": [
    {
     "data": {
      "text/plain": [
       "<matplotlib.axes._subplots.AxesSubplot at 0x1a490c8668>"
      ]
     },
     "execution_count": 204,
     "metadata": {},
     "output_type": "execute_result"
    },
    {
     "data": {
      "image/png": "[encoded data removed]",
      "text/plain": [
       "<matplotlib.figure.Figure at 0x1a4922c4a8>"
      ]
     },
     "metadata": {},
     "output_type": "display_data"
    }
   ],
   "source": [
    "titles.ratio.plot.kde(xlim=[-200,200] , title='profit density plot')"
   ]
  },
  {
   "cell_type": "code",
   "execution_count": 205,
   "metadata": {},
   "outputs": [
    {
     "data": {
      "text/plain": [
       "0.0     3823\n",
       "1.0        9\n",
       "2.0        2\n",
       "3.0        2\n",
       "71.0       1\n",
       "4.0        1\n",
       "27.0       1\n",
       "23.0       1\n",
       "Name: ratio, dtype: int64"
      ]
     },
     "execution_count": 205,
     "metadata": {},
     "output_type": "execute_result"
    }
   ],
   "source": [
    "## looking for outliers in profit ratio. To improve efficiency of the model\n",
    "(titles.ratio//100).value_counts()"
   ]
  },
  {
   "cell_type": "code",
   "execution_count": 206,
   "metadata": {
    "collapsed": true
   },
   "outputs": [],
   "source": [
    "## removing movies with a very high profit ratio for wh`ich are mostly low budget movies\n",
    "titles=titles.drop(titles[(titles.ratio>200)].index)"
   ]
  },
  {
   "cell_type": "code",
   "execution_count": 207,
   "metadata": {},
   "outputs": [
    {
     "data": {
      "text/plain": [
       "(2.7023612667579786, 8.60812467633687)"
      ]
     },
     "execution_count": 207,
     "metadata": {},
     "output_type": "execute_result"
    }
   ],
   "source": [
    "titles.ratio.mean() , titles.ratio.std() \n"
   ]
  },
  {
   "cell_type": "code",
   "execution_count": 208,
   "metadata": {},
   "outputs": [
    {
     "data": {
      "text/plain": [
       "<matplotlib.axes._subplots.AxesSubplot at 0x1a48f209e8>"
      ]
     },
     "execution_count": 208,
     "metadata": {},
     "output_type": "execute_result"
    },
    {
     "data": {
      "image/png": "[encoded data removed]",
      "text/plain": [
       "<matplotlib.figure.Figure at 0x1a4882df28>"
      ]
     },
     "metadata": {},
     "output_type": "display_data"
    }
   ],
   "source": [
    "titles.ratio.plot.kde(xlim=[-10,20], title='Profit frequency distribution post data clean up')"
   ]
  },
  {
   "cell_type": "code",
   "execution_count": 209,
   "metadata": {},
   "outputs": [
    {
     "data": {
      "text/plain": [
       "75"
      ]
     },
     "execution_count": 209,
     "metadata": {},
     "output_type": "execute_result"
    }
   ],
   "source": [
    "len(titles[(titles.ratio > 18)])"
   ]
  },
  {
   "cell_type": "code",
   "execution_count": 210,
   "metadata": {},
   "outputs": [
    {
     "data": {
      "text/plain": [
       "<matplotlib.axes._subplots.AxesSubplot at 0x1a45ef42e8>"
      ]
     },
     "execution_count": 210,
     "metadata": {},
     "output_type": "execute_result"
    },
    {
     "data": {
      "image/png": "[encoded data removed]",
      "text/plain": [
       "<matplotlib.figure.Figure at 0x1a4a850fd0>"
      ]
     },
     "metadata": {},
     "output_type": "display_data"
    }
   ],
   "source": [
    "# %profit distribution\n",
    "(titles.ratio*100).plot.hist(xlim=[-10,600],ylim=[0,100],bins=10000,title=\"frequency distribution of profit %\")\n"
   ]
  },
  {
   "cell_type": "code",
   "execution_count": 211,
   "metadata": {},
   "outputs": [
    {
     "data": {
      "text/plain": [
       "<matplotlib.axes._subplots.AxesSubplot at 0x1a4669bf28>"
      ]
     },
     "execution_count": 211,
     "metadata": {},
     "output_type": "execute_result"
    },
    {
     "data": {
      "image/png": "[encoded data removed]",
      "text/plain": [
       "<matplotlib.figure.Figure at 0x1a488e5f28>"
      ]
     },
     "metadata": {},
     "output_type": "display_data"
    }
   ],
   "source": [
    "# profit density plot\n",
    "(titles.ratio).plot.kde(xlim=[-10,10])"
   ]
  },
  {
   "cell_type": "code",
   "execution_count": 212,
   "metadata": {},
   "outputs": [
    {
     "data": {
      "text/plain": [
       "(2.7023612667579786, 8.60812467633687, 1.081657044736842)"
      ]
     },
     "execution_count": 212,
     "metadata": {},
     "output_type": "execute_result"
    }
   ],
   "source": [
    "titles.ratio.mean() , titles.ratio.std() , titles.ratio.median() "
   ]
  },
  {
   "cell_type": "code",
   "execution_count": 213,
   "metadata": {},
   "outputs": [
    {
     "data": {
      "text/plain": [
       "148"
      ]
     },
     "execution_count": 213,
     "metadata": {},
     "output_type": "execute_result"
    }
   ],
   "source": [
    "len(titles[(titles.ratio > 10)])"
   ]
  },
  {
   "cell_type": "code",
   "execution_count": 214,
   "metadata": {
    "collapsed": true
   },
   "outputs": [],
   "source": [
    "## defining profit making movie. Criterion is 20% profit.\n",
    "titles['profit_making']= (titles.ratio > 1.2)"
   ]
  },
  {
   "cell_type": "code",
   "execution_count": 215,
   "metadata": {},
   "outputs": [
    {
     "data": {
      "text/plain": [
       "False    2059\n",
       "True     1773\n",
       "Name: profit_making, dtype: int64"
      ]
     },
     "execution_count": 215,
     "metadata": {},
     "output_type": "execute_result"
    }
   ],
   "source": [
    "titles.profit_making.value_counts()"
   ]
  },
  {
   "cell_type": "code",
   "execution_count": 216,
   "metadata": {
    "collapsed": true
   },
   "outputs": [],
   "source": [
    "##  sending budget and likes through normalizer\n"
   ]
  },
  {
   "cell_type": "code",
   "execution_count": 217,
   "metadata": {},
   "outputs": [
    {
     "name": "stdout",
     "output_type": "stream",
     "text": [
      "budget: true\n",
      "normalizing budget\n",
      "movie_facebook_likes: true\n",
      "normalizing movie_facebook_likes\n",
      "cast_total_facebook_likes: true\n",
      "normalizing cast_total_facebook_likes\n",
      "director_facebook_likes: true\n",
      "normalizing director_facebook_likes\n",
      "actor_1_facebook_likes: true\n",
      "normalizing actor_1_facebook_likes\n",
      "actor_2_facebook_likes: true\n",
      "normalizing actor_2_facebook_likes\n",
      "duration: true\n",
      "normalizing duration\n",
      "num_voted_users: true\n",
      "normalizing num_voted_users\n",
      "num_user_for_reviews: true\n",
      "normalizing num_user_for_reviews\n",
      "gross: true\n",
      "normalizing gross\n"
     ]
    }
   ],
   "source": [
    "for column in ['budget','movie_facebook_likes','cast_total_facebook_likes','director_facebook_likes','actor_1_facebook_likes','actor_2_facebook_likes','duration','num_voted_users', 'num_user_for_reviews', 'gross']:\n",
    "    if np.issubdtype(titles[column].dtype, np.number):\n",
    "        print (column + \": true\")\n",
    "        titles[column]=normalize(array1=titles[column],name=column)\n",
    "    else:\n",
    "        print (column + \":false\")"
   ]
  },
  {
   "cell_type": "code",
   "execution_count": 218,
   "metadata": {},
   "outputs": [
    {
     "data": {
      "text/plain": [
       "-0.09189160544010078"
      ]
     },
     "execution_count": 218,
     "metadata": {},
     "output_type": "execute_result"
    }
   ],
   "source": [
    "titles.budget.median()"
   ]
  },
  {
   "cell_type": "code",
   "execution_count": 219,
   "metadata": {
    "collapsed": true
   },
   "outputs": [],
   "source": [
    "titles2 = pd.DataFrame.from_csv('movie_metadata.csv', index_col=None)"
   ]
  },
  {
   "cell_type": "code",
   "execution_count": 220,
   "metadata": {},
   "outputs": [
    {
     "data": {
      "text/plain": [
       "<matplotlib.axes._subplots.AxesSubplot at 0x1a48727ba8>"
      ]
     },
     "execution_count": 220,
     "metadata": {},
     "output_type": "execute_result"
    },
    {
     "data": {
      "image/png": "[encoded data removed]",
      "text/plain": [
       "<matplotlib.figure.Figure at 0x1a51ebd9b0>"
      ]
     },
     "metadata": {},
     "output_type": "display_data"
    }
   ],
   "source": [
    "titles2.budget.plot.kde(xlim=[-.4e9,.4e9])"
   ]
  },
  {
   "cell_type": "code",
   "execution_count": 221,
   "metadata": {},
   "outputs": [
    {
     "data": {
      "text/plain": [
       "39752620.436387606"
      ]
     },
     "execution_count": 221,
     "metadata": {},
     "output_type": "execute_result"
    }
   ],
   "source": [
    "titles2.budget.mean()"
   ]
  },
  {
   "cell_type": "code",
   "execution_count": 222,
   "metadata": {},
   "outputs": [
    {
     "data": {
      "text/plain": [
       "206114898.44868386"
      ]
     },
     "execution_count": 222,
     "metadata": {},
     "output_type": "execute_result"
    }
   ],
   "source": [
    "titles2.budget.std()\n"
   ]
  },
  {
   "cell_type": "code",
   "execution_count": 223,
   "metadata": {
    "collapsed": true
   },
   "outputs": [],
   "source": [
    "temp1=((titles2.budget//1e6)*(1e6)).value_counts().sort_index()"
   ]
  },
  {
   "cell_type": "code",
   "execution_count": 224,
   "metadata": {
    "collapsed": true
   },
   "outputs": [],
   "source": [
    "temp1=((titles.ratio//.5)*.5).value_counts().sort_index()"
   ]
  },
  {
   "cell_type": "code",
   "execution_count": 225,
   "metadata": {},
   "outputs": [
    {
     "data": {
      "text/plain": [
       "<matplotlib.axes._subplots.AxesSubplot at 0x1a578b1e80>"
      ]
     },
     "execution_count": 225,
     "metadata": {},
     "output_type": "execute_result"
    },
    {
     "data": {
      "image/png": "[encoded data removed]",
      "text/plain": [
       "<matplotlib.figure.Figure at 0x1a51ea0ef0>"
      ]
     },
     "metadata": {},
     "output_type": "display_data"
    }
   ],
   "source": [
    "temp1.plot.hist(bins=1000 , xlim=[0,100]  )"
   ]
  },
  {
   "cell_type": "code",
   "execution_count": 226,
   "metadata": {
    "collapsed": true
   },
   "outputs": [],
   "source": [
    "temp1=((titles2.budget//1000000)*(1000000)).value_counts().sort_index()\n"
   ]
  },
  {
   "cell_type": "code",
   "execution_count": 227,
   "metadata": {},
   "outputs": [
    {
     "data": {
      "text/plain": [
       "<matplotlib.axes._subplots.AxesSubplot at 0x1a57eee5c0>"
      ]
     },
     "execution_count": 227,
     "metadata": {},
     "output_type": "execute_result"
    },
    {
     "data": {
      "image/png": "[encoded data removed]",
      "text/plain": [
       "<matplotlib.figure.Figure at 0x1a578c3940>"
      ]
     },
     "metadata": {},
     "output_type": "display_data"
    }
   ],
   "source": [
    "temp1.plot.hist(bins=1000 , xlim=[0,100]  )"
   ]
  },
  {
   "cell_type": "code",
   "execution_count": 228,
   "metadata": {},
   "outputs": [
    {
     "data": {
      "text/plain": [
       "39752620.436387606"
      ]
     },
     "execution_count": 228,
     "metadata": {},
     "output_type": "execute_result"
    }
   ],
   "source": [
    "titles2.budget.mean()"
   ]
  },
  {
   "cell_type": "code",
   "execution_count": 229,
   "metadata": {},
   "outputs": [
    {
     "data": {
      "text/plain": [
       "movie_title\n",
       "Snowpiercer                            -0.028456\n",
       "Dragon Wars: D-War                     -0.047219\n",
       "The Last Godfather                     -0.143712\n",
       "Tae Guk Gi: The Brotherhood of War     -0.146392\n",
       "The Host                               54.366469\n",
       "The Good, the Bad, the Weird           -0.158901\n",
       "Lady Vengeance                         18.558997\n",
       "Oldboy                                 -0.190172\n",
       "Name: budget, dtype: float64"
      ]
     },
     "execution_count": 229,
     "metadata": {},
     "output_type": "execute_result"
    }
   ],
   "source": [
    "titles[titles.country.str.match(\"South Korea\")].budget"
   ]
  },
  {
   "cell_type": "code",
   "execution_count": 230,
   "metadata": {
    "collapsed": true
   },
   "outputs": [],
   "source": [
    "titles_highb = titles[(titles.budget > -.114)]"
   ]
  },
  {
   "cell_type": "code",
   "execution_count": 231,
   "metadata": {
    "collapsed": true
   },
   "outputs": [],
   "source": [
    "titles_lowb = titles[(titles.budget <= -.114)]"
   ]
  },
  {
   "cell_type": "code",
   "execution_count": 232,
   "metadata": {},
   "outputs": [
    {
     "data": {
      "text/plain": [
       "2052"
      ]
     },
     "execution_count": 232,
     "metadata": {},
     "output_type": "execute_result"
    }
   ],
   "source": [
    "len(titles_highb)"
   ]
  },
  {
   "cell_type": "code",
   "execution_count": 233,
   "metadata": {},
   "outputs": [
    {
     "data": {
      "text/plain": [
       "1780"
      ]
     },
     "execution_count": 233,
     "metadata": {},
     "output_type": "execute_result"
    }
   ],
   "source": [
    "len(titles_lowb)"
   ]
  },
  {
   "cell_type": "code",
   "execution_count": 234,
   "metadata": {},
   "outputs": [
    {
     "data": {
      "text/plain": [
       "0.40692007797270957"
      ]
     },
     "execution_count": 234,
     "metadata": {},
     "output_type": "execute_result"
    }
   ],
   "source": [
    "titles_highb.profit_making.mean()"
   ]
  },
  {
   "cell_type": "code",
   "execution_count": 235,
   "metadata": {},
   "outputs": [
    {
     "data": {
      "text/html": [
       "<div>\n",
       "<style>\n",
       "    .dataframe thead tr:only-child th {\n",
       "        text-align: right;\n",
       "    }\n",
       "\n",
       "    .dataframe thead th {\n",
       "        text-align: left;\n",
       "    }\n",
       "\n",
       "    .dataframe tbody tr th {\n",
       "        vertical-align: top;\n",
       "    }\n",
       "</style>\n",
       "<table border=\"1\" class=\"dataframe\">\n",
       "  <thead>\n",
       "    <tr style=\"text-align: right;\">\n",
       "      <th></th>\n",
       "      <th>color</th>\n",
       "      <th>director_name</th>\n",
       "      <th>num_critic_for_reviews</th>\n",
       "      <th>duration</th>\n",
       "      <th>director_facebook_likes</th>\n",
       "      <th>actor_3_facebook_likes</th>\n",
       "      <th>actor_2_name</th>\n",
       "      <th>actor_1_facebook_likes</th>\n",
       "      <th>gross</th>\n",
       "      <th>genres</th>\n",
       "      <th>...</th>\n",
       "      <th>country</th>\n",
       "      <th>content_rating</th>\n",
       "      <th>budget</th>\n",
       "      <th>title_year</th>\n",
       "      <th>actor_2_facebook_likes</th>\n",
       "      <th>imdb_score</th>\n",
       "      <th>aspect_ratio</th>\n",
       "      <th>movie_facebook_likes</th>\n",
       "      <th>ratio</th>\n",
       "      <th>profit_making</th>\n",
       "    </tr>\n",
       "    <tr>\n",
       "      <th>movie_title</th>\n",
       "      <th></th>\n",
       "      <th></th>\n",
       "      <th></th>\n",
       "      <th></th>\n",
       "      <th></th>\n",
       "      <th></th>\n",
       "      <th></th>\n",
       "      <th></th>\n",
       "      <th></th>\n",
       "      <th></th>\n",
       "      <th></th>\n",
       "      <th></th>\n",
       "      <th></th>\n",
       "      <th></th>\n",
       "      <th></th>\n",
       "      <th></th>\n",
       "      <th></th>\n",
       "      <th></th>\n",
       "      <th></th>\n",
       "      <th></th>\n",
       "      <th></th>\n",
       "    </tr>\n",
       "  </thead>\n",
       "  <tbody>\n",
       "    <tr>\n",
       "      <th>The Host</th>\n",
       "      <td>Color</td>\n",
       "      <td>Joon-ho Bong</td>\n",
       "      <td>363.0</td>\n",
       "      <td>-0.002081</td>\n",
       "      <td>-0.068531</td>\n",
       "      <td>74.0</td>\n",
       "      <td>Kang-ho Song</td>\n",
       "      <td>-0.455938</td>\n",
       "      <td>-0.707090</td>\n",
       "      <td>Comedy</td>\n",
       "      <td>...</td>\n",
       "      <td>South Korea</td>\n",
       "      <td>R</td>\n",
       "      <td>54.366469</td>\n",
       "      <td>2006.0</td>\n",
       "      <td>-0.353850</td>\n",
       "      <td>7.0</td>\n",
       "      <td>1.85</td>\n",
       "      <td>-0.105765</td>\n",
       "      <td>0.000180</td>\n",
       "      <td>False</td>\n",
       "    </tr>\n",
       "    <tr>\n",
       "      <th>Lady Vengeance</th>\n",
       "      <td>Color</td>\n",
       "      <td>Chan-wook Park</td>\n",
       "      <td>202.0</td>\n",
       "      <td>0.086512</td>\n",
       "      <td>-0.260670</td>\n",
       "      <td>38.0</td>\n",
       "      <td>Yeong-ae Lee</td>\n",
       "      <td>-0.450239</td>\n",
       "      <td>-0.735491</td>\n",
       "      <td>Crime</td>\n",
       "      <td>...</td>\n",
       "      <td>South Korea</td>\n",
       "      <td>R</td>\n",
       "      <td>18.558997</td>\n",
       "      <td>2005.0</td>\n",
       "      <td>-0.414150</td>\n",
       "      <td>7.7</td>\n",
       "      <td>2.35</td>\n",
       "      <td>-0.245709</td>\n",
       "      <td>0.000050</td>\n",
       "      <td>False</td>\n",
       "    </tr>\n",
       "    <tr>\n",
       "      <th>Fateless</th>\n",
       "      <td>Color</td>\n",
       "      <td>Lajos Koltai</td>\n",
       "      <td>73.0</td>\n",
       "      <td>1.061028</td>\n",
       "      <td>-0.245865</td>\n",
       "      <td>0.0</td>\n",
       "      <td>Péter Fancsikai</td>\n",
       "      <td>-0.496095</td>\n",
       "      <td>-0.735716</td>\n",
       "      <td>Drama</td>\n",
       "      <td>...</td>\n",
       "      <td>Hungary</td>\n",
       "      <td>R</td>\n",
       "      <td>10.964623</td>\n",
       "      <td>2005.0</td>\n",
       "      <td>-0.441640</td>\n",
       "      <td>7.1</td>\n",
       "      <td>2.35</td>\n",
       "      <td>-0.403986</td>\n",
       "      <td>0.000078</td>\n",
       "      <td>False</td>\n",
       "    </tr>\n",
       "    <tr>\n",
       "      <th>Princess Mononoke</th>\n",
       "      <td>Color</td>\n",
       "      <td>Hayao Miyazaki</td>\n",
       "      <td>174.0</td>\n",
       "      <td>1.061028</td>\n",
       "      <td>1.713358</td>\n",
       "      <td>745.0</td>\n",
       "      <td>Jada Pinkett Smith</td>\n",
       "      <td>-0.438840</td>\n",
       "      <td>-0.705709</td>\n",
       "      <td>Adventure</td>\n",
       "      <td>...</td>\n",
       "      <td>Japan</td>\n",
       "      <td>PG-13</td>\n",
       "      <td>10.517895</td>\n",
       "      <td>1997.0</td>\n",
       "      <td>-0.253424</td>\n",
       "      <td>8.4</td>\n",
       "      <td>1.85</td>\n",
       "      <td>0.080827</td>\n",
       "      <td>0.000958</td>\n",
       "      <td>False</td>\n",
       "    </tr>\n",
       "    <tr>\n",
       "      <th>Steamboy</th>\n",
       "      <td>Color</td>\n",
       "      <td>Katsuhiro Ôtomo</td>\n",
       "      <td>105.0</td>\n",
       "      <td>-0.312154</td>\n",
       "      <td>-0.235007</td>\n",
       "      <td>101.0</td>\n",
       "      <td>Robin Atkin Downes</td>\n",
       "      <td>-0.465071</td>\n",
       "      <td>-0.732654</td>\n",
       "      <td>Action</td>\n",
       "      <td>...</td>\n",
       "      <td>Japan</td>\n",
       "      <td>PG-13</td>\n",
       "      <td>9.300651</td>\n",
       "      <td>2004.0</td>\n",
       "      <td>-0.367595</td>\n",
       "      <td>6.9</td>\n",
       "      <td>1.85</td>\n",
       "      <td>-0.386913</td>\n",
       "      <td>0.000193</td>\n",
       "      <td>False</td>\n",
       "    </tr>\n",
       "    <tr>\n",
       "      <th>Akira</th>\n",
       "      <td>Color</td>\n",
       "      <td>Katsuhiro Ôtomo</td>\n",
       "      <td>150.0</td>\n",
       "      <td>0.618066</td>\n",
       "      <td>-0.235007</td>\n",
       "      <td>4.0</td>\n",
       "      <td>Takeshi Kusao</td>\n",
       "      <td>-0.496289</td>\n",
       "      <td>-0.732244</td>\n",
       "      <td>Action</td>\n",
       "      <td>...</td>\n",
       "      <td>Japan</td>\n",
       "      <td>R</td>\n",
       "      <td>4.710433</td>\n",
       "      <td>1988.0</td>\n",
       "      <td>-0.440975</td>\n",
       "      <td>8.1</td>\n",
       "      <td>1.85</td>\n",
       "      <td>-0.432301</td>\n",
       "      <td>0.000399</td>\n",
       "      <td>False</td>\n",
       "    </tr>\n",
       "    <tr>\n",
       "      <th>Godzilla 2000</th>\n",
       "      <td>Color</td>\n",
       "      <td>Takao Okawara</td>\n",
       "      <td>107.0</td>\n",
       "      <td>-0.489339</td>\n",
       "      <td>-0.260012</td>\n",
       "      <td>3.0</td>\n",
       "      <td>Naomi Nishida</td>\n",
       "      <td>-0.493893</td>\n",
       "      <td>-0.595242</td>\n",
       "      <td>Action</td>\n",
       "      <td>...</td>\n",
       "      <td>Japan</td>\n",
       "      <td>PG</td>\n",
       "      <td>4.263705</td>\n",
       "      <td>1999.0</td>\n",
       "      <td>-0.441418</td>\n",
       "      <td>6.0</td>\n",
       "      <td>2.35</td>\n",
       "      <td>-0.416488</td>\n",
       "      <td>0.010037</td>\n",
       "      <td>False</td>\n",
       "    </tr>\n",
       "    <tr>\n",
       "      <th>Kabhi Alvida Naa Kehna</th>\n",
       "      <td>Color</td>\n",
       "      <td>Karan Johar</td>\n",
       "      <td>20.0</td>\n",
       "      <td>3.674503</td>\n",
       "      <td>-0.208029</td>\n",
       "      <td>860.0</td>\n",
       "      <td>John Abraham</td>\n",
       "      <td>0.021470</td>\n",
       "      <td>-0.691760</td>\n",
       "      <td>Drama</td>\n",
       "      <td>...</td>\n",
       "      <td>India</td>\n",
       "      <td>R</td>\n",
       "      <td>2.923522</td>\n",
       "      <td>2006.0</td>\n",
       "      <td>-0.220391</td>\n",
       "      <td>6.0</td>\n",
       "      <td>2.35</td>\n",
       "      <td>-0.401560</td>\n",
       "      <td>0.004679</td>\n",
       "      <td>False</td>\n",
       "    </tr>\n",
       "    <tr>\n",
       "      <th>Tango</th>\n",
       "      <td>Color</td>\n",
       "      <td>Carlos Saura</td>\n",
       "      <td>35.0</td>\n",
       "      <td>0.219400</td>\n",
       "      <td>-0.228427</td>\n",
       "      <td>4.0</td>\n",
       "      <td>Juan Luis Galiardo</td>\n",
       "      <td>-0.474592</td>\n",
       "      <td>-0.714428</td>\n",
       "      <td>Drama</td>\n",
       "      <td>...</td>\n",
       "      <td>Spain</td>\n",
       "      <td>PG-13</td>\n",
       "      <td>2.923522</td>\n",
       "      <td>1998.0</td>\n",
       "      <td>-0.436319</td>\n",
       "      <td>7.2</td>\n",
       "      <td>2.00</td>\n",
       "      <td>-0.407158</td>\n",
       "      <td>0.002410</td>\n",
       "      <td>False</td>\n",
       "    </tr>\n",
       "    <tr>\n",
       "      <th>Red Cliff</th>\n",
       "      <td>Color</td>\n",
       "      <td>John Woo</td>\n",
       "      <td>160.0</td>\n",
       "      <td>1.769767</td>\n",
       "      <td>-0.059977</td>\n",
       "      <td>478.0</td>\n",
       "      <td>Tony Chiu Wai Leung</td>\n",
       "      <td>-0.447778</td>\n",
       "      <td>-0.729565</td>\n",
       "      <td>Action</td>\n",
       "      <td>...</td>\n",
       "      <td>China</td>\n",
       "      <td>R</td>\n",
       "      <td>2.269655</td>\n",
       "      <td>2008.0</td>\n",
       "      <td>-0.299535</td>\n",
       "      <td>7.4</td>\n",
       "      <td>2.35</td>\n",
       "      <td>-0.432301</td>\n",
       "      <td>0.001132</td>\n",
       "      <td>False</td>\n",
       "    </tr>\n",
       "    <tr>\n",
       "      <th>The Legend of Suriyothai</th>\n",
       "      <td>Color</td>\n",
       "      <td>Chatrichalerm Yukol</td>\n",
       "      <td>31.0</td>\n",
       "      <td>8.414196</td>\n",
       "      <td>-0.258696</td>\n",
       "      <td>6.0</td>\n",
       "      <td>Chatchai Plengpanich</td>\n",
       "      <td>-0.496224</td>\n",
       "      <td>-0.732028</td>\n",
       "      <td>Action</td>\n",
       "      <td>...</td>\n",
       "      <td>Thailand</td>\n",
       "      <td>R</td>\n",
       "      <td>1.583338</td>\n",
       "      <td>2001.0</td>\n",
       "      <td>-0.440753</td>\n",
       "      <td>6.6</td>\n",
       "      <td>1.85</td>\n",
       "      <td>-0.426517</td>\n",
       "      <td>0.001136</td>\n",
       "      <td>False</td>\n",
       "    </tr>\n",
       "    <tr>\n",
       "      <th>The Messenger: The Story of Joan of Arc</th>\n",
       "      <td>Color</td>\n",
       "      <td>Luc Besson</td>\n",
       "      <td>111.0</td>\n",
       "      <td>2.124136</td>\n",
       "      <td>-0.260670</td>\n",
       "      <td>15.0</td>\n",
       "      <td>David Bailie</td>\n",
       "      <td>-0.493375</td>\n",
       "      <td>-0.536807</td>\n",
       "      <td>Adventure</td>\n",
       "      <td>...</td>\n",
       "      <td>France</td>\n",
       "      <td>R</td>\n",
       "      <td>1.538665</td>\n",
       "      <td>1999.0</td>\n",
       "      <td>-0.433216</td>\n",
       "      <td>6.4</td>\n",
       "      <td>2.35</td>\n",
       "      <td>-0.432301</td>\n",
       "      <td>0.036234</td>\n",
       "      <td>False</td>\n",
       "    </tr>\n",
       "    <tr>\n",
       "      <th>Pirates of the Caribbean: At World's End</th>\n",
       "      <td>Color</td>\n",
       "      <td>Gore Verbinski</td>\n",
       "      <td>302.0</td>\n",
       "      <td>2.611395</td>\n",
       "      <td>-0.075440</td>\n",
       "      <td>1000.0</td>\n",
       "      <td>Orlando Bloom</td>\n",
       "      <td>2.094060</td>\n",
       "      <td>3.677818</td>\n",
       "      <td>Action</td>\n",
       "      <td>...</td>\n",
       "      <td>USA</td>\n",
       "      <td>PG-13</td>\n",
       "      <td>1.136610</td>\n",
       "      <td>2007.0</td>\n",
       "      <td>0.666376</td>\n",
       "      <td>7.1</td>\n",
       "      <td>2.35</td>\n",
       "      <td>-0.432301</td>\n",
       "      <td>1.031347</td>\n",
       "      <td>False</td>\n",
       "    </tr>\n",
       "    <tr>\n",
       "      <th>Ong-bak 2</th>\n",
       "      <td>Color</td>\n",
       "      <td>Tony Jaa</td>\n",
       "      <td>110.0</td>\n",
       "      <td>-0.002081</td>\n",
       "      <td>-0.260670</td>\n",
       "      <td>7.0</td>\n",
       "      <td>Petchtai Wongkamlao</td>\n",
       "      <td>-0.492533</td>\n",
       "      <td>-0.737056</td>\n",
       "      <td>Action</td>\n",
       "      <td>...</td>\n",
       "      <td>Thailand</td>\n",
       "      <td>R</td>\n",
       "      <td>1.136610</td>\n",
       "      <td>2008.0</td>\n",
       "      <td>-0.432107</td>\n",
       "      <td>6.2</td>\n",
       "      <td>2.35</td>\n",
       "      <td>-0.432301</td>\n",
       "      <td>0.000340</td>\n",
       "      <td>False</td>\n",
       "    </tr>\n",
       "    <tr>\n",
       "      <th>John Carter</th>\n",
       "      <td>Color</td>\n",
       "      <td>Andrew Stanton</td>\n",
       "      <td>462.0</td>\n",
       "      <td>0.972435</td>\n",
       "      <td>-0.104393</td>\n",
       "      <td>530.0</td>\n",
       "      <td>Samantha Morton</td>\n",
       "      <td>-0.455226</td>\n",
       "      <td>0.304303</td>\n",
       "      <td>Action</td>\n",
       "      <td>...</td>\n",
       "      <td>USA</td>\n",
       "      <td>PG-13</td>\n",
       "      <td>0.974448</td>\n",
       "      <td>2012.0</td>\n",
       "      <td>-0.301974</td>\n",
       "      <td>6.6</td>\n",
       "      <td>2.35</td>\n",
       "      <td>0.687252</td>\n",
       "      <td>0.277052</td>\n",
       "      <td>False</td>\n",
       "    </tr>\n",
       "    <tr>\n",
       "      <th>Tangled</th>\n",
       "      <td>Color</td>\n",
       "      <td>Nathan Greno</td>\n",
       "      <td>324.0</td>\n",
       "      <td>-0.445043</td>\n",
       "      <td>-0.255735</td>\n",
       "      <td>284.0</td>\n",
       "      <td>Donna Murphy</td>\n",
       "      <td>-0.444928</td>\n",
       "      <td>2.127743</td>\n",
       "      <td>Adventure</td>\n",
       "      <td>...</td>\n",
       "      <td>USA</td>\n",
       "      <td>PG</td>\n",
       "      <td>0.957919</td>\n",
       "      <td>2010.0</td>\n",
       "      <td>-0.319488</td>\n",
       "      <td>7.8</td>\n",
       "      <td>1.85</td>\n",
       "      <td>0.920492</td>\n",
       "      <td>0.772336</td>\n",
       "      <td>False</td>\n",
       "    </tr>\n",
       "    <tr>\n",
       "      <th>Spider-Man 3</th>\n",
       "      <td>Color</td>\n",
       "      <td>Sam Raimi</td>\n",
       "      <td>392.0</td>\n",
       "      <td>2.035544</td>\n",
       "      <td>-0.260670</td>\n",
       "      <td>4000.0</td>\n",
       "      <td>James Franco</td>\n",
       "      <td>1.057765</td>\n",
       "      <td>4.065008</td>\n",
       "      <td>Action</td>\n",
       "      <td>...</td>\n",
       "      <td>USA</td>\n",
       "      <td>PG-13</td>\n",
       "      <td>0.948984</td>\n",
       "      <td>2007.0</td>\n",
       "      <td>1.996527</td>\n",
       "      <td>6.2</td>\n",
       "      <td>2.35</td>\n",
       "      <td>-0.432301</td>\n",
       "      <td>1.304381</td>\n",
       "      <td>True</td>\n",
       "    </tr>\n",
       "    <tr>\n",
       "      <th>Spider-Man 3</th>\n",
       "      <td>Color</td>\n",
       "      <td>Sam Raimi</td>\n",
       "      <td>392.0</td>\n",
       "      <td>2.035544</td>\n",
       "      <td>-0.260670</td>\n",
       "      <td>4000.0</td>\n",
       "      <td>James Franco</td>\n",
       "      <td>1.057765</td>\n",
       "      <td>4.065008</td>\n",
       "      <td>Action</td>\n",
       "      <td>...</td>\n",
       "      <td>USA</td>\n",
       "      <td>PG-13</td>\n",
       "      <td>0.948984</td>\n",
       "      <td>2007.0</td>\n",
       "      <td>1.996527</td>\n",
       "      <td>6.2</td>\n",
       "      <td>2.35</td>\n",
       "      <td>-0.432301</td>\n",
       "      <td>1.304381</td>\n",
       "      <td>True</td>\n",
       "    </tr>\n",
       "    <tr>\n",
       "      <th>Captain America: Civil War</th>\n",
       "      <td>Color</td>\n",
       "      <td>Anthony Russo</td>\n",
       "      <td>516.0</td>\n",
       "      <td>1.636878</td>\n",
       "      <td>-0.229743</td>\n",
       "      <td>11000.0</td>\n",
       "      <td>Scarlett Johansson</td>\n",
       "      <td>0.863460</td>\n",
       "      <td>5.073685</td>\n",
       "      <td>Action</td>\n",
       "      <td>...</td>\n",
       "      <td>USA</td>\n",
       "      <td>PG-13</td>\n",
       "      <td>0.913246</td>\n",
       "      <td>2016.0</td>\n",
       "      <td>3.770062</td>\n",
       "      <td>8.2</td>\n",
       "      <td>2.35</td>\n",
       "      <td>2.926358</td>\n",
       "      <td>1.628789</td>\n",
       "      <td>True</td>\n",
       "    </tr>\n",
       "    <tr>\n",
       "      <th>The Dark Knight Rises</th>\n",
       "      <td>Color</td>\n",
       "      <td>Christopher Nolan</td>\n",
       "      <td>813.0</td>\n",
       "      <td>2.389914</td>\n",
       "      <td>6.977433</td>\n",
       "      <td>23000.0</td>\n",
       "      <td>Christian Bale</td>\n",
       "      <td>1.252070</td>\n",
       "      <td>5.657954</td>\n",
       "      <td>Action</td>\n",
       "      <td>...</td>\n",
       "      <td>USA</td>\n",
       "      <td>PG-13</td>\n",
       "      <td>0.913246</td>\n",
       "      <td>2012.0</td>\n",
       "      <td>4.656830</td>\n",
       "      <td>8.5</td>\n",
       "      <td>2.35</td>\n",
       "      <td>7.217979</td>\n",
       "      <td>1.792523</td>\n",
       "      <td>True</td>\n",
       "    </tr>\n",
       "    <tr>\n",
       "      <th>Pirates of the Caribbean: On Stranger Tides</th>\n",
       "      <td>Color</td>\n",
       "      <td>Rob Marshall</td>\n",
       "      <td>448.0</td>\n",
       "      <td>1.149620</td>\n",
       "      <td>-0.177761</td>\n",
       "      <td>1000.0</td>\n",
       "      <td>Sam Claflin</td>\n",
       "      <td>2.094060</td>\n",
       "      <td>2.702352</td>\n",
       "      <td>Action</td>\n",
       "      <td>...</td>\n",
       "      <td>USA</td>\n",
       "      <td>PG-13</td>\n",
       "      <td>0.913246</td>\n",
       "      <td>2011.0</td>\n",
       "      <td>1.996527</td>\n",
       "      <td>6.7</td>\n",
       "      <td>2.35</td>\n",
       "      <td>2.273286</td>\n",
       "      <td>0.964256</td>\n",
       "      <td>False</td>\n",
       "    </tr>\n",
       "    <tr>\n",
       "      <th>Batman v Superman: Dawn of Justice</th>\n",
       "      <td>Color</td>\n",
       "      <td>Zack Snyder</td>\n",
       "      <td>673.0</td>\n",
       "      <td>3.231541</td>\n",
       "      <td>-0.260670</td>\n",
       "      <td>2000.0</td>\n",
       "      <td>Lauren Cohan</td>\n",
       "      <td>0.474849</td>\n",
       "      <td>3.975352</td>\n",
       "      <td>Action</td>\n",
       "      <td>...</td>\n",
       "      <td>USA</td>\n",
       "      <td>PG-13</td>\n",
       "      <td>0.913246</td>\n",
       "      <td>2016.0</td>\n",
       "      <td>0.444684</td>\n",
       "      <td>6.9</td>\n",
       "      <td>2.35</td>\n",
       "      <td>8.757365</td>\n",
       "      <td>1.320996</td>\n",
       "      <td>True</td>\n",
       "    </tr>\n",
       "    <tr>\n",
       "      <th>The Hobbit: The Battle of the Five Armies</th>\n",
       "      <td>Color</td>\n",
       "      <td>Peter Jackson</td>\n",
       "      <td>422.0</td>\n",
       "      <td>2.389914</td>\n",
       "      <td>-0.260670</td>\n",
       "      <td>773.0</td>\n",
       "      <td>Adam Brown</td>\n",
       "      <td>-0.172836</td>\n",
       "      <td>2.902819</td>\n",
       "      <td>Adventure</td>\n",
       "      <td>...</td>\n",
       "      <td>New Zealand</td>\n",
       "      <td>PG-13</td>\n",
       "      <td>0.913246</td>\n",
       "      <td>2014.0</td>\n",
       "      <td>-0.226599</td>\n",
       "      <td>7.5</td>\n",
       "      <td>2.35</td>\n",
       "      <td>2.599822</td>\n",
       "      <td>1.020433</td>\n",
       "      <td>False</td>\n",
       "    </tr>\n",
       "    <tr>\n",
       "      <th>Harry Potter and the Half-Blood Prince</th>\n",
       "      <td>Color</td>\n",
       "      <td>David Yates</td>\n",
       "      <td>375.0</td>\n",
       "      <td>1.902656</td>\n",
       "      <td>-0.167890</td>\n",
       "      <td>10000.0</td>\n",
       "      <td>Daniel Radcliffe</td>\n",
       "      <td>1.122533</td>\n",
       "      <td>3.571520</td>\n",
       "      <td>Adventure</td>\n",
       "      <td>...</td>\n",
       "      <td>UK</td>\n",
       "      <td>PG</td>\n",
       "      <td>0.913246</td>\n",
       "      <td>2009.0</td>\n",
       "      <td>1.996527</td>\n",
       "      <td>7.5</td>\n",
       "      <td>2.35</td>\n",
       "      <td>0.034179</td>\n",
       "      <td>1.207828</td>\n",
       "      <td>True</td>\n",
       "    </tr>\n",
       "    <tr>\n",
       "      <th>Avengers: Age of Ultron</th>\n",
       "      <td>Color</td>\n",
       "      <td>Joss Whedon</td>\n",
       "      <td>635.0</td>\n",
       "      <td>1.371101</td>\n",
       "      <td>-0.260670</td>\n",
       "      <td>19000.0</td>\n",
       "      <td>Robert Downey Jr.</td>\n",
       "      <td>1.187302</td>\n",
       "      <td>5.812979</td>\n",
       "      <td>Action</td>\n",
       "      <td>...</td>\n",
       "      <td>USA</td>\n",
       "      <td>PG-13</td>\n",
       "      <td>0.913246</td>\n",
       "      <td>2015.0</td>\n",
       "      <td>4.213446</td>\n",
       "      <td>7.5</td>\n",
       "      <td>2.35</td>\n",
       "      <td>5.072169</td>\n",
       "      <td>1.835966</td>\n",
       "      <td>True</td>\n",
       "    </tr>\n",
       "    <tr>\n",
       "      <th>Spectre</th>\n",
       "      <td>Color</td>\n",
       "      <td>Sam Mendes</td>\n",
       "      <td>602.0</td>\n",
       "      <td>1.681175</td>\n",
       "      <td>-0.260670</td>\n",
       "      <td>161.0</td>\n",
       "      <td>Rory Kinnear</td>\n",
       "      <td>0.215775</td>\n",
       "      <td>2.117279</td>\n",
       "      <td>Action</td>\n",
       "      <td>...</td>\n",
       "      <td>UK</td>\n",
       "      <td>PG-13</td>\n",
       "      <td>0.890910</td>\n",
       "      <td>2015.0</td>\n",
       "      <td>-0.354958</td>\n",
       "      <td>6.8</td>\n",
       "      <td>2.35</td>\n",
       "      <td>3.532783</td>\n",
       "      <td>0.816629</td>\n",
       "      <td>False</td>\n",
       "    </tr>\n",
       "    <tr>\n",
       "      <th>Avatar</th>\n",
       "      <td>Color</td>\n",
       "      <td>James Cameron</td>\n",
       "      <td>723.0</td>\n",
       "      <td>3.010060</td>\n",
       "      <td>-0.260670</td>\n",
       "      <td>855.0</td>\n",
       "      <td>Joel David Moore</td>\n",
       "      <td>-0.431909</td>\n",
       "      <td>10.116692</td>\n",
       "      <td>Action</td>\n",
       "      <td>...</td>\n",
       "      <td>USA</td>\n",
       "      <td>PG-13</td>\n",
       "      <td>0.855171</td>\n",
       "      <td>2009.0</td>\n",
       "      <td>-0.234580</td>\n",
       "      <td>7.9</td>\n",
       "      <td>1.78</td>\n",
       "      <td>1.107084</td>\n",
       "      <td>3.208885</td>\n",
       "      <td>True</td>\n",
       "    </tr>\n",
       "    <tr>\n",
       "      <th>The Amazing Spider-Man</th>\n",
       "      <td>Color</td>\n",
       "      <td>Marc Webb</td>\n",
       "      <td>599.0</td>\n",
       "      <td>1.902656</td>\n",
       "      <td>-0.108012</td>\n",
       "      <td>963.0</td>\n",
       "      <td>Andrew Garfield</td>\n",
       "      <td>0.474849</td>\n",
       "      <td>3.001625</td>\n",
       "      <td>Action</td>\n",
       "      <td>...</td>\n",
       "      <td>USA</td>\n",
       "      <td>PG-13</td>\n",
       "      <td>0.823901</td>\n",
       "      <td>2012.0</td>\n",
       "      <td>1.774835</td>\n",
       "      <td>7.0</td>\n",
       "      <td>2.35</td>\n",
       "      <td>2.179990</td>\n",
       "      <td>1.139264</td>\n",
       "      <td>False</td>\n",
       "    </tr>\n",
       "    <tr>\n",
       "      <th>The Hobbit: The Desolation of Smaug</th>\n",
       "      <td>Color</td>\n",
       "      <td>Peter Jackson</td>\n",
       "      <td>509.0</td>\n",
       "      <td>3.364430</td>\n",
       "      <td>-0.260670</td>\n",
       "      <td>773.0</td>\n",
       "      <td>Adam Brown</td>\n",
       "      <td>-0.172836</td>\n",
       "      <td>2.949165</td>\n",
       "      <td>Adventure</td>\n",
       "      <td>...</td>\n",
       "      <td>USA</td>\n",
       "      <td>PG-13</td>\n",
       "      <td>0.801564</td>\n",
       "      <td>2013.0</td>\n",
       "      <td>-0.226599</td>\n",
       "      <td>7.9</td>\n",
       "      <td>2.35</td>\n",
       "      <td>3.439487</td>\n",
       "      <td>1.148246</td>\n",
       "      <td>False</td>\n",
       "    </tr>\n",
       "    <tr>\n",
       "      <th>Men in Black 3</th>\n",
       "      <td>Color</td>\n",
       "      <td>Barry Sonnenfeld</td>\n",
       "      <td>451.0</td>\n",
       "      <td>-0.179265</td>\n",
       "      <td>-0.198817</td>\n",
       "      <td>718.0</td>\n",
       "      <td>Michael Stuhlbarg</td>\n",
       "      <td>0.151007</td>\n",
       "      <td>1.816771</td>\n",
       "      <td>Action</td>\n",
       "      <td>...</td>\n",
       "      <td>USA</td>\n",
       "      <td>PG-13</td>\n",
       "      <td>0.801564</td>\n",
       "      <td>2012.0</td>\n",
       "      <td>-0.261183</td>\n",
       "      <td>6.8</td>\n",
       "      <td>1.85</td>\n",
       "      <td>1.433621</td>\n",
       "      <td>0.795648</td>\n",
       "      <td>False</td>\n",
       "    </tr>\n",
       "    <tr>\n",
       "      <th>...</th>\n",
       "      <td>...</td>\n",
       "      <td>...</td>\n",
       "      <td>...</td>\n",
       "      <td>...</td>\n",
       "      <td>...</td>\n",
       "      <td>...</td>\n",
       "      <td>...</td>\n",
       "      <td>...</td>\n",
       "      <td>...</td>\n",
       "      <td>...</td>\n",
       "      <td>...</td>\n",
       "      <td>...</td>\n",
       "      <td>...</td>\n",
       "      <td>...</td>\n",
       "      <td>...</td>\n",
       "      <td>...</td>\n",
       "      <td>...</td>\n",
       "      <td>...</td>\n",
       "      <td>...</td>\n",
       "      <td>...</td>\n",
       "      <td>...</td>\n",
       "    </tr>\n",
       "    <tr>\n",
       "      <th>The Animal</th>\n",
       "      <td>Color</td>\n",
       "      <td>Luke Greenfield</td>\n",
       "      <td>75.0</td>\n",
       "      <td>-1.153782</td>\n",
       "      <td>-0.246852</td>\n",
       "      <td>182.0</td>\n",
       "      <td>Michael Papajohn</td>\n",
       "      <td>-0.468439</td>\n",
       "      <td>0.057419</td>\n",
       "      <td>Comedy</td>\n",
       "      <td>...</td>\n",
       "      <td>USA</td>\n",
       "      <td>PG-13</td>\n",
       "      <td>-0.105293</td>\n",
       "      <td>2001.0</td>\n",
       "      <td>-0.388656</td>\n",
       "      <td>4.8</td>\n",
       "      <td>1.85</td>\n",
       "      <td>-0.385653</td>\n",
       "      <td>2.534647</td>\n",
       "      <td>True</td>\n",
       "    </tr>\n",
       "    <tr>\n",
       "      <th>Willard</th>\n",
       "      <td>Color</td>\n",
       "      <td>Glen Morgan</td>\n",
       "      <td>129.0</td>\n",
       "      <td>-0.445043</td>\n",
       "      <td>-0.255077</td>\n",
       "      <td>86.0</td>\n",
       "      <td>Ty Olsson</td>\n",
       "      <td>-0.453348</td>\n",
       "      <td>-0.640707</td>\n",
       "      <td>Drama</td>\n",
       "      <td>...</td>\n",
       "      <td>Canada</td>\n",
       "      <td>PG-13</td>\n",
       "      <td>-0.105293</td>\n",
       "      <td>2003.0</td>\n",
       "      <td>-0.346978</td>\n",
       "      <td>6.2</td>\n",
       "      <td>2.35</td>\n",
       "      <td>-0.432301</td>\n",
       "      <td>0.311461</td>\n",
       "      <td>False</td>\n",
       "    </tr>\n",
       "    <tr>\n",
       "      <th>Summer of Sam</th>\n",
       "      <td>Color</td>\n",
       "      <td>Spike Lee</td>\n",
       "      <td>85.0</td>\n",
       "      <td>1.415397</td>\n",
       "      <td>-0.260670</td>\n",
       "      <td>854.0</td>\n",
       "      <td>Jennifer Esposito</td>\n",
       "      <td>-0.433334</td>\n",
       "      <td>-0.463262</td>\n",
       "      <td>Crime</td>\n",
       "      <td>...</td>\n",
       "      <td>USA</td>\n",
       "      <td>R</td>\n",
       "      <td>-0.105293</td>\n",
       "      <td>1999.0</td>\n",
       "      <td>-0.240122</td>\n",
       "      <td>6.6</td>\n",
       "      <td>1.85</td>\n",
       "      <td>-0.432301</td>\n",
       "      <td>0.876536</td>\n",
       "      <td>False</td>\n",
       "    </tr>\n",
       "    <tr>\n",
       "      <th>Homefront</th>\n",
       "      <td>Color</td>\n",
       "      <td>Gary Fleder</td>\n",
       "      <td>203.0</td>\n",
       "      <td>-0.445043</td>\n",
       "      <td>-0.247839</td>\n",
       "      <td>798.0</td>\n",
       "      <td>James Franco</td>\n",
       "      <td>1.187302</td>\n",
       "      <td>-0.456125</td>\n",
       "      <td>Action</td>\n",
       "      <td>...</td>\n",
       "      <td>USA</td>\n",
       "      <td>R</td>\n",
       "      <td>-0.105293</td>\n",
       "      <td>2013.0</td>\n",
       "      <td>1.996527</td>\n",
       "      <td>6.5</td>\n",
       "      <td>2.35</td>\n",
       "      <td>0.267420</td>\n",
       "      <td>0.899263</td>\n",
       "      <td>False</td>\n",
       "    </tr>\n",
       "    <tr>\n",
       "      <th>The Game Plan</th>\n",
       "      <td>Color</td>\n",
       "      <td>Andy Fickman</td>\n",
       "      <td>112.0</td>\n",
       "      <td>-0.002081</td>\n",
       "      <td>-0.228098</td>\n",
       "      <td>835.0</td>\n",
       "      <td>Kyra Sedgwick</td>\n",
       "      <td>0.280544</td>\n",
       "      <td>0.555210</td>\n",
       "      <td>Comedy</td>\n",
       "      <td>...</td>\n",
       "      <td>USA</td>\n",
       "      <td>PG</td>\n",
       "      <td>-0.105293</td>\n",
       "      <td>2007.0</td>\n",
       "      <td>-0.233471</td>\n",
       "      <td>6.2</td>\n",
       "      <td>2.35</td>\n",
       "      <td>-0.432301</td>\n",
       "      <td>4.119863</td>\n",
       "      <td>True</td>\n",
       "    </tr>\n",
       "    <tr>\n",
       "      <th>The Santa Clause</th>\n",
       "      <td>Color</td>\n",
       "      <td>John Pasquin</td>\n",
       "      <td>64.0</td>\n",
       "      <td>-0.577931</td>\n",
       "      <td>-0.257051</td>\n",
       "      <td>595.0</td>\n",
       "      <td>Eric Lloyd</td>\n",
       "      <td>-0.438321</td>\n",
       "      <td>1.328790</td>\n",
       "      <td>Comedy</td>\n",
       "      <td>...</td>\n",
       "      <td>USA</td>\n",
       "      <td>PG</td>\n",
       "      <td>-0.105293</td>\n",
       "      <td>1994.0</td>\n",
       "      <td>-0.270272</td>\n",
       "      <td>6.4</td>\n",
       "      <td>1.85</td>\n",
       "      <td>-0.432301</td>\n",
       "      <td>6.583334</td>\n",
       "      <td>True</td>\n",
       "    </tr>\n",
       "    <tr>\n",
       "      <th>Ghost</th>\n",
       "      <td>Color</td>\n",
       "      <td>Jerry Zucker</td>\n",
       "      <td>77.0</td>\n",
       "      <td>0.750955</td>\n",
       "      <td>-0.224808</td>\n",
       "      <td>71.0</td>\n",
       "      <td>Tony Goldwyn</td>\n",
       "      <td>-0.367141</td>\n",
       "      <td>2.367884</td>\n",
       "      <td>Drama</td>\n",
       "      <td>...</td>\n",
       "      <td>USA</td>\n",
       "      <td>PG-13</td>\n",
       "      <td>-0.105293</td>\n",
       "      <td>1990.0</td>\n",
       "      <td>-0.230146</td>\n",
       "      <td>7.0</td>\n",
       "      <td>1.85</td>\n",
       "      <td>-0.432301</td>\n",
       "      <td>9.892332</td>\n",
       "      <td>True</td>\n",
       "    </tr>\n",
       "    <tr>\n",
       "      <th>Jay and Silent Bob Strike Back</th>\n",
       "      <td>Color</td>\n",
       "      <td>Kevin Smith</td>\n",
       "      <td>181.0</td>\n",
       "      <td>-0.267858</td>\n",
       "      <td>-0.260670</td>\n",
       "      <td>898.0</td>\n",
       "      <td>Shannon Elizabeth</td>\n",
       "      <td>0.021470</td>\n",
       "      <td>-0.309455</td>\n",
       "      <td>Comedy</td>\n",
       "      <td>...</td>\n",
       "      <td>USA</td>\n",
       "      <td>R</td>\n",
       "      <td>-0.105293</td>\n",
       "      <td>2001.0</td>\n",
       "      <td>-0.220391</td>\n",
       "      <td>6.9</td>\n",
       "      <td>2.35</td>\n",
       "      <td>-0.432301</td>\n",
       "      <td>1.366336</td>\n",
       "      <td>True</td>\n",
       "    </tr>\n",
       "    <tr>\n",
       "      <th>My Fellow Americans</th>\n",
       "      <td>Color</td>\n",
       "      <td>Peter Segal</td>\n",
       "      <td>27.0</td>\n",
       "      <td>-0.400746</td>\n",
       "      <td>-0.231717</td>\n",
       "      <td>812.0</td>\n",
       "      <td>Bradley Whitford</td>\n",
       "      <td>-0.434694</td>\n",
       "      <td>-0.420290</td>\n",
       "      <td>Adventure</td>\n",
       "      <td>...</td>\n",
       "      <td>USA</td>\n",
       "      <td>PG-13</td>\n",
       "      <td>-0.107527</td>\n",
       "      <td>1996.0</td>\n",
       "      <td>-0.260074</td>\n",
       "      <td>6.5</td>\n",
       "      <td>1.85</td>\n",
       "      <td>-0.396942</td>\n",
       "      <td>1.036946</td>\n",
       "      <td>False</td>\n",
       "    </tr>\n",
       "    <tr>\n",
       "      <th>Arlington Road</th>\n",
       "      <td>Color</td>\n",
       "      <td>Mark Pellington</td>\n",
       "      <td>155.0</td>\n",
       "      <td>0.307993</td>\n",
       "      <td>-0.231388</td>\n",
       "      <td>442.0</td>\n",
       "      <td>Spencer Treat Clark</td>\n",
       "      <td>0.280544</td>\n",
       "      <td>-0.390770</td>\n",
       "      <td>Crime</td>\n",
       "      <td>...</td>\n",
       "      <td>USA</td>\n",
       "      <td>R</td>\n",
       "      <td>-0.107527</td>\n",
       "      <td>1999.0</td>\n",
       "      <td>-0.322148</td>\n",
       "      <td>7.2</td>\n",
       "      <td>2.35</td>\n",
       "      <td>-0.432301</td>\n",
       "      <td>1.133140</td>\n",
       "      <td>False</td>\n",
       "    </tr>\n",
       "    <tr>\n",
       "      <th>Crocodile Dundee in Los Angeles</th>\n",
       "      <td>Color</td>\n",
       "      <td>Simon Wincer</td>\n",
       "      <td>71.0</td>\n",
       "      <td>-0.799412</td>\n",
       "      <td>-0.253103</td>\n",
       "      <td>162.0</td>\n",
       "      <td>Paul Hogan</td>\n",
       "      <td>-0.466884</td>\n",
       "      <td>-0.373247</td>\n",
       "      <td>Adventure</td>\n",
       "      <td>...</td>\n",
       "      <td>Australia</td>\n",
       "      <td>PG</td>\n",
       "      <td>-0.109091</td>\n",
       "      <td>2001.0</td>\n",
       "      <td>-0.344096</td>\n",
       "      <td>4.8</td>\n",
       "      <td>1.85</td>\n",
       "      <td>-0.414248</td>\n",
       "      <td>1.209935</td>\n",
       "      <td>True</td>\n",
       "    </tr>\n",
       "    <tr>\n",
       "      <th>Black Book</th>\n",
       "      <td>Color</td>\n",
       "      <td>Paul Verhoeven</td>\n",
       "      <td>231.0</td>\n",
       "      <td>1.548286</td>\n",
       "      <td>-0.024115</td>\n",
       "      <td>104.0</td>\n",
       "      <td>Sebastian Koch</td>\n",
       "      <td>-0.367141</td>\n",
       "      <td>-0.675731</td>\n",
       "      <td>Drama</td>\n",
       "      <td>...</td>\n",
       "      <td>Netherlands</td>\n",
       "      <td>R</td>\n",
       "      <td>-0.109761</td>\n",
       "      <td>2006.0</td>\n",
       "      <td>-0.357840</td>\n",
       "      <td>7.8</td>\n",
       "      <td>2.35</td>\n",
       "      <td>-0.432301</td>\n",
       "      <td>0.209447</td>\n",
       "      <td>False</td>\n",
       "    </tr>\n",
       "    <tr>\n",
       "      <th>DOA: Dead or Alive</th>\n",
       "      <td>Color</td>\n",
       "      <td>Corey Yuen</td>\n",
       "      <td>110.0</td>\n",
       "      <td>-1.020893</td>\n",
       "      <td>-0.253103</td>\n",
       "      <td>748.0</td>\n",
       "      <td>Holly Valance</td>\n",
       "      <td>-0.443179</td>\n",
       "      <td>-0.731656</td>\n",
       "      <td>Action</td>\n",
       "      <td>...</td>\n",
       "      <td>USA</td>\n",
       "      <td>PG-13</td>\n",
       "      <td>-0.109761</td>\n",
       "      <td>2006.0</td>\n",
       "      <td>-0.261183</td>\n",
       "      <td>4.8</td>\n",
       "      <td>2.35</td>\n",
       "      <td>-0.432301</td>\n",
       "      <td>0.022872</td>\n",
       "      <td>False</td>\n",
       "    </tr>\n",
       "    <tr>\n",
       "      <th>Firefox</th>\n",
       "      <td>Color</td>\n",
       "      <td>Clint Eastwood</td>\n",
       "      <td>43.0</td>\n",
       "      <td>1.149620</td>\n",
       "      <td>5.003405</td>\n",
       "      <td>216.0</td>\n",
       "      <td>Warren Clarke</td>\n",
       "      <td>0.539617</td>\n",
       "      <td>-0.071932</td>\n",
       "      <td>Action</td>\n",
       "      <td>...</td>\n",
       "      <td>USA</td>\n",
       "      <td>PG</td>\n",
       "      <td>-0.109761</td>\n",
       "      <td>1982.0</td>\n",
       "      <td>-0.379788</td>\n",
       "      <td>5.9</td>\n",
       "      <td>2.35</td>\n",
       "      <td>-0.432301</td>\n",
       "      <td>2.223810</td>\n",
       "      <td>True</td>\n",
       "    </tr>\n",
       "    <tr>\n",
       "      <th>South Park: Bigger Longer &amp; Uncut</th>\n",
       "      <td>Color</td>\n",
       "      <td>Trey Parker</td>\n",
       "      <td>163.0</td>\n",
       "      <td>-1.286670</td>\n",
       "      <td>-0.127094</td>\n",
       "      <td>406.0</td>\n",
       "      <td>Eric Idle</td>\n",
       "      <td>-0.438840</td>\n",
       "      <td>0.003837</td>\n",
       "      <td>Animation</td>\n",
       "      <td>...</td>\n",
       "      <td>USA</td>\n",
       "      <td>R</td>\n",
       "      <td>-0.109761</td>\n",
       "      <td>1999.0</td>\n",
       "      <td>-0.265838</td>\n",
       "      <td>7.8</td>\n",
       "      <td>1.85</td>\n",
       "      <td>-0.432301</td>\n",
       "      <td>2.476585</td>\n",
       "      <td>True</td>\n",
       "    </tr>\n",
       "    <tr>\n",
       "      <th>Hardball</th>\n",
       "      <td>Color</td>\n",
       "      <td>Brian Robbins</td>\n",
       "      <td>85.0</td>\n",
       "      <td>-0.179265</td>\n",
       "      <td>-0.244878</td>\n",
       "      <td>39.0</td>\n",
       "      <td>D.B. Sweeney</td>\n",
       "      <td>0.669154</td>\n",
       "      <td>-0.164430</td>\n",
       "      <td>Drama</td>\n",
       "      <td>...</td>\n",
       "      <td>USA</td>\n",
       "      <td>PG-13</td>\n",
       "      <td>-0.109761</td>\n",
       "      <td>2001.0</td>\n",
       "      <td>-0.318379</td>\n",
       "      <td>6.3</td>\n",
       "      <td>1.85</td>\n",
       "      <td>-0.432301</td>\n",
       "      <td>1.915224</td>\n",
       "      <td>True</td>\n",
       "    </tr>\n",
       "    <tr>\n",
       "      <th>The Royal Tenenbaums</th>\n",
       "      <td>Color</td>\n",
       "      <td>Wes Anderson</td>\n",
       "      <td>220.0</td>\n",
       "      <td>-0.002081</td>\n",
       "      <td>-0.260670</td>\n",
       "      <td>327.0</td>\n",
       "      <td>Anjelica Huston</td>\n",
       "      <td>0.345312</td>\n",
       "      <td>0.008766</td>\n",
       "      <td>Comedy</td>\n",
       "      <td>...</td>\n",
       "      <td>USA</td>\n",
       "      <td>R</td>\n",
       "      <td>-0.109761</td>\n",
       "      <td>2001.0</td>\n",
       "      <td>-0.220391</td>\n",
       "      <td>7.6</td>\n",
       "      <td>2.35</td>\n",
       "      <td>-0.432301</td>\n",
       "      <td>2.493030</td>\n",
       "      <td>True</td>\n",
       "    </tr>\n",
       "    <tr>\n",
       "      <th>We Own the Night</th>\n",
       "      <td>Color</td>\n",
       "      <td>James Gray</td>\n",
       "      <td>222.0</td>\n",
       "      <td>0.307993</td>\n",
       "      <td>-0.222834</td>\n",
       "      <td>97.0</td>\n",
       "      <td>Oleg Taktarov</td>\n",
       "      <td>-0.302372</td>\n",
       "      <td>-0.330811</td>\n",
       "      <td>Crime</td>\n",
       "      <td>...</td>\n",
       "      <td>USA</td>\n",
       "      <td>R</td>\n",
       "      <td>-0.109761</td>\n",
       "      <td>2007.0</td>\n",
       "      <td>-0.369590</td>\n",
       "      <td>6.9</td>\n",
       "      <td>1.85</td>\n",
       "      <td>-0.432301</td>\n",
       "      <td>1.360151</td>\n",
       "      <td>True</td>\n",
       "    </tr>\n",
       "    <tr>\n",
       "      <th>Silver Linings Playbook</th>\n",
       "      <td>Color</td>\n",
       "      <td>David O. Russell</td>\n",
       "      <td>539.0</td>\n",
       "      <td>0.529474</td>\n",
       "      <td>-0.018193</td>\n",
       "      <td>14000.0</td>\n",
       "      <td>Robert De Niro</td>\n",
       "      <td>1.705450</td>\n",
       "      <td>1.146880</td>\n",
       "      <td>Comedy</td>\n",
       "      <td>...</td>\n",
       "      <td>USA</td>\n",
       "      <td>R</td>\n",
       "      <td>-0.109761</td>\n",
       "      <td>2012.0</td>\n",
       "      <td>4.435138</td>\n",
       "      <td>7.8</td>\n",
       "      <td>2.35</td>\n",
       "      <td>5.025521</td>\n",
       "      <td>6.289948</td>\n",
       "      <td>True</td>\n",
       "    </tr>\n",
       "    <tr>\n",
       "      <th>Freedom Writers</th>\n",
       "      <td>Color</td>\n",
       "      <td>Richard LaGravenese</td>\n",
       "      <td>84.0</td>\n",
       "      <td>0.573770</td>\n",
       "      <td>-0.228427</td>\n",
       "      <td>579.0</td>\n",
       "      <td>Scott Glenn</td>\n",
       "      <td>-0.367141</td>\n",
       "      <td>-0.216358</td>\n",
       "      <td>Biography</td>\n",
       "      <td>...</td>\n",
       "      <td>Germany</td>\n",
       "      <td>PG-13</td>\n",
       "      <td>-0.109761</td>\n",
       "      <td>2007.0</td>\n",
       "      <td>-0.258966</td>\n",
       "      <td>7.5</td>\n",
       "      <td>1.85</td>\n",
       "      <td>0.034179</td>\n",
       "      <td>1.741983</td>\n",
       "      <td>True</td>\n",
       "    </tr>\n",
       "    <tr>\n",
       "      <th>Diary of a Wimpy Kid: Rodrick Rules</th>\n",
       "      <td>Color</td>\n",
       "      <td>David Bowers</td>\n",
       "      <td>103.0</td>\n",
       "      <td>-0.489339</td>\n",
       "      <td>-0.246852</td>\n",
       "      <td>557.0</td>\n",
       "      <td>Rachael Harris</td>\n",
       "      <td>-0.433529</td>\n",
       "      <td>0.013581</td>\n",
       "      <td>Comedy</td>\n",
       "      <td>...</td>\n",
       "      <td>USA</td>\n",
       "      <td>PG</td>\n",
       "      <td>-0.109761</td>\n",
       "      <td>2011.0</td>\n",
       "      <td>-0.315941</td>\n",
       "      <td>6.6</td>\n",
       "      <td>2.35</td>\n",
       "      <td>-0.432301</td>\n",
       "      <td>2.509096</td>\n",
       "      <td>True</td>\n",
       "    </tr>\n",
       "    <tr>\n",
       "      <th>The Transporter</th>\n",
       "      <td>Color</td>\n",
       "      <td>Louis Leterrier</td>\n",
       "      <td>171.0</td>\n",
       "      <td>-0.799412</td>\n",
       "      <td>-0.176774</td>\n",
       "      <td>447.0</td>\n",
       "      <td>Qi Shu</td>\n",
       "      <td>1.187302</td>\n",
       "      <td>-0.377439</td>\n",
       "      <td>Action</td>\n",
       "      <td>...</td>\n",
       "      <td>France</td>\n",
       "      <td>PG-13</td>\n",
       "      <td>-0.109761</td>\n",
       "      <td>2002.0</td>\n",
       "      <td>-0.220391</td>\n",
       "      <td>6.8</td>\n",
       "      <td>2.35</td>\n",
       "      <td>-0.432301</td>\n",
       "      <td>1.204593</td>\n",
       "      <td>True</td>\n",
       "    </tr>\n",
       "    <tr>\n",
       "      <th>Synecdoche, New York</th>\n",
       "      <td>Color</td>\n",
       "      <td>Charlie Kaufman</td>\n",
       "      <td>245.0</td>\n",
       "      <td>0.618066</td>\n",
       "      <td>-0.260670</td>\n",
       "      <td>631.0</td>\n",
       "      <td>Jennifer Jason Leigh</td>\n",
       "      <td>0.928228</td>\n",
       "      <td>-0.694522</td>\n",
       "      <td>Comedy</td>\n",
       "      <td>...</td>\n",
       "      <td>USA</td>\n",
       "      <td>R</td>\n",
       "      <td>-0.109761</td>\n",
       "      <td>2008.0</td>\n",
       "      <td>-0.220391</td>\n",
       "      <td>7.5</td>\n",
       "      <td>2.35</td>\n",
       "      <td>0.174123</td>\n",
       "      <td>0.146758</td>\n",
       "      <td>False</td>\n",
       "    </tr>\n",
       "    <tr>\n",
       "      <th>The Informant!</th>\n",
       "      <td>Color</td>\n",
       "      <td>Steven Soderbergh</td>\n",
       "      <td>248.0</td>\n",
       "      <td>-0.090673</td>\n",
       "      <td>-0.260670</td>\n",
       "      <td>690.0</td>\n",
       "      <td>Joel McHale</td>\n",
       "      <td>0.345312</td>\n",
       "      <td>-0.263005</td>\n",
       "      <td>Comedy</td>\n",
       "      <td>...</td>\n",
       "      <td>USA</td>\n",
       "      <td>R</td>\n",
       "      <td>-0.109761</td>\n",
       "      <td>2009.0</td>\n",
       "      <td>-0.279362</td>\n",
       "      <td>6.5</td>\n",
       "      <td>1.85</td>\n",
       "      <td>-0.432301</td>\n",
       "      <td>1.586361</td>\n",
       "      <td>True</td>\n",
       "    </tr>\n",
       "    <tr>\n",
       "      <th>The Rage: Carrie 2</th>\n",
       "      <td>Black and White</td>\n",
       "      <td>Katt Shea</td>\n",
       "      <td>85.0</td>\n",
       "      <td>-0.267858</td>\n",
       "      <td>-0.243561</td>\n",
       "      <td>484.0</td>\n",
       "      <td>Rachel Blanchard</td>\n",
       "      <td>-0.450627</td>\n",
       "      <td>-0.485054</td>\n",
       "      <td>Horror</td>\n",
       "      <td>...</td>\n",
       "      <td>USA</td>\n",
       "      <td>R</td>\n",
       "      <td>-0.109761</td>\n",
       "      <td>1999.0</td>\n",
       "      <td>-0.333454</td>\n",
       "      <td>4.6</td>\n",
       "      <td>1.85</td>\n",
       "      <td>-0.390458</td>\n",
       "      <td>0.845576</td>\n",
       "      <td>False</td>\n",
       "    </tr>\n",
       "    <tr>\n",
       "      <th>Swing Vote</th>\n",
       "      <td>Color</td>\n",
       "      <td>Joshua Michael Stern</td>\n",
       "      <td>131.0</td>\n",
       "      <td>0.440881</td>\n",
       "      <td>-0.260670</td>\n",
       "      <td>886.0</td>\n",
       "      <td>Judge Reinhold</td>\n",
       "      <td>-0.431909</td>\n",
       "      <td>-0.506075</td>\n",
       "      <td>Comedy</td>\n",
       "      <td>...</td>\n",
       "      <td>USA</td>\n",
       "      <td>PG-13</td>\n",
       "      <td>-0.109761</td>\n",
       "      <td>2008.0</td>\n",
       "      <td>-0.242339</td>\n",
       "      <td>6.1</td>\n",
       "      <td>2.35</td>\n",
       "      <td>-0.385653</td>\n",
       "      <td>0.775446</td>\n",
       "      <td>False</td>\n",
       "    </tr>\n",
       "    <tr>\n",
       "      <th>Moonlight Mile</th>\n",
       "      <td>Color</td>\n",
       "      <td>Brad Silberling</td>\n",
       "      <td>111.0</td>\n",
       "      <td>0.086512</td>\n",
       "      <td>-0.243561</td>\n",
       "      <td>347.0</td>\n",
       "      <td>Holly Hunter</td>\n",
       "      <td>0.474849</td>\n",
       "      <td>-0.641009</td>\n",
       "      <td>Drama</td>\n",
       "      <td>...</td>\n",
       "      <td>USA</td>\n",
       "      <td>PG-13</td>\n",
       "      <td>-0.109761</td>\n",
       "      <td>2002.0</td>\n",
       "      <td>-0.220391</td>\n",
       "      <td>6.7</td>\n",
       "      <td>2.35</td>\n",
       "      <td>-0.415275</td>\n",
       "      <td>0.325284</td>\n",
       "      <td>False</td>\n",
       "    </tr>\n",
       "    <tr>\n",
       "      <th>Molly</th>\n",
       "      <td>Color</td>\n",
       "      <td>John Duigan</td>\n",
       "      <td>16.0</td>\n",
       "      <td>-0.356450</td>\n",
       "      <td>-0.254748</td>\n",
       "      <td>186.0</td>\n",
       "      <td>Jill Hennessy</td>\n",
       "      <td>-0.453283</td>\n",
       "      <td>-0.738290</td>\n",
       "      <td>Comedy</td>\n",
       "      <td>...</td>\n",
       "      <td>USA</td>\n",
       "      <td>PG-13</td>\n",
       "      <td>-0.109761</td>\n",
       "      <td>1999.0</td>\n",
       "      <td>-0.349194</td>\n",
       "      <td>5.8</td>\n",
       "      <td>1.85</td>\n",
       "      <td>-0.419053</td>\n",
       "      <td>0.000743</td>\n",
       "      <td>False</td>\n",
       "    </tr>\n",
       "    <tr>\n",
       "      <th>The Beaver</th>\n",
       "      <td>Color</td>\n",
       "      <td>Jodie Foster</td>\n",
       "      <td>276.0</td>\n",
       "      <td>-0.843708</td>\n",
       "      <td>-0.260670</td>\n",
       "      <td>220.0</td>\n",
       "      <td>Cherry Jones</td>\n",
       "      <td>1.705450</td>\n",
       "      <td>-0.724834</td>\n",
       "      <td>Drama</td>\n",
       "      <td>...</td>\n",
       "      <td>USA</td>\n",
       "      <td>PG-13</td>\n",
       "      <td>-0.109761</td>\n",
       "      <td>2011.0</td>\n",
       "      <td>-0.388434</td>\n",
       "      <td>6.7</td>\n",
       "      <td>2.35</td>\n",
       "      <td>0.360716</td>\n",
       "      <td>0.045634</td>\n",
       "      <td>False</td>\n",
       "    </tr>\n",
       "    <tr>\n",
       "      <th>Everybody's Fine</th>\n",
       "      <td>Color</td>\n",
       "      <td>Kirk Jones</td>\n",
       "      <td>160.0</td>\n",
       "      <td>-0.489339</td>\n",
       "      <td>-0.243561</td>\n",
       "      <td>148.0</td>\n",
       "      <td>James Frain</td>\n",
       "      <td>0.928228</td>\n",
       "      <td>-0.612110</td>\n",
       "      <td>Adventure</td>\n",
       "      <td>...</td>\n",
       "      <td>USA</td>\n",
       "      <td>PG-13</td>\n",
       "      <td>-0.109761</td>\n",
       "      <td>2009.0</td>\n",
       "      <td>-0.220391</td>\n",
       "      <td>7.2</td>\n",
       "      <td>2.35</td>\n",
       "      <td>0.034179</td>\n",
       "      <td>0.421697</td>\n",
       "      <td>False</td>\n",
       "    </tr>\n",
       "  </tbody>\n",
       "</table>\n",
       "<p>2052 rows × 29 columns</p>\n",
       "</div>"
      ],
      "text/plain": [
       "                                                         color  \\\n",
       "movie_title                                                      \n",
       "The Host                                                 Color   \n",
       "Lady Vengeance                                           Color   \n",
       "Fateless                                                 Color   \n",
       "Princess Mononoke                                        Color   \n",
       "Steamboy                                                 Color   \n",
       "Akira                                                    Color   \n",
       "Godzilla 2000                                            Color   \n",
       "Kabhi Alvida Naa Kehna                                   Color   \n",
       "Tango                                                    Color   \n",
       "Red Cliff                                                Color   \n",
       "The Legend of Suriyothai                                 Color   \n",
       "The Messenger: The Story of Joan of Arc                  Color   \n",
       "Pirates of the Caribbean: At World's End                 Color   \n",
       "Ong-bak 2                                                Color   \n",
       "John Carter                                              Color   \n",
       "Tangled                                                  Color   \n",
       "Spider-Man 3                                             Color   \n",
       "Spider-Man 3                                             Color   \n",
       "Captain America: Civil War                               Color   \n",
       "The Dark Knight Rises                                    Color   \n",
       "Pirates of the Caribbean: On Stranger Tides              Color   \n",
       "Batman v Superman: Dawn of Justice                       Color   \n",
       "The Hobbit: The Battle of the Five Armies                Color   \n",
       "Harry Potter and the Half-Blood Prince                   Color   \n",
       "Avengers: Age of Ultron                                  Color   \n",
       "Spectre                                                  Color   \n",
       "Avatar                                                   Color   \n",
       "The Amazing Spider-Man                                   Color   \n",
       "The Hobbit: The Desolation of Smaug                      Color   \n",
       "Men in Black 3                                           Color   \n",
       "...                                                        ...   \n",
       "The Animal                                               Color   \n",
       "Willard                                                  Color   \n",
       "Summer of Sam                                            Color   \n",
       "Homefront                                                Color   \n",
       "The Game Plan                                            Color   \n",
       "The Santa Clause                                         Color   \n",
       "Ghost                                                    Color   \n",
       "Jay and Silent Bob Strike Back                           Color   \n",
       "My Fellow Americans                                      Color   \n",
       "Arlington Road                                           Color   \n",
       "Crocodile Dundee in Los Angeles                          Color   \n",
       "Black Book                                               Color   \n",
       "DOA: Dead or Alive                                       Color   \n",
       "Firefox                                                  Color   \n",
       "South Park: Bigger Longer & Uncut                        Color   \n",
       "Hardball                                                 Color   \n",
       "The Royal Tenenbaums                                     Color   \n",
       "We Own the Night                                         Color   \n",
       "Silver Linings Playbook                                  Color   \n",
       "Freedom Writers                                          Color   \n",
       "Diary of a Wimpy Kid: Rodrick Rules                      Color   \n",
       "The Transporter                                          Color   \n",
       "Synecdoche, New York                                     Color   \n",
       "The Informant!                                           Color   \n",
       "The Rage: Carrie 2                             Black and White   \n",
       "Swing Vote                                               Color   \n",
       "Moonlight Mile                                           Color   \n",
       "Molly                                                    Color   \n",
       "The Beaver                                               Color   \n",
       "Everybody's Fine                                         Color   \n",
       "\n",
       "                                                     director_name  \\\n",
       "movie_title                                                          \n",
       "The Host                                              Joon-ho Bong   \n",
       "Lady Vengeance                                      Chan-wook Park   \n",
       "Fateless                                              Lajos Koltai   \n",
       "Princess Mononoke                                   Hayao Miyazaki   \n",
       "Steamboy                                           Katsuhiro Ôtomo   \n",
       "Akira                                              Katsuhiro Ôtomo   \n",
       "Godzilla 2000                                        Takao Okawara   \n",
       "Kabhi Alvida Naa Kehna                                 Karan Johar   \n",
       "Tango                                                 Carlos Saura   \n",
       "Red Cliff                                                 John Woo   \n",
       "The Legend of Suriyothai                       Chatrichalerm Yukol   \n",
       "The Messenger: The Story of Joan of Arc                 Luc Besson   \n",
       "Pirates of the Caribbean: At World's End            Gore Verbinski   \n",
       "Ong-bak 2                                                 Tony Jaa   \n",
       "John Carter                                         Andrew Stanton   \n",
       "Tangled                                               Nathan Greno   \n",
       "Spider-Man 3                                             Sam Raimi   \n",
       "Spider-Man 3                                             Sam Raimi   \n",
       "Captain America: Civil War                           Anthony Russo   \n",
       "The Dark Knight Rises                            Christopher Nolan   \n",
       "Pirates of the Caribbean: On Stranger Tides           Rob Marshall   \n",
       "Batman v Superman: Dawn of Justice                     Zack Snyder   \n",
       "The Hobbit: The Battle of the Five Armies            Peter Jackson   \n",
       "Harry Potter and the Half-Blood Prince                 David Yates   \n",
       "Avengers: Age of Ultron                                Joss Whedon   \n",
       "Spectre                                                 Sam Mendes   \n",
       "Avatar                                               James Cameron   \n",
       "The Amazing Spider-Man                                   Marc Webb   \n",
       "The Hobbit: The Desolation of Smaug                  Peter Jackson   \n",
       "Men in Black 3                                    Barry Sonnenfeld   \n",
       "...                                                            ...   \n",
       "The Animal                                         Luke Greenfield   \n",
       "Willard                                                Glen Morgan   \n",
       "Summer of Sam                                            Spike Lee   \n",
       "Homefront                                              Gary Fleder   \n",
       "The Game Plan                                         Andy Fickman   \n",
       "The Santa Clause                                      John Pasquin   \n",
       "Ghost                                                 Jerry Zucker   \n",
       "Jay and Silent Bob Strike Back                         Kevin Smith   \n",
       "My Fellow Americans                                    Peter Segal   \n",
       "Arlington Road                                     Mark Pellington   \n",
       "Crocodile Dundee in Los Angeles                       Simon Wincer   \n",
       "Black Book                                          Paul Verhoeven   \n",
       "DOA: Dead or Alive                                      Corey Yuen   \n",
       "Firefox                                             Clint Eastwood   \n",
       "South Park: Bigger Longer & Uncut                      Trey Parker   \n",
       "Hardball                                             Brian Robbins   \n",
       "The Royal Tenenbaums                                  Wes Anderson   \n",
       "We Own the Night                                        James Gray   \n",
       "Silver Linings Playbook                           David O. Russell   \n",
       "Freedom Writers                                Richard LaGravenese   \n",
       "Diary of a Wimpy Kid: Rodrick Rules                   David Bowers   \n",
       "The Transporter                                    Louis Leterrier   \n",
       "Synecdoche, New York                               Charlie Kaufman   \n",
       "The Informant!                                   Steven Soderbergh   \n",
       "The Rage: Carrie 2                                       Katt Shea   \n",
       "Swing Vote                                    Joshua Michael Stern   \n",
       "Moonlight Mile                                     Brad Silberling   \n",
       "Molly                                                  John Duigan   \n",
       "The Beaver                                            Jodie Foster   \n",
       "Everybody's Fine                                        Kirk Jones   \n",
       "\n",
       "                                              num_critic_for_reviews  \\\n",
       "movie_title                                                            \n",
       "The Host                                                       363.0   \n",
       "Lady Vengeance                                                 202.0   \n",
       "Fateless                                                        73.0   \n",
       "Princess Mononoke                                              174.0   \n",
       "Steamboy                                                       105.0   \n",
       "Akira                                                          150.0   \n",
       "Godzilla 2000                                                  107.0   \n",
       "Kabhi Alvida Naa Kehna                                          20.0   \n",
       "Tango                                                           35.0   \n",
       "Red Cliff                                                      160.0   \n",
       "The Legend of Suriyothai                                        31.0   \n",
       "The Messenger: The Story of Joan of Arc                        111.0   \n",
       "Pirates of the Caribbean: At World's End                       302.0   \n",
       "Ong-bak 2                                                      110.0   \n",
       "John Carter                                                    462.0   \n",
       "Tangled                                                        324.0   \n",
       "Spider-Man 3                                                   392.0   \n",
       "Spider-Man 3                                                   392.0   \n",
       "Captain America: Civil War                                     516.0   \n",
       "The Dark Knight Rises                                          813.0   \n",
       "Pirates of the Caribbean: On Stranger Tides                    448.0   \n",
       "Batman v Superman: Dawn of Justice                             673.0   \n",
       "The Hobbit: The Battle of the Five Armies                      422.0   \n",
       "Harry Potter and the Half-Blood Prince                         375.0   \n",
       "Avengers: Age of Ultron                                        635.0   \n",
       "Spectre                                                        602.0   \n",
       "Avatar                                                         723.0   \n",
       "The Amazing Spider-Man                                         599.0   \n",
       "The Hobbit: The Desolation of Smaug                            509.0   \n",
       "Men in Black 3                                                 451.0   \n",
       "...                                                              ...   \n",
       "The Animal                                                      75.0   \n",
       "Willard                                                        129.0   \n",
       "Summer of Sam                                                   85.0   \n",
       "Homefront                                                      203.0   \n",
       "The Game Plan                                                  112.0   \n",
       "The Santa Clause                                                64.0   \n",
       "Ghost                                                           77.0   \n",
       "Jay and Silent Bob Strike Back                                 181.0   \n",
       "My Fellow Americans                                             27.0   \n",
       "Arlington Road                                                 155.0   \n",
       "Crocodile Dundee in Los Angeles                                 71.0   \n",
       "Black Book                                                     231.0   \n",
       "DOA: Dead or Alive                                             110.0   \n",
       "Firefox                                                         43.0   \n",
       "South Park: Bigger Longer & Uncut                              163.0   \n",
       "Hardball                                                        85.0   \n",
       "The Royal Tenenbaums                                           220.0   \n",
       "We Own the Night                                               222.0   \n",
       "Silver Linings Playbook                                        539.0   \n",
       "Freedom Writers                                                 84.0   \n",
       "Diary of a Wimpy Kid: Rodrick Rules                            103.0   \n",
       "The Transporter                                                171.0   \n",
       "Synecdoche, New York                                           245.0   \n",
       "The Informant!                                                 248.0   \n",
       "The Rage: Carrie 2                                              85.0   \n",
       "Swing Vote                                                     131.0   \n",
       "Moonlight Mile                                                 111.0   \n",
       "Molly                                                           16.0   \n",
       "The Beaver                                                     276.0   \n",
       "Everybody's Fine                                               160.0   \n",
       "\n",
       "                                              duration  \\\n",
       "movie_title                                              \n",
       "The Host                                     -0.002081   \n",
       "Lady Vengeance                                0.086512   \n",
       "Fateless                                      1.061028   \n",
       "Princess Mononoke                             1.061028   \n",
       "Steamboy                                     -0.312154   \n",
       "Akira                                         0.618066   \n",
       "Godzilla 2000                                -0.489339   \n",
       "Kabhi Alvida Naa Kehna                        3.674503   \n",
       "Tango                                         0.219400   \n",
       "Red Cliff                                     1.769767   \n",
       "The Legend of Suriyothai                      8.414196   \n",
       "The Messenger: The Story of Joan of Arc       2.124136   \n",
       "Pirates of the Caribbean: At World's End      2.611395   \n",
       "Ong-bak 2                                    -0.002081   \n",
       "John Carter                                   0.972435   \n",
       "Tangled                                      -0.445043   \n",
       "Spider-Man 3                                  2.035544   \n",
       "Spider-Man 3                                  2.035544   \n",
       "Captain America: Civil War                    1.636878   \n",
       "The Dark Knight Rises                         2.389914   \n",
       "Pirates of the Caribbean: On Stranger Tides   1.149620   \n",
       "Batman v Superman: Dawn of Justice            3.231541   \n",
       "The Hobbit: The Battle of the Five Armies     2.389914   \n",
       "Harry Potter and the Half-Blood Prince        1.902656   \n",
       "Avengers: Age of Ultron                       1.371101   \n",
       "Spectre                                       1.681175   \n",
       "Avatar                                        3.010060   \n",
       "The Amazing Spider-Man                        1.902656   \n",
       "The Hobbit: The Desolation of Smaug           3.364430   \n",
       "Men in Black 3                               -0.179265   \n",
       "...                                                ...   \n",
       "The Animal                                   -1.153782   \n",
       "Willard                                      -0.445043   \n",
       "Summer of Sam                                 1.415397   \n",
       "Homefront                                    -0.445043   \n",
       "The Game Plan                                -0.002081   \n",
       "The Santa Clause                             -0.577931   \n",
       "Ghost                                         0.750955   \n",
       "Jay and Silent Bob Strike Back               -0.267858   \n",
       "My Fellow Americans                          -0.400746   \n",
       "Arlington Road                                0.307993   \n",
       "Crocodile Dundee in Los Angeles              -0.799412   \n",
       "Black Book                                    1.548286   \n",
       "DOA: Dead or Alive                           -1.020893   \n",
       "Firefox                                       1.149620   \n",
       "South Park: Bigger Longer & Uncut            -1.286670   \n",
       "Hardball                                     -0.179265   \n",
       "The Royal Tenenbaums                         -0.002081   \n",
       "We Own the Night                              0.307993   \n",
       "Silver Linings Playbook                       0.529474   \n",
       "Freedom Writers                               0.573770   \n",
       "Diary of a Wimpy Kid: Rodrick Rules          -0.489339   \n",
       "The Transporter                              -0.799412   \n",
       "Synecdoche, New York                          0.618066   \n",
       "The Informant!                               -0.090673   \n",
       "The Rage: Carrie 2                           -0.267858   \n",
       "Swing Vote                                    0.440881   \n",
       "Moonlight Mile                                0.086512   \n",
       "Molly                                        -0.356450   \n",
       "The Beaver                                   -0.843708   \n",
       "Everybody's Fine                             -0.489339   \n",
       "\n",
       "                                              director_facebook_likes  \\\n",
       "movie_title                                                             \n",
       "The Host                                                    -0.068531   \n",
       "Lady Vengeance                                              -0.260670   \n",
       "Fateless                                                    -0.245865   \n",
       "Princess Mononoke                                            1.713358   \n",
       "Steamboy                                                    -0.235007   \n",
       "Akira                                                       -0.235007   \n",
       "Godzilla 2000                                               -0.260012   \n",
       "Kabhi Alvida Naa Kehna                                      -0.208029   \n",
       "Tango                                                       -0.228427   \n",
       "Red Cliff                                                   -0.059977   \n",
       "The Legend of Suriyothai                                    -0.258696   \n",
       "The Messenger: The Story of Joan of Arc                     -0.260670   \n",
       "Pirates of the Caribbean: At World's End                    -0.075440   \n",
       "Ong-bak 2                                                   -0.260670   \n",
       "John Carter                                                 -0.104393   \n",
       "Tangled                                                     -0.255735   \n",
       "Spider-Man 3                                                -0.260670   \n",
       "Spider-Man 3                                                -0.260670   \n",
       "Captain America: Civil War                                  -0.229743   \n",
       "The Dark Knight Rises                                        6.977433   \n",
       "Pirates of the Caribbean: On Stranger Tides                 -0.177761   \n",
       "Batman v Superman: Dawn of Justice                          -0.260670   \n",
       "The Hobbit: The Battle of the Five Armies                   -0.260670   \n",
       "Harry Potter and the Half-Blood Prince                      -0.167890   \n",
       "Avengers: Age of Ultron                                     -0.260670   \n",
       "Spectre                                                     -0.260670   \n",
       "Avatar                                                      -0.260670   \n",
       "The Amazing Spider-Man                                      -0.108012   \n",
       "The Hobbit: The Desolation of Smaug                         -0.260670   \n",
       "Men in Black 3                                              -0.198817   \n",
       "...                                                               ...   \n",
       "The Animal                                                  -0.246852   \n",
       "Willard                                                     -0.255077   \n",
       "Summer of Sam                                               -0.260670   \n",
       "Homefront                                                   -0.247839   \n",
       "The Game Plan                                               -0.228098   \n",
       "The Santa Clause                                            -0.257051   \n",
       "Ghost                                                       -0.224808   \n",
       "Jay and Silent Bob Strike Back                              -0.260670   \n",
       "My Fellow Americans                                         -0.231717   \n",
       "Arlington Road                                              -0.231388   \n",
       "Crocodile Dundee in Los Angeles                             -0.253103   \n",
       "Black Book                                                  -0.024115   \n",
       "DOA: Dead or Alive                                          -0.253103   \n",
       "Firefox                                                      5.003405   \n",
       "South Park: Bigger Longer & Uncut                           -0.127094   \n",
       "Hardball                                                    -0.244878   \n",
       "The Royal Tenenbaums                                        -0.260670   \n",
       "We Own the Night                                            -0.222834   \n",
       "Silver Linings Playbook                                     -0.018193   \n",
       "Freedom Writers                                             -0.228427   \n",
       "Diary of a Wimpy Kid: Rodrick Rules                         -0.246852   \n",
       "The Transporter                                             -0.176774   \n",
       "Synecdoche, New York                                        -0.260670   \n",
       "The Informant!                                              -0.260670   \n",
       "The Rage: Carrie 2                                          -0.243561   \n",
       "Swing Vote                                                  -0.260670   \n",
       "Moonlight Mile                                              -0.243561   \n",
       "Molly                                                       -0.254748   \n",
       "The Beaver                                                  -0.260670   \n",
       "Everybody's Fine                                            -0.243561   \n",
       "\n",
       "                                              actor_3_facebook_likes  \\\n",
       "movie_title                                                            \n",
       "The Host                                                        74.0   \n",
       "Lady Vengeance                                                  38.0   \n",
       "Fateless                                                         0.0   \n",
       "Princess Mononoke                                              745.0   \n",
       "Steamboy                                                       101.0   \n",
       "Akira                                                            4.0   \n",
       "Godzilla 2000                                                    3.0   \n",
       "Kabhi Alvida Naa Kehna                                         860.0   \n",
       "Tango                                                            4.0   \n",
       "Red Cliff                                                      478.0   \n",
       "The Legend of Suriyothai                                         6.0   \n",
       "The Messenger: The Story of Joan of Arc                         15.0   \n",
       "Pirates of the Caribbean: At World's End                      1000.0   \n",
       "Ong-bak 2                                                        7.0   \n",
       "John Carter                                                    530.0   \n",
       "Tangled                                                        284.0   \n",
       "Spider-Man 3                                                  4000.0   \n",
       "Spider-Man 3                                                  4000.0   \n",
       "Captain America: Civil War                                   11000.0   \n",
       "The Dark Knight Rises                                        23000.0   \n",
       "Pirates of the Caribbean: On Stranger Tides                   1000.0   \n",
       "Batman v Superman: Dawn of Justice                            2000.0   \n",
       "The Hobbit: The Battle of the Five Armies                      773.0   \n",
       "Harry Potter and the Half-Blood Prince                       10000.0   \n",
       "Avengers: Age of Ultron                                      19000.0   \n",
       "Spectre                                                        161.0   \n",
       "Avatar                                                         855.0   \n",
       "The Amazing Spider-Man                                         963.0   \n",
       "The Hobbit: The Desolation of Smaug                            773.0   \n",
       "Men in Black 3                                                 718.0   \n",
       "...                                                              ...   \n",
       "The Animal                                                     182.0   \n",
       "Willard                                                         86.0   \n",
       "Summer of Sam                                                  854.0   \n",
       "Homefront                                                      798.0   \n",
       "The Game Plan                                                  835.0   \n",
       "The Santa Clause                                               595.0   \n",
       "Ghost                                                           71.0   \n",
       "Jay and Silent Bob Strike Back                                 898.0   \n",
       "My Fellow Americans                                            812.0   \n",
       "Arlington Road                                                 442.0   \n",
       "Crocodile Dundee in Los Angeles                                162.0   \n",
       "Black Book                                                     104.0   \n",
       "DOA: Dead or Alive                                             748.0   \n",
       "Firefox                                                        216.0   \n",
       "South Park: Bigger Longer & Uncut                              406.0   \n",
       "Hardball                                                        39.0   \n",
       "The Royal Tenenbaums                                           327.0   \n",
       "We Own the Night                                                97.0   \n",
       "Silver Linings Playbook                                      14000.0   \n",
       "Freedom Writers                                                579.0   \n",
       "Diary of a Wimpy Kid: Rodrick Rules                            557.0   \n",
       "The Transporter                                                447.0   \n",
       "Synecdoche, New York                                           631.0   \n",
       "The Informant!                                                 690.0   \n",
       "The Rage: Carrie 2                                             484.0   \n",
       "Swing Vote                                                     886.0   \n",
       "Moonlight Mile                                                 347.0   \n",
       "Molly                                                          186.0   \n",
       "The Beaver                                                     220.0   \n",
       "Everybody's Fine                                               148.0   \n",
       "\n",
       "                                                      actor_2_name  \\\n",
       "movie_title                                                          \n",
       "The Host                                              Kang-ho Song   \n",
       "Lady Vengeance                                        Yeong-ae Lee   \n",
       "Fateless                                           Péter Fancsikai   \n",
       "Princess Mononoke                               Jada Pinkett Smith   \n",
       "Steamboy                                        Robin Atkin Downes   \n",
       "Akira                                                Takeshi Kusao   \n",
       "Godzilla 2000                                        Naomi Nishida   \n",
       "Kabhi Alvida Naa Kehna                                John Abraham   \n",
       "Tango                                           Juan Luis Galiardo   \n",
       "Red Cliff                                      Tony Chiu Wai Leung   \n",
       "The Legend of Suriyothai                      Chatchai Plengpanich   \n",
       "The Messenger: The Story of Joan of Arc               David Bailie   \n",
       "Pirates of the Caribbean: At World's End             Orlando Bloom   \n",
       "Ong-bak 2                                      Petchtai Wongkamlao   \n",
       "John Carter                                        Samantha Morton   \n",
       "Tangled                                               Donna Murphy   \n",
       "Spider-Man 3                                          James Franco   \n",
       "Spider-Man 3                                          James Franco   \n",
       "Captain America: Civil War                      Scarlett Johansson   \n",
       "The Dark Knight Rises                               Christian Bale   \n",
       "Pirates of the Caribbean: On Stranger Tides            Sam Claflin   \n",
       "Batman v Superman: Dawn of Justice                    Lauren Cohan   \n",
       "The Hobbit: The Battle of the Five Armies               Adam Brown   \n",
       "Harry Potter and the Half-Blood Prince            Daniel Radcliffe   \n",
       "Avengers: Age of Ultron                          Robert Downey Jr.   \n",
       "Spectre                                               Rory Kinnear   \n",
       "Avatar                                            Joel David Moore   \n",
       "The Amazing Spider-Man                             Andrew Garfield   \n",
       "The Hobbit: The Desolation of Smaug                     Adam Brown   \n",
       "Men in Black 3                                   Michael Stuhlbarg   \n",
       "...                                                            ...   \n",
       "The Animal                                        Michael Papajohn   \n",
       "Willard                                                  Ty Olsson   \n",
       "Summer of Sam                                    Jennifer Esposito   \n",
       "Homefront                                             James Franco   \n",
       "The Game Plan                                        Kyra Sedgwick   \n",
       "The Santa Clause                                        Eric Lloyd   \n",
       "Ghost                                                 Tony Goldwyn   \n",
       "Jay and Silent Bob Strike Back                   Shannon Elizabeth   \n",
       "My Fellow Americans                               Bradley Whitford   \n",
       "Arlington Road                                 Spencer Treat Clark   \n",
       "Crocodile Dundee in Los Angeles                         Paul Hogan   \n",
       "Black Book                                          Sebastian Koch   \n",
       "DOA: Dead or Alive                                   Holly Valance   \n",
       "Firefox                                              Warren Clarke   \n",
       "South Park: Bigger Longer & Uncut                        Eric Idle   \n",
       "Hardball                                              D.B. Sweeney   \n",
       "The Royal Tenenbaums                               Anjelica Huston   \n",
       "We Own the Night                                     Oleg Taktarov   \n",
       "Silver Linings Playbook                             Robert De Niro   \n",
       "Freedom Writers                                        Scott Glenn   \n",
       "Diary of a Wimpy Kid: Rodrick Rules                 Rachael Harris   \n",
       "The Transporter                                             Qi Shu   \n",
       "Synecdoche, New York                          Jennifer Jason Leigh   \n",
       "The Informant!                                         Joel McHale   \n",
       "The Rage: Carrie 2                                Rachel Blanchard   \n",
       "Swing Vote                                          Judge Reinhold   \n",
       "Moonlight Mile                                        Holly Hunter   \n",
       "Molly                                                Jill Hennessy   \n",
       "The Beaver                                            Cherry Jones   \n",
       "Everybody's Fine                                       James Frain   \n",
       "\n",
       "                                              actor_1_facebook_likes  \\\n",
       "movie_title                                                            \n",
       "The Host                                                   -0.455938   \n",
       "Lady Vengeance                                             -0.450239   \n",
       "Fateless                                                   -0.496095   \n",
       "Princess Mononoke                                          -0.438840   \n",
       "Steamboy                                                   -0.465071   \n",
       "Akira                                                      -0.496289   \n",
       "Godzilla 2000                                              -0.493893   \n",
       "Kabhi Alvida Naa Kehna                                      0.021470   \n",
       "Tango                                                      -0.474592   \n",
       "Red Cliff                                                  -0.447778   \n",
       "The Legend of Suriyothai                                   -0.496224   \n",
       "The Messenger: The Story of Joan of Arc                    -0.493375   \n",
       "Pirates of the Caribbean: At World's End                    2.094060   \n",
       "Ong-bak 2                                                  -0.492533   \n",
       "John Carter                                                -0.455226   \n",
       "Tangled                                                    -0.444928   \n",
       "Spider-Man 3                                                1.057765   \n",
       "Spider-Man 3                                                1.057765   \n",
       "Captain America: Civil War                                  0.863460   \n",
       "The Dark Knight Rises                                       1.252070   \n",
       "Pirates of the Caribbean: On Stranger Tides                 2.094060   \n",
       "Batman v Superman: Dawn of Justice                          0.474849   \n",
       "The Hobbit: The Battle of the Five Armies                  -0.172836   \n",
       "Harry Potter and the Half-Blood Prince                      1.122533   \n",
       "Avengers: Age of Ultron                                     1.187302   \n",
       "Spectre                                                     0.215775   \n",
       "Avatar                                                     -0.431909   \n",
       "The Amazing Spider-Man                                      0.474849   \n",
       "The Hobbit: The Desolation of Smaug                        -0.172836   \n",
       "Men in Black 3                                              0.151007   \n",
       "...                                                              ...   \n",
       "The Animal                                                 -0.468439   \n",
       "Willard                                                    -0.453348   \n",
       "Summer of Sam                                              -0.433334   \n",
       "Homefront                                                   1.187302   \n",
       "The Game Plan                                               0.280544   \n",
       "The Santa Clause                                           -0.438321   \n",
       "Ghost                                                      -0.367141   \n",
       "Jay and Silent Bob Strike Back                              0.021470   \n",
       "My Fellow Americans                                        -0.434694   \n",
       "Arlington Road                                              0.280544   \n",
       "Crocodile Dundee in Los Angeles                            -0.466884   \n",
       "Black Book                                                 -0.367141   \n",
       "DOA: Dead or Alive                                         -0.443179   \n",
       "Firefox                                                     0.539617   \n",
       "South Park: Bigger Longer & Uncut                          -0.438840   \n",
       "Hardball                                                    0.669154   \n",
       "The Royal Tenenbaums                                        0.345312   \n",
       "We Own the Night                                           -0.302372   \n",
       "Silver Linings Playbook                                     1.705450   \n",
       "Freedom Writers                                            -0.367141   \n",
       "Diary of a Wimpy Kid: Rodrick Rules                        -0.433529   \n",
       "The Transporter                                             1.187302   \n",
       "Synecdoche, New York                                        0.928228   \n",
       "The Informant!                                              0.345312   \n",
       "The Rage: Carrie 2                                         -0.450627   \n",
       "Swing Vote                                                 -0.431909   \n",
       "Moonlight Mile                                              0.474849   \n",
       "Molly                                                      -0.453283   \n",
       "The Beaver                                                  1.705450   \n",
       "Everybody's Fine                                            0.928228   \n",
       "\n",
       "                                                  gross     genres  \\\n",
       "movie_title                                                          \n",
       "The Host                                      -0.707090     Comedy   \n",
       "Lady Vengeance                                -0.735491      Crime   \n",
       "Fateless                                      -0.735716      Drama   \n",
       "Princess Mononoke                             -0.705709  Adventure   \n",
       "Steamboy                                      -0.732654     Action   \n",
       "Akira                                         -0.732244     Action   \n",
       "Godzilla 2000                                 -0.595242     Action   \n",
       "Kabhi Alvida Naa Kehna                        -0.691760      Drama   \n",
       "Tango                                         -0.714428      Drama   \n",
       "Red Cliff                                     -0.729565     Action   \n",
       "The Legend of Suriyothai                      -0.732028     Action   \n",
       "The Messenger: The Story of Joan of Arc       -0.536807  Adventure   \n",
       "Pirates of the Caribbean: At World's End       3.677818     Action   \n",
       "Ong-bak 2                                     -0.737056     Action   \n",
       "John Carter                                    0.304303     Action   \n",
       "Tangled                                        2.127743  Adventure   \n",
       "Spider-Man 3                                   4.065008     Action   \n",
       "Spider-Man 3                                   4.065008     Action   \n",
       "Captain America: Civil War                     5.073685     Action   \n",
       "The Dark Knight Rises                          5.657954     Action   \n",
       "Pirates of the Caribbean: On Stranger Tides    2.702352     Action   \n",
       "Batman v Superman: Dawn of Justice             3.975352     Action   \n",
       "The Hobbit: The Battle of the Five Armies      2.902819  Adventure   \n",
       "Harry Potter and the Half-Blood Prince         3.571520  Adventure   \n",
       "Avengers: Age of Ultron                        5.812979     Action   \n",
       "Spectre                                        2.117279     Action   \n",
       "Avatar                                        10.116692     Action   \n",
       "The Amazing Spider-Man                         3.001625     Action   \n",
       "The Hobbit: The Desolation of Smaug            2.949165  Adventure   \n",
       "Men in Black 3                                 1.816771     Action   \n",
       "...                                                 ...        ...   \n",
       "The Animal                                     0.057419     Comedy   \n",
       "Willard                                       -0.640707      Drama   \n",
       "Summer of Sam                                 -0.463262      Crime   \n",
       "Homefront                                     -0.456125     Action   \n",
       "The Game Plan                                  0.555210     Comedy   \n",
       "The Santa Clause                               1.328790     Comedy   \n",
       "Ghost                                          2.367884      Drama   \n",
       "Jay and Silent Bob Strike Back                -0.309455     Comedy   \n",
       "My Fellow Americans                           -0.420290  Adventure   \n",
       "Arlington Road                                -0.390770      Crime   \n",
       "Crocodile Dundee in Los Angeles               -0.373247  Adventure   \n",
       "Black Book                                    -0.675731      Drama   \n",
       "DOA: Dead or Alive                            -0.731656     Action   \n",
       "Firefox                                       -0.071932     Action   \n",
       "South Park: Bigger Longer & Uncut              0.003837  Animation   \n",
       "Hardball                                      -0.164430      Drama   \n",
       "The Royal Tenenbaums                           0.008766     Comedy   \n",
       "We Own the Night                              -0.330811      Crime   \n",
       "Silver Linings Playbook                        1.146880     Comedy   \n",
       "Freedom Writers                               -0.216358  Biography   \n",
       "Diary of a Wimpy Kid: Rodrick Rules            0.013581     Comedy   \n",
       "The Transporter                               -0.377439     Action   \n",
       "Synecdoche, New York                          -0.694522     Comedy   \n",
       "The Informant!                                -0.263005     Comedy   \n",
       "The Rage: Carrie 2                            -0.485054     Horror   \n",
       "Swing Vote                                    -0.506075     Comedy   \n",
       "Moonlight Mile                                -0.641009      Drama   \n",
       "Molly                                         -0.738290     Comedy   \n",
       "The Beaver                                    -0.724834      Drama   \n",
       "Everybody's Fine                              -0.612110  Adventure   \n",
       "\n",
       "                                                  ...           country  \\\n",
       "movie_title                                       ...                     \n",
       "The Host                                          ...       South Korea   \n",
       "Lady Vengeance                                    ...       South Korea   \n",
       "Fateless                                          ...           Hungary   \n",
       "Princess Mononoke                                 ...             Japan   \n",
       "Steamboy                                          ...             Japan   \n",
       "Akira                                             ...             Japan   \n",
       "Godzilla 2000                                     ...             Japan   \n",
       "Kabhi Alvida Naa Kehna                            ...             India   \n",
       "Tango                                             ...             Spain   \n",
       "Red Cliff                                         ...             China   \n",
       "The Legend of Suriyothai                          ...          Thailand   \n",
       "The Messenger: The Story of Joan of Arc           ...            France   \n",
       "Pirates of the Caribbean: At World's End          ...               USA   \n",
       "Ong-bak 2                                         ...          Thailand   \n",
       "John Carter                                       ...               USA   \n",
       "Tangled                                           ...               USA   \n",
       "Spider-Man 3                                      ...               USA   \n",
       "Spider-Man 3                                      ...               USA   \n",
       "Captain America: Civil War                        ...               USA   \n",
       "The Dark Knight Rises                             ...               USA   \n",
       "Pirates of the Caribbean: On Stranger Tides       ...               USA   \n",
       "Batman v Superman: Dawn of Justice                ...               USA   \n",
       "The Hobbit: The Battle of the Five Armies         ...       New Zealand   \n",
       "Harry Potter and the Half-Blood Prince            ...                UK   \n",
       "Avengers: Age of Ultron                           ...               USA   \n",
       "Spectre                                           ...                UK   \n",
       "Avatar                                            ...               USA   \n",
       "The Amazing Spider-Man                            ...               USA   \n",
       "The Hobbit: The Desolation of Smaug               ...               USA   \n",
       "Men in Black 3                                    ...               USA   \n",
       "...                                               ...               ...   \n",
       "The Animal                                        ...               USA   \n",
       "Willard                                           ...            Canada   \n",
       "Summer of Sam                                     ...               USA   \n",
       "Homefront                                         ...               USA   \n",
       "The Game Plan                                     ...               USA   \n",
       "The Santa Clause                                  ...               USA   \n",
       "Ghost                                             ...               USA   \n",
       "Jay and Silent Bob Strike Back                    ...               USA   \n",
       "My Fellow Americans                               ...               USA   \n",
       "Arlington Road                                    ...               USA   \n",
       "Crocodile Dundee in Los Angeles                   ...         Australia   \n",
       "Black Book                                        ...       Netherlands   \n",
       "DOA: Dead or Alive                                ...               USA   \n",
       "Firefox                                           ...               USA   \n",
       "South Park: Bigger Longer & Uncut                 ...               USA   \n",
       "Hardball                                          ...               USA   \n",
       "The Royal Tenenbaums                              ...               USA   \n",
       "We Own the Night                                  ...               USA   \n",
       "Silver Linings Playbook                           ...               USA   \n",
       "Freedom Writers                                   ...           Germany   \n",
       "Diary of a Wimpy Kid: Rodrick Rules               ...               USA   \n",
       "The Transporter                                   ...            France   \n",
       "Synecdoche, New York                              ...               USA   \n",
       "The Informant!                                    ...               USA   \n",
       "The Rage: Carrie 2                                ...               USA   \n",
       "Swing Vote                                        ...               USA   \n",
       "Moonlight Mile                                    ...               USA   \n",
       "Molly                                             ...               USA   \n",
       "The Beaver                                        ...               USA   \n",
       "Everybody's Fine                                  ...               USA   \n",
       "\n",
       "                                              content_rating     budget  \\\n",
       "movie_title                                                               \n",
       "The Host                                                   R  54.366469   \n",
       "Lady Vengeance                                             R  18.558997   \n",
       "Fateless                                                   R  10.964623   \n",
       "Princess Mononoke                                      PG-13  10.517895   \n",
       "Steamboy                                               PG-13   9.300651   \n",
       "Akira                                                      R   4.710433   \n",
       "Godzilla 2000                                             PG   4.263705   \n",
       "Kabhi Alvida Naa Kehna                                     R   2.923522   \n",
       "Tango                                                  PG-13   2.923522   \n",
       "Red Cliff                                                  R   2.269655   \n",
       "The Legend of Suriyothai                                   R   1.583338   \n",
       "The Messenger: The Story of Joan of Arc                    R   1.538665   \n",
       "Pirates of the Caribbean: At World's End               PG-13   1.136610   \n",
       "Ong-bak 2                                                  R   1.136610   \n",
       "John Carter                                            PG-13   0.974448   \n",
       "Tangled                                                   PG   0.957919   \n",
       "Spider-Man 3                                           PG-13   0.948984   \n",
       "Spider-Man 3                                           PG-13   0.948984   \n",
       "Captain America: Civil War                             PG-13   0.913246   \n",
       "The Dark Knight Rises                                  PG-13   0.913246   \n",
       "Pirates of the Caribbean: On Stranger Tides            PG-13   0.913246   \n",
       "Batman v Superman: Dawn of Justice                     PG-13   0.913246   \n",
       "The Hobbit: The Battle of the Five Armies              PG-13   0.913246   \n",
       "Harry Potter and the Half-Blood Prince                    PG   0.913246   \n",
       "Avengers: Age of Ultron                                PG-13   0.913246   \n",
       "Spectre                                                PG-13   0.890910   \n",
       "Avatar                                                 PG-13   0.855171   \n",
       "The Amazing Spider-Man                                 PG-13   0.823901   \n",
       "The Hobbit: The Desolation of Smaug                    PG-13   0.801564   \n",
       "Men in Black 3                                         PG-13   0.801564   \n",
       "...                                                      ...        ...   \n",
       "The Animal                                             PG-13  -0.105293   \n",
       "Willard                                                PG-13  -0.105293   \n",
       "Summer of Sam                                              R  -0.105293   \n",
       "Homefront                                                  R  -0.105293   \n",
       "The Game Plan                                             PG  -0.105293   \n",
       "The Santa Clause                                          PG  -0.105293   \n",
       "Ghost                                                  PG-13  -0.105293   \n",
       "Jay and Silent Bob Strike Back                             R  -0.105293   \n",
       "My Fellow Americans                                    PG-13  -0.107527   \n",
       "Arlington Road                                             R  -0.107527   \n",
       "Crocodile Dundee in Los Angeles                           PG  -0.109091   \n",
       "Black Book                                                 R  -0.109761   \n",
       "DOA: Dead or Alive                                     PG-13  -0.109761   \n",
       "Firefox                                                   PG  -0.109761   \n",
       "South Park: Bigger Longer & Uncut                          R  -0.109761   \n",
       "Hardball                                               PG-13  -0.109761   \n",
       "The Royal Tenenbaums                                       R  -0.109761   \n",
       "We Own the Night                                           R  -0.109761   \n",
       "Silver Linings Playbook                                    R  -0.109761   \n",
       "Freedom Writers                                        PG-13  -0.109761   \n",
       "Diary of a Wimpy Kid: Rodrick Rules                       PG  -0.109761   \n",
       "The Transporter                                        PG-13  -0.109761   \n",
       "Synecdoche, New York                                       R  -0.109761   \n",
       "The Informant!                                             R  -0.109761   \n",
       "The Rage: Carrie 2                                         R  -0.109761   \n",
       "Swing Vote                                             PG-13  -0.109761   \n",
       "Moonlight Mile                                         PG-13  -0.109761   \n",
       "Molly                                                  PG-13  -0.109761   \n",
       "The Beaver                                             PG-13  -0.109761   \n",
       "Everybody's Fine                                       PG-13  -0.109761   \n",
       "\n",
       "                                             title_year  \\\n",
       "movie_title                                               \n",
       "The Host                                         2006.0   \n",
       "Lady Vengeance                                   2005.0   \n",
       "Fateless                                         2005.0   \n",
       "Princess Mononoke                                1997.0   \n",
       "Steamboy                                         2004.0   \n",
       "Akira                                            1988.0   \n",
       "Godzilla 2000                                    1999.0   \n",
       "Kabhi Alvida Naa Kehna                           2006.0   \n",
       "Tango                                            1998.0   \n",
       "Red Cliff                                        2008.0   \n",
       "The Legend of Suriyothai                         2001.0   \n",
       "The Messenger: The Story of Joan of Arc          1999.0   \n",
       "Pirates of the Caribbean: At World's End         2007.0   \n",
       "Ong-bak 2                                        2008.0   \n",
       "John Carter                                      2012.0   \n",
       "Tangled                                          2010.0   \n",
       "Spider-Man 3                                     2007.0   \n",
       "Spider-Man 3                                     2007.0   \n",
       "Captain America: Civil War                       2016.0   \n",
       "The Dark Knight Rises                            2012.0   \n",
       "Pirates of the Caribbean: On Stranger Tides      2011.0   \n",
       "Batman v Superman: Dawn of Justice               2016.0   \n",
       "The Hobbit: The Battle of the Five Armies        2014.0   \n",
       "Harry Potter and the Half-Blood Prince           2009.0   \n",
       "Avengers: Age of Ultron                          2015.0   \n",
       "Spectre                                          2015.0   \n",
       "Avatar                                           2009.0   \n",
       "The Amazing Spider-Man                           2012.0   \n",
       "The Hobbit: The Desolation of Smaug              2013.0   \n",
       "Men in Black 3                                   2012.0   \n",
       "...                                                 ...   \n",
       "The Animal                                       2001.0   \n",
       "Willard                                          2003.0   \n",
       "Summer of Sam                                    1999.0   \n",
       "Homefront                                        2013.0   \n",
       "The Game Plan                                    2007.0   \n",
       "The Santa Clause                                 1994.0   \n",
       "Ghost                                            1990.0   \n",
       "Jay and Silent Bob Strike Back                   2001.0   \n",
       "My Fellow Americans                              1996.0   \n",
       "Arlington Road                                   1999.0   \n",
       "Crocodile Dundee in Los Angeles                  2001.0   \n",
       "Black Book                                       2006.0   \n",
       "DOA: Dead or Alive                               2006.0   \n",
       "Firefox                                          1982.0   \n",
       "South Park: Bigger Longer & Uncut                1999.0   \n",
       "Hardball                                         2001.0   \n",
       "The Royal Tenenbaums                             2001.0   \n",
       "We Own the Night                                 2007.0   \n",
       "Silver Linings Playbook                          2012.0   \n",
       "Freedom Writers                                  2007.0   \n",
       "Diary of a Wimpy Kid: Rodrick Rules              2011.0   \n",
       "The Transporter                                  2002.0   \n",
       "Synecdoche, New York                             2008.0   \n",
       "The Informant!                                   2009.0   \n",
       "The Rage: Carrie 2                               1999.0   \n",
       "Swing Vote                                       2008.0   \n",
       "Moonlight Mile                                   2002.0   \n",
       "Molly                                            1999.0   \n",
       "The Beaver                                       2011.0   \n",
       "Everybody's Fine                                 2009.0   \n",
       "\n",
       "                                              actor_2_facebook_likes  \\\n",
       "movie_title                                                            \n",
       "The Host                                                   -0.353850   \n",
       "Lady Vengeance                                             -0.414150   \n",
       "Fateless                                                   -0.441640   \n",
       "Princess Mononoke                                          -0.253424   \n",
       "Steamboy                                                   -0.367595   \n",
       "Akira                                                      -0.440975   \n",
       "Godzilla 2000                                              -0.441418   \n",
       "Kabhi Alvida Naa Kehna                                     -0.220391   \n",
       "Tango                                                      -0.436319   \n",
       "Red Cliff                                                  -0.299535   \n",
       "The Legend of Suriyothai                                   -0.440753   \n",
       "The Messenger: The Story of Joan of Arc                    -0.433216   \n",
       "Pirates of the Caribbean: At World's End                    0.666376   \n",
       "Ong-bak 2                                                  -0.432107   \n",
       "John Carter                                                -0.301974   \n",
       "Tangled                                                    -0.319488   \n",
       "Spider-Man 3                                                1.996527   \n",
       "Spider-Man 3                                                1.996527   \n",
       "Captain America: Civil War                                  3.770062   \n",
       "The Dark Knight Rises                                       4.656830   \n",
       "Pirates of the Caribbean: On Stranger Tides                 1.996527   \n",
       "Batman v Superman: Dawn of Justice                          0.444684   \n",
       "The Hobbit: The Battle of the Five Armies                  -0.226599   \n",
       "Harry Potter and the Half-Blood Prince                      1.996527   \n",
       "Avengers: Age of Ultron                                     4.213446   \n",
       "Spectre                                                    -0.354958   \n",
       "Avatar                                                     -0.234580   \n",
       "The Amazing Spider-Man                                      1.774835   \n",
       "The Hobbit: The Desolation of Smaug                        -0.226599   \n",
       "Men in Black 3                                             -0.261183   \n",
       "...                                                              ...   \n",
       "The Animal                                                 -0.388656   \n",
       "Willard                                                    -0.346978   \n",
       "Summer of Sam                                              -0.240122   \n",
       "Homefront                                                   1.996527   \n",
       "The Game Plan                                              -0.233471   \n",
       "The Santa Clause                                           -0.270272   \n",
       "Ghost                                                      -0.230146   \n",
       "Jay and Silent Bob Strike Back                             -0.220391   \n",
       "My Fellow Americans                                        -0.260074   \n",
       "Arlington Road                                             -0.322148   \n",
       "Crocodile Dundee in Los Angeles                            -0.344096   \n",
       "Black Book                                                 -0.357840   \n",
       "DOA: Dead or Alive                                         -0.261183   \n",
       "Firefox                                                    -0.379788   \n",
       "South Park: Bigger Longer & Uncut                          -0.265838   \n",
       "Hardball                                                   -0.318379   \n",
       "The Royal Tenenbaums                                       -0.220391   \n",
       "We Own the Night                                           -0.369590   \n",
       "Silver Linings Playbook                                     4.435138   \n",
       "Freedom Writers                                            -0.258966   \n",
       "Diary of a Wimpy Kid: Rodrick Rules                        -0.315941   \n",
       "The Transporter                                            -0.220391   \n",
       "Synecdoche, New York                                       -0.220391   \n",
       "The Informant!                                             -0.279362   \n",
       "The Rage: Carrie 2                                         -0.333454   \n",
       "Swing Vote                                                 -0.242339   \n",
       "Moonlight Mile                                             -0.220391   \n",
       "Molly                                                      -0.349194   \n",
       "The Beaver                                                 -0.388434   \n",
       "Everybody's Fine                                           -0.220391   \n",
       "\n",
       "                                             imdb_score aspect_ratio  \\\n",
       "movie_title                                                            \n",
       "The Host                                            7.0         1.85   \n",
       "Lady Vengeance                                      7.7         2.35   \n",
       "Fateless                                            7.1         2.35   \n",
       "Princess Mononoke                                   8.4         1.85   \n",
       "Steamboy                                            6.9         1.85   \n",
       "Akira                                               8.1         1.85   \n",
       "Godzilla 2000                                       6.0         2.35   \n",
       "Kabhi Alvida Naa Kehna                              6.0         2.35   \n",
       "Tango                                               7.2         2.00   \n",
       "Red Cliff                                           7.4         2.35   \n",
       "The Legend of Suriyothai                            6.6         1.85   \n",
       "The Messenger: The Story of Joan of Arc             6.4         2.35   \n",
       "Pirates of the Caribbean: At World's End            7.1         2.35   \n",
       "Ong-bak 2                                           6.2         2.35   \n",
       "John Carter                                         6.6         2.35   \n",
       "Tangled                                             7.8         1.85   \n",
       "Spider-Man 3                                        6.2         2.35   \n",
       "Spider-Man 3                                        6.2         2.35   \n",
       "Captain America: Civil War                          8.2         2.35   \n",
       "The Dark Knight Rises                               8.5         2.35   \n",
       "Pirates of the Caribbean: On Stranger Tides         6.7         2.35   \n",
       "Batman v Superman: Dawn of Justice                  6.9         2.35   \n",
       "The Hobbit: The Battle of the Five Armies           7.5         2.35   \n",
       "Harry Potter and the Half-Blood Prince              7.5         2.35   \n",
       "Avengers: Age of Ultron                             7.5         2.35   \n",
       "Spectre                                             6.8         2.35   \n",
       "Avatar                                              7.9         1.78   \n",
       "The Amazing Spider-Man                              7.0         2.35   \n",
       "The Hobbit: The Desolation of Smaug                 7.9         2.35   \n",
       "Men in Black 3                                      6.8         1.85   \n",
       "...                                                 ...          ...   \n",
       "The Animal                                          4.8         1.85   \n",
       "Willard                                             6.2         2.35   \n",
       "Summer of Sam                                       6.6         1.85   \n",
       "Homefront                                           6.5         2.35   \n",
       "The Game Plan                                       6.2         2.35   \n",
       "The Santa Clause                                    6.4         1.85   \n",
       "Ghost                                               7.0         1.85   \n",
       "Jay and Silent Bob Strike Back                      6.9         2.35   \n",
       "My Fellow Americans                                 6.5         1.85   \n",
       "Arlington Road                                      7.2         2.35   \n",
       "Crocodile Dundee in Los Angeles                     4.8         1.85   \n",
       "Black Book                                          7.8         2.35   \n",
       "DOA: Dead or Alive                                  4.8         2.35   \n",
       "Firefox                                             5.9         2.35   \n",
       "South Park: Bigger Longer & Uncut                   7.8         1.85   \n",
       "Hardball                                            6.3         1.85   \n",
       "The Royal Tenenbaums                                7.6         2.35   \n",
       "We Own the Night                                    6.9         1.85   \n",
       "Silver Linings Playbook                             7.8         2.35   \n",
       "Freedom Writers                                     7.5         1.85   \n",
       "Diary of a Wimpy Kid: Rodrick Rules                 6.6         2.35   \n",
       "The Transporter                                     6.8         2.35   \n",
       "Synecdoche, New York                                7.5         2.35   \n",
       "The Informant!                                      6.5         1.85   \n",
       "The Rage: Carrie 2                                  4.6         1.85   \n",
       "Swing Vote                                          6.1         2.35   \n",
       "Moonlight Mile                                      6.7         2.35   \n",
       "Molly                                               5.8         1.85   \n",
       "The Beaver                                          6.7         2.35   \n",
       "Everybody's Fine                                    7.2         2.35   \n",
       "\n",
       "                                              movie_facebook_likes     ratio  \\\n",
       "movie_title                                                                    \n",
       "The Host                                                 -0.105765  0.000180   \n",
       "Lady Vengeance                                           -0.245709  0.000050   \n",
       "Fateless                                                 -0.403986  0.000078   \n",
       "Princess Mononoke                                         0.080827  0.000958   \n",
       "Steamboy                                                 -0.386913  0.000193   \n",
       "Akira                                                    -0.432301  0.000399   \n",
       "Godzilla 2000                                            -0.416488  0.010037   \n",
       "Kabhi Alvida Naa Kehna                                   -0.401560  0.004679   \n",
       "Tango                                                    -0.407158  0.002410   \n",
       "Red Cliff                                                -0.432301  0.001132   \n",
       "The Legend of Suriyothai                                 -0.426517  0.001136   \n",
       "The Messenger: The Story of Joan of Arc                  -0.432301  0.036234   \n",
       "Pirates of the Caribbean: At World's End                 -0.432301  1.031347   \n",
       "Ong-bak 2                                                -0.432301  0.000340   \n",
       "John Carter                                               0.687252  0.277052   \n",
       "Tangled                                                   0.920492  0.772336   \n",
       "Spider-Man 3                                             -0.432301  1.304381   \n",
       "Spider-Man 3                                             -0.432301  1.304381   \n",
       "Captain America: Civil War                                2.926358  1.628789   \n",
       "The Dark Knight Rises                                     7.217979  1.792523   \n",
       "Pirates of the Caribbean: On Stranger Tides               2.273286  0.964256   \n",
       "Batman v Superman: Dawn of Justice                        8.757365  1.320996   \n",
       "The Hobbit: The Battle of the Five Armies                 2.599822  1.020433   \n",
       "Harry Potter and the Half-Blood Prince                    0.034179  1.207828   \n",
       "Avengers: Age of Ultron                                   5.072169  1.835966   \n",
       "Spectre                                                   3.532783  0.816629   \n",
       "Avatar                                                    1.107084  3.208885   \n",
       "The Amazing Spider-Man                                    2.179990  1.139264   \n",
       "The Hobbit: The Desolation of Smaug                       3.439487  1.148246   \n",
       "Men in Black 3                                            1.433621  0.795648   \n",
       "...                                                            ...       ...   \n",
       "The Animal                                               -0.385653  2.534647   \n",
       "Willard                                                  -0.432301  0.311461   \n",
       "Summer of Sam                                            -0.432301  0.876536   \n",
       "Homefront                                                 0.267420  0.899263   \n",
       "The Game Plan                                            -0.432301  4.119863   \n",
       "The Santa Clause                                         -0.432301  6.583334   \n",
       "Ghost                                                    -0.432301  9.892332   \n",
       "Jay and Silent Bob Strike Back                           -0.432301  1.366336   \n",
       "My Fellow Americans                                      -0.396942  1.036946   \n",
       "Arlington Road                                           -0.432301  1.133140   \n",
       "Crocodile Dundee in Los Angeles                          -0.414248  1.209935   \n",
       "Black Book                                               -0.432301  0.209447   \n",
       "DOA: Dead or Alive                                       -0.432301  0.022872   \n",
       "Firefox                                                  -0.432301  2.223810   \n",
       "South Park: Bigger Longer & Uncut                        -0.432301  2.476585   \n",
       "Hardball                                                 -0.432301  1.915224   \n",
       "The Royal Tenenbaums                                     -0.432301  2.493030   \n",
       "We Own the Night                                         -0.432301  1.360151   \n",
       "Silver Linings Playbook                                   5.025521  6.289948   \n",
       "Freedom Writers                                           0.034179  1.741983   \n",
       "Diary of a Wimpy Kid: Rodrick Rules                      -0.432301  2.509096   \n",
       "The Transporter                                          -0.432301  1.204593   \n",
       "Synecdoche, New York                                      0.174123  0.146758   \n",
       "The Informant!                                           -0.432301  1.586361   \n",
       "The Rage: Carrie 2                                       -0.390458  0.845576   \n",
       "Swing Vote                                               -0.385653  0.775446   \n",
       "Moonlight Mile                                           -0.415275  0.325284   \n",
       "Molly                                                    -0.419053  0.000743   \n",
       "The Beaver                                                0.360716  0.045634   \n",
       "Everybody's Fine                                          0.034179  0.421697   \n",
       "\n",
       "                                             profit_making  \n",
       "movie_title                                                 \n",
       "The Host                                             False  \n",
       "Lady Vengeance                                       False  \n",
       "Fateless                                             False  \n",
       "Princess Mononoke                                    False  \n",
       "Steamboy                                             False  \n",
       "Akira                                                False  \n",
       "Godzilla 2000                                        False  \n",
       "Kabhi Alvida Naa Kehna                               False  \n",
       "Tango                                                False  \n",
       "Red Cliff                                            False  \n",
       "The Legend of Suriyothai                             False  \n",
       "The Messenger: The Story of Joan of Arc              False  \n",
       "Pirates of the Caribbean: At World's End             False  \n",
       "Ong-bak 2                                            False  \n",
       "John Carter                                          False  \n",
       "Tangled                                              False  \n",
       "Spider-Man 3                                          True  \n",
       "Spider-Man 3                                          True  \n",
       "Captain America: Civil War                            True  \n",
       "The Dark Knight Rises                                 True  \n",
       "Pirates of the Caribbean: On Stranger Tides          False  \n",
       "Batman v Superman: Dawn of Justice                    True  \n",
       "The Hobbit: The Battle of the Five Armies            False  \n",
       "Harry Potter and the Half-Blood Prince                True  \n",
       "Avengers: Age of Ultron                               True  \n",
       "Spectre                                              False  \n",
       "Avatar                                                True  \n",
       "The Amazing Spider-Man                               False  \n",
       "The Hobbit: The Desolation of Smaug                  False  \n",
       "Men in Black 3                                       False  \n",
       "...                                                    ...  \n",
       "The Animal                                            True  \n",
       "Willard                                              False  \n",
       "Summer of Sam                                        False  \n",
       "Homefront                                            False  \n",
       "The Game Plan                                         True  \n",
       "The Santa Clause                                      True  \n",
       "Ghost                                                 True  \n",
       "Jay and Silent Bob Strike Back                        True  \n",
       "My Fellow Americans                                  False  \n",
       "Arlington Road                                       False  \n",
       "Crocodile Dundee in Los Angeles                       True  \n",
       "Black Book                                           False  \n",
       "DOA: Dead or Alive                                   False  \n",
       "Firefox                                               True  \n",
       "South Park: Bigger Longer & Uncut                     True  \n",
       "Hardball                                              True  \n",
       "The Royal Tenenbaums                                  True  \n",
       "We Own the Night                                      True  \n",
       "Silver Linings Playbook                               True  \n",
       "Freedom Writers                                       True  \n",
       "Diary of a Wimpy Kid: Rodrick Rules                   True  \n",
       "The Transporter                                       True  \n",
       "Synecdoche, New York                                 False  \n",
       "The Informant!                                        True  \n",
       "The Rage: Carrie 2                                   False  \n",
       "Swing Vote                                           False  \n",
       "Moonlight Mile                                       False  \n",
       "Molly                                                False  \n",
       "The Beaver                                           False  \n",
       "Everybody's Fine                                     False  \n",
       "\n",
       "[2052 rows x 29 columns]"
      ]
     },
     "execution_count": 235,
     "metadata": {},
     "output_type": "execute_result"
    }
   ],
   "source": [
    "titles_highb.sort_values('budget', ascending=False)"
   ]
  },
  {
   "cell_type": "code",
   "execution_count": 236,
   "metadata": {},
   "outputs": [
    {
     "data": {
      "text/plain": [
       "0.52696629213483148"
      ]
     },
     "execution_count": 236,
     "metadata": {},
     "output_type": "execute_result"
    }
   ],
   "source": [
    "titles_lowb.profit_making.mean()"
   ]
  },
  {
   "cell_type": "code",
   "execution_count": 237,
   "metadata": {
    "collapsed": true
   },
   "outputs": [],
   "source": [
    "from matplotlib import rcParams\n",
    "sns.set_style(\"whitegrid\")\n",
    "sns.set_context(\"poster\")\n",
    "from sklearn.linear_model import LinearRegression\n",
    "from sklearn.utils import shuffle\n"
   ]
  },
  {
   "cell_type": "code",
   "execution_count": 238,
   "metadata": {
    "collapsed": true
   },
   "outputs": [],
   "source": [
    "titles_highb=shuffle(titles_highb)"
   ]
  },
  {
   "cell_type": "code",
   "execution_count": 239,
   "metadata": {},
   "outputs": [
    {
     "data": {
      "text/html": [
       "<div>\n",
       "<style>\n",
       "    .dataframe thead tr:only-child th {\n",
       "        text-align: right;\n",
       "    }\n",
       "\n",
       "    .dataframe thead th {\n",
       "        text-align: left;\n",
       "    }\n",
       "\n",
       "    .dataframe tbody tr th {\n",
       "        vertical-align: top;\n",
       "    }\n",
       "</style>\n",
       "<table border=\"1\" class=\"dataframe\">\n",
       "  <thead>\n",
       "    <tr style=\"text-align: right;\">\n",
       "      <th></th>\n",
       "      <th>color</th>\n",
       "      <th>director_name</th>\n",
       "      <th>num_critic_for_reviews</th>\n",
       "      <th>duration</th>\n",
       "      <th>director_facebook_likes</th>\n",
       "      <th>actor_3_facebook_likes</th>\n",
       "      <th>actor_2_name</th>\n",
       "      <th>actor_1_facebook_likes</th>\n",
       "      <th>gross</th>\n",
       "      <th>genres</th>\n",
       "      <th>...</th>\n",
       "      <th>country</th>\n",
       "      <th>content_rating</th>\n",
       "      <th>budget</th>\n",
       "      <th>title_year</th>\n",
       "      <th>actor_2_facebook_likes</th>\n",
       "      <th>imdb_score</th>\n",
       "      <th>aspect_ratio</th>\n",
       "      <th>movie_facebook_likes</th>\n",
       "      <th>ratio</th>\n",
       "      <th>profit_making</th>\n",
       "    </tr>\n",
       "    <tr>\n",
       "      <th>movie_title</th>\n",
       "      <th></th>\n",
       "      <th></th>\n",
       "      <th></th>\n",
       "      <th></th>\n",
       "      <th></th>\n",
       "      <th></th>\n",
       "      <th></th>\n",
       "      <th></th>\n",
       "      <th></th>\n",
       "      <th></th>\n",
       "      <th></th>\n",
       "      <th></th>\n",
       "      <th></th>\n",
       "      <th></th>\n",
       "      <th></th>\n",
       "      <th></th>\n",
       "      <th></th>\n",
       "      <th></th>\n",
       "      <th></th>\n",
       "      <th></th>\n",
       "      <th></th>\n",
       "    </tr>\n",
       "  </thead>\n",
       "  <tbody>\n",
       "    <tr>\n",
       "      <th>The Longshots</th>\n",
       "      <td>Color</td>\n",
       "      <td>Fred Durst</td>\n",
       "      <td>47.0</td>\n",
       "      <td>-0.710820</td>\n",
       "      <td>-0.175787</td>\n",
       "      <td>424.0</td>\n",
       "      <td>Dash Mihok</td>\n",
       "      <td>-0.449980</td>\n",
       "      <td>-0.574245</td>\n",
       "      <td>Biography</td>\n",
       "      <td>...</td>\n",
       "      <td>USA</td>\n",
       "      <td>PG</td>\n",
       "      <td>-0.100826</td>\n",
       "      <td>2008.0</td>\n",
       "      <td>-0.339440</td>\n",
       "      <td>5.1</td>\n",
       "      <td>2.35</td>\n",
       "      <td>-0.414762</td>\n",
       "      <td>0.500366</td>\n",
       "      <td>False</td>\n",
       "    </tr>\n",
       "    <tr>\n",
       "      <th>Men in Black</th>\n",
       "      <td>Color</td>\n",
       "      <td>Barry Sonnenfeld</td>\n",
       "      <td>175.0</td>\n",
       "      <td>-0.533635</td>\n",
       "      <td>-0.198817</td>\n",
       "      <td>602.0</td>\n",
       "      <td>Rip Torn</td>\n",
       "      <td>0.151007</td>\n",
       "      <td>2.832011</td>\n",
       "      <td>Adventure</td>\n",
       "      <td>...</td>\n",
       "      <td>USA</td>\n",
       "      <td>PG-13</td>\n",
       "      <td>0.198482</td>\n",
       "      <td>1997.0</td>\n",
       "      <td>-0.258966</td>\n",
       "      <td>7.3</td>\n",
       "      <td>1.85</td>\n",
       "      <td>-0.432301</td>\n",
       "      <td>2.779418</td>\n",
       "      <td>True</td>\n",
       "    </tr>\n",
       "    <tr>\n",
       "      <th>Cleopatra</th>\n",
       "      <td>Color</td>\n",
       "      <td>Joseph L. Mankiewicz</td>\n",
       "      <td>72.0</td>\n",
       "      <td>6.243682</td>\n",
       "      <td>-0.158349</td>\n",
       "      <td>595.0</td>\n",
       "      <td>Richard Burton</td>\n",
       "      <td>-0.435795</td>\n",
       "      <td>0.085792</td>\n",
       "      <td>Biography</td>\n",
       "      <td>...</td>\n",
       "      <td>UK</td>\n",
       "      <td>Approved</td>\n",
       "      <td>-0.064574</td>\n",
       "      <td>1963.0</td>\n",
       "      <td>-0.281135</td>\n",
       "      <td>7.0</td>\n",
       "      <td>2.20</td>\n",
       "      <td>-0.432301</td>\n",
       "      <td>1.856018</td>\n",
       "      <td>True</td>\n",
       "    </tr>\n",
       "    <tr>\n",
       "      <th>How to Lose Friends &amp; Alienate People</th>\n",
       "      <td>Color</td>\n",
       "      <td>Robert B. Weide</td>\n",
       "      <td>135.0</td>\n",
       "      <td>-0.002081</td>\n",
       "      <td>-0.243232</td>\n",
       "      <td>87.0</td>\n",
       "      <td>Katherine Parkinson</td>\n",
       "      <td>-0.465589</td>\n",
       "      <td>-0.698894</td>\n",
       "      <td>Comedy</td>\n",
       "      <td>...</td>\n",
       "      <td>UK</td>\n",
       "      <td>R</td>\n",
       "      <td>-0.082957</td>\n",
       "      <td>2008.0</td>\n",
       "      <td>-0.384222</td>\n",
       "      <td>6.5</td>\n",
       "      <td>1.85</td>\n",
       "      <td>-0.432301</td>\n",
       "      <td>0.102800</td>\n",
       "      <td>False</td>\n",
       "    </tr>\n",
       "    <tr>\n",
       "      <th>The Age of Innocence</th>\n",
       "      <td>Color</td>\n",
       "      <td>Martin Scorsese</td>\n",
       "      <td>56.0</td>\n",
       "      <td>1.282509</td>\n",
       "      <td>5.332410</td>\n",
       "      <td>94.0</td>\n",
       "      <td>Geraldine Chaplin</td>\n",
       "      <td>-0.460796</td>\n",
       "      <td>-0.281755</td>\n",
       "      <td>Drama</td>\n",
       "      <td>...</td>\n",
       "      <td>USA</td>\n",
       "      <td>PG</td>\n",
       "      <td>-0.069555</td>\n",
       "      <td>1993.0</td>\n",
       "      <td>-0.357397</td>\n",
       "      <td>7.2</td>\n",
       "      <td>2.35</td>\n",
       "      <td>-0.432301</td>\n",
       "      <td>1.066667</td>\n",
       "      <td>False</td>\n",
       "    </tr>\n",
       "  </tbody>\n",
       "</table>\n",
       "<p>5 rows × 29 columns</p>\n",
       "</div>"
      ],
      "text/plain": [
       "                                        color         director_name  \\\n",
       "movie_title                                                           \n",
       "The Longshots                           Color            Fred Durst   \n",
       "Men in Black                            Color      Barry Sonnenfeld   \n",
       "Cleopatra                               Color  Joseph L. Mankiewicz   \n",
       "How to Lose Friends & Alienate People   Color       Robert B. Weide   \n",
       "The Age of Innocence                    Color       Martin Scorsese   \n",
       "\n",
       "                                        num_critic_for_reviews  duration  \\\n",
       "movie_title                                                                \n",
       "The Longshots                                             47.0 -0.710820   \n",
       "Men in Black                                             175.0 -0.533635   \n",
       "Cleopatra                                                 72.0  6.243682   \n",
       "How to Lose Friends & Alienate People                    135.0 -0.002081   \n",
       "The Age of Innocence                                      56.0  1.282509   \n",
       "\n",
       "                                        director_facebook_likes  \\\n",
       "movie_title                                                       \n",
       "The Longshots                                         -0.175787   \n",
       "Men in Black                                          -0.198817   \n",
       "Cleopatra                                             -0.158349   \n",
       "How to Lose Friends & Alienate People                 -0.243232   \n",
       "The Age of Innocence                                   5.332410   \n",
       "\n",
       "                                        actor_3_facebook_likes  \\\n",
       "movie_title                                                      \n",
       "The Longshots                                            424.0   \n",
       "Men in Black                                             602.0   \n",
       "Cleopatra                                                595.0   \n",
       "How to Lose Friends & Alienate People                     87.0   \n",
       "The Age of Innocence                                      94.0   \n",
       "\n",
       "                                               actor_2_name  \\\n",
       "movie_title                                                   \n",
       "The Longshots                                    Dash Mihok   \n",
       "Men in Black                                       Rip Torn   \n",
       "Cleopatra                                    Richard Burton   \n",
       "How to Lose Friends & Alienate People   Katherine Parkinson   \n",
       "The Age of Innocence                      Geraldine Chaplin   \n",
       "\n",
       "                                        actor_1_facebook_likes     gross  \\\n",
       "movie_title                                                                \n",
       "The Longshots                                        -0.449980 -0.574245   \n",
       "Men in Black                                          0.151007  2.832011   \n",
       "Cleopatra                                            -0.435795  0.085792   \n",
       "How to Lose Friends & Alienate People                -0.465589 -0.698894   \n",
       "The Age of Innocence                                 -0.460796 -0.281755   \n",
       "\n",
       "                                           genres      ...      country  \\\n",
       "movie_title                                            ...                \n",
       "The Longshots                           Biography      ...          USA   \n",
       "Men in Black                            Adventure      ...          USA   \n",
       "Cleopatra                               Biography      ...           UK   \n",
       "How to Lose Friends & Alienate People      Comedy      ...           UK   \n",
       "The Age of Innocence                        Drama      ...          USA   \n",
       "\n",
       "                                        content_rating    budget title_year  \\\n",
       "movie_title                                                                   \n",
       "The Longshots                                       PG -0.100826     2008.0   \n",
       "Men in Black                                     PG-13  0.198482     1997.0   \n",
       "Cleopatra                                     Approved -0.064574     1963.0   \n",
       "How to Lose Friends & Alienate People                R -0.082957     2008.0   \n",
       "The Age of Innocence                                PG -0.069555     1993.0   \n",
       "\n",
       "                                        actor_2_facebook_likes imdb_score  \\\n",
       "movie_title                                                                 \n",
       "The Longshots                                        -0.339440        5.1   \n",
       "Men in Black                                         -0.258966        7.3   \n",
       "Cleopatra                                            -0.281135        7.0   \n",
       "How to Lose Friends & Alienate People                -0.384222        6.5   \n",
       "The Age of Innocence                                 -0.357397        7.2   \n",
       "\n",
       "                                       aspect_ratio  movie_facebook_likes  \\\n",
       "movie_title                                                                 \n",
       "The Longshots                                  2.35             -0.414762   \n",
       "Men in Black                                   1.85             -0.432301   \n",
       "Cleopatra                                      2.20             -0.432301   \n",
       "How to Lose Friends & Alienate People          1.85             -0.432301   \n",
       "The Age of Innocence                           2.35             -0.432301   \n",
       "\n",
       "                                           ratio profit_making  \n",
       "movie_title                                                     \n",
       "The Longshots                           0.500366         False  \n",
       "Men in Black                            2.779418          True  \n",
       "Cleopatra                               1.856018          True  \n",
       "How to Lose Friends & Alienate People   0.102800         False  \n",
       "The Age of Innocence                    1.066667         False  \n",
       "\n",
       "[5 rows x 29 columns]"
      ]
     },
     "execution_count": 239,
     "metadata": {},
     "output_type": "execute_result"
    }
   ],
   "source": [
    "titles_highb.head()"
   ]
  },
  {
   "cell_type": "code",
   "execution_count": 240,
   "metadata": {
    "collapsed": true
   },
   "outputs": [],
   "source": [
    "titles_highb=titles_highb[['imdb_score','gross', 'budget', 'ratio', 'director_facebook_likes' , 'content_rating' , 'title_year' , 'movie_facebook_likes' ,'actor_1_facebook_likes','actor_2_facebook_likes','actor_3_facebook_likes']]"
   ]
  },
  {
   "cell_type": "code",
   "execution_count": 241,
   "metadata": {
    "collapsed": true
   },
   "outputs": [],
   "source": [
    "titles_highb=titles_highb.dropna(axis=0, subset = ['actor_1_facebook_likes','actor_2_facebook_likes','actor_3_facebook_likes'])"
   ]
  },
  {
   "cell_type": "code",
   "execution_count": 242,
   "metadata": {
    "collapsed": true
   },
   "outputs": [],
   "source": [
    "titles_highb_train=titles_highb[:1500]\n",
    "titles_highb_test=titles_highb[1500:]"
   ]
  },
  {
   "cell_type": "code",
   "execution_count": 243,
   "metadata": {
    "collapsed": true
   },
   "outputs": [],
   "source": [
    "linear_regression_highb= LinearRegression()"
   ]
  },
  {
   "cell_type": "code",
   "execution_count": 244,
   "metadata": {},
   "outputs": [
    {
     "data": {
      "text/plain": [
       "LinearRegression(copy_X=True, fit_intercept=True, n_jobs=1, normalize=False)"
      ]
     },
     "execution_count": 244,
     "metadata": {},
     "output_type": "execute_result"
    }
   ],
   "source": [
    "linear_regression_highb.fit(titles_highb_train[['title_year','budget','imdb_score','director_facebook_likes' ,  'actor_1_facebook_likes', 'actor_2_facebook_likes' , 'actor_3_facebook_likes']] , titles_highb_train.ratio)"
   ]
  },
  {
   "cell_type": "code",
   "execution_count": 245,
   "metadata": {},
   "outputs": [
    {
     "data": {
      "text/plain": [
       "array([ 1.24752026,  1.18258967,  1.46536268,  1.19312631,  1.54266559,\n",
       "        1.66617633,  1.37939537,  1.11881243,  1.11049126,  1.17106323])"
      ]
     },
     "execution_count": 245,
     "metadata": {},
     "output_type": "execute_result"
    }
   ],
   "source": [
    "linear_regression_highb.predict(titles_highb_test[['title_year','budget','imdb_score','director_facebook_likes' ,  'actor_1_facebook_likes', 'actor_2_facebook_likes' , 'actor_3_facebook_likes']])[:10]"
   ]
  },
  {
   "cell_type": "code",
   "execution_count": 246,
   "metadata": {},
   "outputs": [
    {
     "data": {
      "text/plain": [
       "movie_title\n",
       "Last Holiday              0.852449\n",
       "Man on a Ledge            0.442879\n",
       "Big Hero 6                1.348410\n",
       "Chasing Liberty           0.529979\n",
       "Amen.                     0.002663\n",
       "Man on the Moon           0.665012\n",
       "Signs                     3.166190\n",
       "Delivery Man              1.179224\n",
       "Jingle All the Way        1.009561\n",
       "Babe: Pig in the City     0.228975\n",
       "Name: ratio, dtype: float64"
      ]
     },
     "execution_count": 246,
     "metadata": {},
     "output_type": "execute_result"
    }
   ],
   "source": [
    "titles_highb_test.ratio[:10]"
   ]
  },
  {
   "cell_type": "code",
   "execution_count": 247,
   "metadata": {},
   "outputs": [
    {
     "data": {
      "text/plain": [
       "0.010068156182267418"
      ]
     },
     "execution_count": 247,
     "metadata": {},
     "output_type": "execute_result"
    }
   ],
   "source": [
    "linear_regression_highb.score(titles_highb_test[['title_year','budget','imdb_score','director_facebook_likes' ,  'actor_1_facebook_likes', 'actor_2_facebook_likes' , 'actor_3_facebook_likes' ]],titles_highb_test.ratio)"
   ]
  },
  {
   "cell_type": "code",
   "execution_count": 248,
   "metadata": {},
   "outputs": [
    {
     "data": {
      "text/plain": [
       "array([ -1.83213712e-02,  -1.95006312e-01,   3.11510103e-01,\n",
       "         2.21014409e-02,   3.05718429e-02,   1.18710932e-03,\n",
       "         3.94092562e-05])"
      ]
     },
     "execution_count": 248,
     "metadata": {},
     "output_type": "execute_result"
    }
   ],
   "source": [
    "linear_regression_highb.coef_"
   ]
  },
  {
   "cell_type": "code",
   "execution_count": 249,
   "metadata": {
    "collapsed": true
   },
   "outputs": [],
   "source": [
    "new=titles.genres.drop_duplicates()"
   ]
  },
  {
   "cell_type": "code",
   "execution_count": 250,
   "metadata": {},
   "outputs": [
    {
     "data": {
      "text/plain": [
       "<bound method Series.sort_values of movie_title\n",
       "Avatar                           Action\n",
       "Tangled                       Adventure\n",
       "Titanic                           Drama\n",
       "A Christmas Carol             Animation\n",
       "Evan Almighty                    Comedy\n",
       "Angels & Demons                 Mystery\n",
       "Ocean's Twelve                    Crime\n",
       "The Aviator                   Biography\n",
       "The Haunting                    Fantasy\n",
       "Oceans                      Documentary\n",
       "The Invasion                     Sci-Fi\n",
       "Exorcist: The Beginning          Horror\n",
       "The Adjustment Bureau           Romance\n",
       "The Nutcracker                   Family\n",
       "Pale Rider                      Western\n",
       "Grease                          Musical\n",
       "Locker 13                      Thriller\n",
       "Name: genres, dtype: object>"
      ]
     },
     "execution_count": 250,
     "metadata": {},
     "output_type": "execute_result"
    }
   ],
   "source": [
    "new.sort_values"
   ]
  },
  {
   "cell_type": "code",
   "execution_count": 251,
   "metadata": {
    "collapsed": true
   },
   "outputs": [],
   "source": [
    "titles_cat=titles"
   ]
  },
  {
   "cell_type": "code",
   "execution_count": 252,
   "metadata": {
    "collapsed": true
   },
   "outputs": [],
   "source": [
    "from pandas import get_dummies "
   ]
  },
  {
   "cell_type": "code",
   "execution_count": 253,
   "metadata": {},
   "outputs": [
    {
     "data": {
      "text/plain": [
       "pandas.core.frame.DataFrame"
      ]
     },
     "execution_count": 253,
     "metadata": {},
     "output_type": "execute_result"
    }
   ],
   "source": [
    "type (titles_cat)"
   ]
  },
  {
   "cell_type": "code",
   "execution_count": 254,
   "metadata": {
    "collapsed": true
   },
   "outputs": [],
   "source": [
    "titles_cat=pd.get_dummies(titles_cat , columns=[\"genres\"])"
   ]
  },
  {
   "cell_type": "code",
   "execution_count": 255,
   "metadata": {},
   "outputs": [
    {
     "data": {
      "text/plain": [
       "movie_title\n",
       "Avatar                                       1\n",
       "Pirates of the Caribbean: At World's End     1\n",
       "Spectre                                      1\n",
       "The Dark Knight Rises                        1\n",
       "John Carter                                  1\n",
       "Name: genres_Action, dtype: uint8"
      ]
     },
     "execution_count": 255,
     "metadata": {},
     "output_type": "execute_result"
    }
   ],
   "source": [
    "titles_cat.genres_Action.head()"
   ]
  },
  {
   "cell_type": "code",
   "execution_count": 256,
   "metadata": {},
   "outputs": [
    {
     "data": {
      "text/plain": [
       "Index(['color', 'director_name', 'num_critic_for_reviews', 'duration',\n",
       "       'director_facebook_likes', 'actor_3_facebook_likes', 'actor_2_name',\n",
       "       'actor_1_facebook_likes', 'gross', 'actor_1_name', 'num_voted_users',\n",
       "       'cast_total_facebook_likes', 'actor_3_name', 'facenumber_in_poster',\n",
       "       'plot_keywords', 'movie_imdb_link', 'num_user_for_reviews', 'language',\n",
       "       'country', 'content_rating', 'budget', 'title_year',\n",
       "       'actor_2_facebook_likes', 'imdb_score', 'aspect_ratio',\n",
       "       'movie_facebook_likes', 'ratio', 'profit_making', 'genres_Action',\n",
       "       'genres_Adventure', 'genres_Animation', 'genres_Biography',\n",
       "       'genres_Comedy', 'genres_Crime', 'genres_Documentary', 'genres_Drama',\n",
       "       'genres_Family', 'genres_Fantasy', 'genres_Horror', 'genres_Musical',\n",
       "       'genres_Mystery', 'genres_Romance', 'genres_Sci-Fi', 'genres_Thriller',\n",
       "       'genres_Western'],\n",
       "      dtype='object')"
      ]
     },
     "execution_count": 256,
     "metadata": {},
     "output_type": "execute_result"
    }
   ],
   "source": [
    "titles_cat.columns"
   ]
  },
  {
   "cell_type": "code",
   "execution_count": 257,
   "metadata": {},
   "outputs": [
    {
     "data": {
      "text/plain": [
       "R            1730\n",
       "PG-13        1331\n",
       "PG            576\n",
       "G              91\n",
       "Not Rated      42\n",
       "Unrated        23\n",
       "Approved       17\n",
       "X              10\n",
       "NC-17           6\n",
       "Passed          3\n",
       "M               2\n",
       "GP              1\n",
       "Name: content_rating, dtype: int64"
      ]
     },
     "execution_count": 257,
     "metadata": {},
     "output_type": "execute_result"
    }
   ],
   "source": [
    "titles_cat.content_rating.value_counts()"
   ]
  },
  {
   "cell_type": "code",
   "execution_count": 258,
   "metadata": {},
   "outputs": [
    {
     "data": {
      "text/plain": [
       "movie_title\n",
       "The Host                                        South Korea\n",
       "Lady Vengeance                                  South Korea\n",
       "Fateless                                            Hungary\n",
       "Princess Mononoke                                     Japan\n",
       "Steamboy                                              Japan\n",
       "Akira                                                 Japan\n",
       "Godzilla 2000                                         Japan\n",
       "Kabhi Alvida Naa Kehna                                India\n",
       "Tango                                                 Spain\n",
       "Red Cliff                                             China\n",
       "The Legend of Suriyothai                           Thailand\n",
       "The Messenger: The Story of Joan of Arc              France\n",
       "Ong-bak 2                                          Thailand\n",
       "Pirates of the Caribbean: At World's End                USA\n",
       "John Carter                                             USA\n",
       "Tangled                                                 USA\n",
       "Spider-Man 3                                            USA\n",
       "Spider-Man 3                                            USA\n",
       "Pirates of the Caribbean: On Stranger Tides             USA\n",
       "The Hobbit: The Battle of the Five Armies       New Zealand\n",
       "Avengers: Age of Ultron                                 USA\n",
       "Harry Potter and the Half-Blood Prince                   UK\n",
       "Batman v Superman: Dawn of Justice                      USA\n",
       "Captain America: Civil War                              USA\n",
       "The Dark Knight Rises                                   USA\n",
       "Spectre                                                  UK\n",
       "Avatar                                                  USA\n",
       "The Amazing Spider-Man                                  USA\n",
       "The Chronicles of Narnia: Prince Caspian                USA\n",
       "Pirates of the Caribbean: Dead Man's Chest              USA\n",
       "                                                   ...     \n",
       "November                                                USA\n",
       "Tadpole                                                 USA\n",
       "Your Sister's Sister                                    USA\n",
       "Weekend                                                  UK\n",
       "Facing the Giants                                       USA\n",
       "Hollywood Shuffle                                       USA\n",
       "Another Earth                                           USA\n",
       "Happy Christmas                                         USA\n",
       "Super Size Me                                           USA\n",
       "Tiny Furniture                                          USA\n",
       "Pi                                                      USA\n",
       "20 Dates                                                USA\n",
       "The FP                                                  USA\n",
       "Osama                                           Afghanistan\n",
       "George Washington                                       USA\n",
       "Smiling Fish & Goat on Fire                             USA\n",
       "The Lost Skeleton of Cadavra                            USA\n",
       "The Legend of God's Gun                                 USA\n",
       "Pink Narcissus                                          USA\n",
       "In the Company of Men                                Canada\n",
       "Slacker                                                 USA\n",
       "The Puffy Chair                                         USA\n",
       "London                                                   UK\n",
       "Pink Flamingos                                          USA\n",
       "The Circle                                             Iran\n",
       "Newlyweds                                               USA\n",
       "Primer                                                  USA\n",
       "Cavite                                          Philippines\n",
       "Clean                                                France\n",
       "My Date with Drew                                       USA\n",
       "Name: country, Length: 3832, dtype: object"
      ]
     },
     "execution_count": 258,
     "metadata": {},
     "output_type": "execute_result"
    }
   ],
   "source": [
    "titles_cat.sort_values('budget', ascending=False).country"
   ]
  },
  {
   "cell_type": "code",
   "execution_count": 259,
   "metadata": {
    "collapsed": true
   },
   "outputs": [],
   "source": [
    "titles_cat=titles_cat.drop(titles_cat[titles_cat.content_rating.str.match(\"NC-17|Passed|M|GP\")].index)"
   ]
  },
  {
   "cell_type": "code",
   "execution_count": 260,
   "metadata": {},
   "outputs": [
    {
     "data": {
      "text/plain": [
       "R            1730\n",
       "PG-13        1331\n",
       "PG            576\n",
       "G              91\n",
       "Not Rated      42\n",
       "Unrated        23\n",
       "Approved       17\n",
       "X              10\n",
       "Name: content_rating, dtype: int64"
      ]
     },
     "execution_count": 260,
     "metadata": {},
     "output_type": "execute_result"
    }
   ],
   "source": [
    "titles_cat.content_rating.value_counts()"
   ]
  },
  {
   "cell_type": "code",
   "execution_count": 261,
   "metadata": {
    "collapsed": true
   },
   "outputs": [],
   "source": [
    "titles_cat=pd.get_dummies(titles_cat , columns=[\"content_rating\"])"
   ]
  },
  {
   "cell_type": "code",
   "execution_count": 262,
   "metadata": {
    "collapsed": true
   },
   "outputs": [],
   "source": [
    "titles_cat_highb = titles_cat[(titles_cat.budget > -.114)]"
   ]
  },
  {
   "cell_type": "code",
   "execution_count": 263,
   "metadata": {
    "collapsed": true
   },
   "outputs": [],
   "source": [
    "titles_cat_lowb = titles_cat[(titles_cat.budget <= -.114)]"
   ]
  },
  {
   "cell_type": "code",
   "execution_count": 264,
   "metadata": {},
   "outputs": [
    {
     "data": {
      "text/plain": [
       "2051"
      ]
     },
     "execution_count": 264,
     "metadata": {},
     "output_type": "execute_result"
    }
   ],
   "source": [
    "len(titles_cat_highb)"
   ]
  },
  {
   "cell_type": "code",
   "execution_count": 265,
   "metadata": {},
   "outputs": [
    {
     "data": {
      "text/plain": [
       "1769"
      ]
     },
     "execution_count": 265,
     "metadata": {},
     "output_type": "execute_result"
    }
   ],
   "source": [
    "len(titles_cat_lowb)"
   ]
  },
  {
   "cell_type": "code",
   "execution_count": 266,
   "metadata": {},
   "outputs": [
    {
     "data": {
      "text/plain": [
       "0.40711847879083374"
      ]
     },
     "execution_count": 266,
     "metadata": {},
     "output_type": "execute_result"
    }
   ],
   "source": [
    "titles_cat_highb.profit_making.mean()"
   ]
  },
  {
   "cell_type": "code",
   "execution_count": 267,
   "metadata": {},
   "outputs": [
    {
     "data": {
      "text/plain": [
       "0.52572074618428488"
      ]
     },
     "execution_count": 267,
     "metadata": {},
     "output_type": "execute_result"
    }
   ],
   "source": [
    "titles_cat_lowb.profit_making.mean()"
   ]
  },
  {
   "cell_type": "code",
   "execution_count": 268,
   "metadata": {
    "collapsed": true
   },
   "outputs": [],
   "source": [
    "titles_cat_highb=shuffle(titles_cat_highb)"
   ]
  },
  {
   "cell_type": "code",
   "execution_count": 269,
   "metadata": {},
   "outputs": [
    {
     "data": {
      "text/plain": [
       "Index(['color', 'director_name', 'num_critic_for_reviews', 'duration',\n",
       "       'director_facebook_likes', 'actor_3_facebook_likes', 'actor_2_name',\n",
       "       'actor_1_facebook_likes', 'gross', 'actor_1_name', 'num_voted_users',\n",
       "       'cast_total_facebook_likes', 'actor_3_name', 'facenumber_in_poster',\n",
       "       'plot_keywords', 'movie_imdb_link', 'num_user_for_reviews', 'language',\n",
       "       'country', 'budget', 'title_year', 'actor_2_facebook_likes',\n",
       "       'imdb_score', 'aspect_ratio', 'movie_facebook_likes', 'ratio',\n",
       "       'profit_making', 'genres_Action', 'genres_Adventure',\n",
       "       'genres_Animation', 'genres_Biography', 'genres_Comedy', 'genres_Crime',\n",
       "       'genres_Documentary', 'genres_Drama', 'genres_Family', 'genres_Fantasy',\n",
       "       'genres_Horror', 'genres_Musical', 'genres_Mystery', 'genres_Romance',\n",
       "       'genres_Sci-Fi', 'genres_Thriller', 'genres_Western',\n",
       "       'content_rating_Approved', 'content_rating_G',\n",
       "       'content_rating_Not Rated', 'content_rating_PG', 'content_rating_PG-13',\n",
       "       'content_rating_R', 'content_rating_Unrated', 'content_rating_X'],\n",
       "      dtype='object')"
      ]
     },
     "execution_count": 269,
     "metadata": {},
     "output_type": "execute_result"
    }
   ],
   "source": [
    "titles_cat_highb.columns\n"
   ]
  },
  {
   "cell_type": "code",
   "execution_count": 270,
   "metadata": {
    "collapsed": true
   },
   "outputs": [],
   "source": [
    "#titles_cat_highb.drop(titles_cat_highb.country==)"
   ]
  },
  {
   "cell_type": "code",
   "execution_count": 271,
   "metadata": {},
   "outputs": [
    {
     "data": {
      "text/plain": [
       "339"
      ]
     },
     "execution_count": 271,
     "metadata": {},
     "output_type": "execute_result"
    }
   ],
   "source": [
    "len(titles_cat_highb[titles_cat_highb.country != \"USA\"])"
   ]
  },
  {
   "cell_type": "code",
   "execution_count": 272,
   "metadata": {
    "collapsed": true
   },
   "outputs": [],
   "source": [
    "titles_cat_highb=titles_cat_highb.drop(titles_cat_highb[titles_cat_highb.country != \"USA\"].index)"
   ]
  },
  {
   "cell_type": "code",
   "execution_count": 273,
   "metadata": {
    "collapsed": true
   },
   "outputs": [],
   "source": [
    "#titles_cat_highb=titles_cat_highb.drop(['actor_1_facebook_likes','actor_2_facebook_likes','actor_3_facebook_likes'],axis=1)"
   ]
  },
  {
   "cell_type": "code",
   "execution_count": 274,
   "metadata": {},
   "outputs": [
    {
     "data": {
      "text/plain": [
       "Index(['color', 'director_name', 'num_critic_for_reviews', 'duration',\n",
       "       'director_facebook_likes', 'actor_3_facebook_likes', 'actor_2_name',\n",
       "       'actor_1_facebook_likes', 'gross', 'actor_1_name', 'num_voted_users',\n",
       "       'cast_total_facebook_likes', 'actor_3_name', 'facenumber_in_poster',\n",
       "       'plot_keywords', 'movie_imdb_link', 'num_user_for_reviews', 'language',\n",
       "       'country', 'budget', 'title_year', 'actor_2_facebook_likes',\n",
       "       'imdb_score', 'aspect_ratio', 'movie_facebook_likes', 'ratio',\n",
       "       'profit_making', 'genres_Action', 'genres_Adventure',\n",
       "       'genres_Animation', 'genres_Biography', 'genres_Comedy', 'genres_Crime',\n",
       "       'genres_Documentary', 'genres_Drama', 'genres_Family', 'genres_Fantasy',\n",
       "       'genres_Horror', 'genres_Musical', 'genres_Mystery', 'genres_Romance',\n",
       "       'genres_Sci-Fi', 'genres_Thriller', 'genres_Western',\n",
       "       'content_rating_Approved', 'content_rating_G',\n",
       "       'content_rating_Not Rated', 'content_rating_PG', 'content_rating_PG-13',\n",
       "       'content_rating_R', 'content_rating_Unrated', 'content_rating_X'],\n",
       "      dtype='object')"
      ]
     },
     "execution_count": 274,
     "metadata": {},
     "output_type": "execute_result"
    }
   ],
   "source": [
    "titles_cat_highb.columns"
   ]
  },
  {
   "cell_type": "code",
   "execution_count": 275,
   "metadata": {
    "collapsed": true
   },
   "outputs": [],
   "source": [
    "titles_cat_ml_highb=titles_cat_highb.select_dtypes(exclude=['object']) "
   ]
  },
  {
   "cell_type": "code",
   "execution_count": 276,
   "metadata": {
    "collapsed": true
   },
   "outputs": [],
   "source": [
    "titles_cat_ml_highb=titles_cat_ml_highb.select_dtypes(exclude=['bool']) "
   ]
  },
  {
   "cell_type": "code",
   "execution_count": 277,
   "metadata": {
    "collapsed": true
   },
   "outputs": [],
   "source": [
    "titles_cat_ml_highb=titles_cat_ml_highb.dropna()"
   ]
  },
  {
   "cell_type": "code",
   "execution_count": 278,
   "metadata": {
    "collapsed": true
   },
   "outputs": [],
   "source": [
    "titles_cat_ml_highb=shuffle(titles_cat_ml_highb)"
   ]
  },
  {
   "cell_type": "code",
   "execution_count": 279,
   "metadata": {},
   "outputs": [
    {
     "data": {
      "text/plain": [
       "Index(['num_critic_for_reviews', 'duration', 'director_facebook_likes',\n",
       "       'actor_3_facebook_likes', 'actor_1_facebook_likes', 'gross',\n",
       "       'num_voted_users', 'cast_total_facebook_likes', 'facenumber_in_poster',\n",
       "       'num_user_for_reviews', 'budget', 'title_year',\n",
       "       'actor_2_facebook_likes', 'imdb_score', 'aspect_ratio',\n",
       "       'movie_facebook_likes', 'ratio', 'genres_Action', 'genres_Adventure',\n",
       "       'genres_Animation', 'genres_Biography', 'genres_Comedy', 'genres_Crime',\n",
       "       'genres_Documentary', 'genres_Drama', 'genres_Family', 'genres_Fantasy',\n",
       "       'genres_Horror', 'genres_Musical', 'genres_Mystery', 'genres_Romance',\n",
       "       'genres_Sci-Fi', 'genres_Thriller', 'genres_Western',\n",
       "       'content_rating_Approved', 'content_rating_G',\n",
       "       'content_rating_Not Rated', 'content_rating_PG', 'content_rating_PG-13',\n",
       "       'content_rating_R', 'content_rating_Unrated', 'content_rating_X'],\n",
       "      dtype='object')"
      ]
     },
     "execution_count": 279,
     "metadata": {},
     "output_type": "execute_result"
    }
   ],
   "source": [
    "titles_cat_ml_highb.columns"
   ]
  },
  {
   "cell_type": "code",
   "execution_count": 280,
   "metadata": {
    "collapsed": true
   },
   "outputs": [],
   "source": [
    "titles_cat_ml_highb_train=titles_cat_ml_highb[:1200]\n",
    "titles_cat_ml_highb_test=titles_cat_ml_highb[1200:]"
   ]
  },
  {
   "cell_type": "code",
   "execution_count": 281,
   "metadata": {
    "collapsed": true
   },
   "outputs": [],
   "source": [
    "titles_cat_ml_highb_train_x=titles_cat_ml_highb_train.drop(['gross', 'ratio'],axis=1 )"
   ]
  },
  {
   "cell_type": "code",
   "execution_count": 282,
   "metadata": {
    "collapsed": true
   },
   "outputs": [],
   "source": [
    "titles_cat_ml_highb_test_x=titles_cat_ml_highb_test.drop( ['ratio' , 'gross' ],axis=1)"
   ]
  },
  {
   "cell_type": "code",
   "execution_count": 283,
   "metadata": {
    "collapsed": true
   },
   "outputs": [],
   "source": [
    "titles_cat_ml_highb_train_y=pd.DataFrame(titles_cat_ml_highb_train['ratio'])"
   ]
  },
  {
   "cell_type": "code",
   "execution_count": 284,
   "metadata": {
    "collapsed": true
   },
   "outputs": [],
   "source": [
    "titles_cat_ml_highb_test_y=pd.DataFrame(titles_cat_ml_highb_test[ 'ratio' ])"
   ]
  },
  {
   "cell_type": "code",
   "execution_count": 285,
   "metadata": {
    "collapsed": true
   },
   "outputs": [],
   "source": [
    "linear_regression_highb_cat= LinearRegression()"
   ]
  },
  {
   "cell_type": "code",
   "execution_count": 286,
   "metadata": {},
   "outputs": [
    {
     "data": {
      "text/plain": [
       "LinearRegression(copy_X=True, fit_intercept=True, n_jobs=1, normalize=False)"
      ]
     },
     "execution_count": 286,
     "metadata": {},
     "output_type": "execute_result"
    }
   ],
   "source": [
    "linear_regression_highb_cat.fit(titles_cat_ml_highb_train_x ,titles_cat_ml_highb_train_y )"
   ]
  },
  {
   "cell_type": "code",
   "execution_count": 287,
   "metadata": {},
   "outputs": [
    {
     "data": {
      "text/plain": [
       "array([[ 0.94672535],\n",
       "       [ 2.02929527],\n",
       "       [ 0.78012941],\n",
       "       [ 0.92075055],\n",
       "       [ 1.63383713],\n",
       "       [ 0.86385517],\n",
       "       [ 2.2566237 ],\n",
       "       [ 1.36924224],\n",
       "       [ 0.98176268],\n",
       "       [ 0.52988096]])"
      ]
     },
     "execution_count": 287,
     "metadata": {},
     "output_type": "execute_result"
    }
   ],
   "source": [
    "linear_regression_highb_cat.predict(titles_cat_ml_highb_train_x)[:10]"
   ]
  },
  {
   "cell_type": "code",
   "execution_count": 288,
   "metadata": {},
   "outputs": [
    {
     "data": {
      "text/html": [
       "<div>\n",
       "<style>\n",
       "    .dataframe thead tr:only-child th {\n",
       "        text-align: right;\n",
       "    }\n",
       "\n",
       "    .dataframe thead th {\n",
       "        text-align: left;\n",
       "    }\n",
       "\n",
       "    .dataframe tbody tr th {\n",
       "        vertical-align: top;\n",
       "    }\n",
       "</style>\n",
       "<table border=\"1\" class=\"dataframe\">\n",
       "  <thead>\n",
       "    <tr style=\"text-align: right;\">\n",
       "      <th></th>\n",
       "      <th>ratio</th>\n",
       "    </tr>\n",
       "    <tr>\n",
       "      <th>movie_title</th>\n",
       "      <th></th>\n",
       "    </tr>\n",
       "  </thead>\n",
       "  <tbody>\n",
       "    <tr>\n",
       "      <th>The Day the Earth Stood Still</th>\n",
       "      <td>0.992047</td>\n",
       "    </tr>\n",
       "    <tr>\n",
       "      <th>The Running Man</th>\n",
       "      <td>1.411930</td>\n",
       "    </tr>\n",
       "    <tr>\n",
       "      <th>Changeling</th>\n",
       "      <td>0.649224</td>\n",
       "    </tr>\n",
       "    <tr>\n",
       "      <th>The Core</th>\n",
       "      <td>0.518521</td>\n",
       "    </tr>\n",
       "    <tr>\n",
       "      <th>Sweet Home Alabama</th>\n",
       "      <td>3.347739</td>\n",
       "    </tr>\n",
       "    <tr>\n",
       "      <th>In the Heart of the Sea</th>\n",
       "      <td>0.249856</td>\n",
       "    </tr>\n",
       "    <tr>\n",
       "      <th>X-Men: First Class</th>\n",
       "      <td>0.915034</td>\n",
       "    </tr>\n",
       "    <tr>\n",
       "      <th>RoboCop</th>\n",
       "      <td>0.586070</td>\n",
       "    </tr>\n",
       "    <tr>\n",
       "      <th>Funny People</th>\n",
       "      <td>0.690856</td>\n",
       "    </tr>\n",
       "    <tr>\n",
       "      <th>Troy</th>\n",
       "      <td>0.761305</td>\n",
       "    </tr>\n",
       "  </tbody>\n",
       "</table>\n",
       "</div>"
      ],
      "text/plain": [
       "                                   ratio\n",
       "movie_title                             \n",
       "The Day the Earth Stood Still   0.992047\n",
       "The Running Man                 1.411930\n",
       "Changeling                      0.649224\n",
       "The Core                        0.518521\n",
       "Sweet Home Alabama              3.347739\n",
       "In the Heart of the Sea         0.249856\n",
       "X-Men: First Class              0.915034\n",
       "RoboCop                         0.586070\n",
       "Funny People                    0.690856\n",
       "Troy                            0.761305"
      ]
     },
     "execution_count": 288,
     "metadata": {},
     "output_type": "execute_result"
    }
   ],
   "source": [
    "titles_cat_ml_highb_train_y[:10]"
   ]
  },
  {
   "cell_type": "code",
   "execution_count": 289,
   "metadata": {},
   "outputs": [
    {
     "data": {
      "text/plain": [
       "0.2158916069146366"
      ]
     },
     "execution_count": 289,
     "metadata": {},
     "output_type": "execute_result"
    }
   ],
   "source": [
    "linear_regression_highb_cat.score(titles_cat_ml_highb_test_x,titles_cat_ml_highb_test_y)"
   ]
  },
  {
   "cell_type": "code",
   "execution_count": 290,
   "metadata": {},
   "outputs": [
    {
     "data": {
      "text/plain": [
       "array([[  2.35804531e-03,  -4.98115171e-02,  -9.03322328e-02,\n",
       "         -1.01897398e-04,  -1.17005585e+00,   4.36110878e-01,\n",
       "          1.48855750e+00,   4.44068578e-03,  -4.96571897e-02,\n",
       "         -2.41335152e+00,  -3.26654814e-02,  -3.53731475e-01,\n",
       "          1.77275682e-01,  -2.00177539e-01,  -4.06122848e-02,\n",
       "          2.17873627e-01,   2.94953290e-01,   2.58562009e-01,\n",
       "          1.90578147e-01,   4.47089250e-01,  -2.76328072e-02,\n",
       "          6.03748348e-02,   4.79223598e-02,  -1.09634524e-15,\n",
       "         -3.27164929e-02,   2.69500229e-01,  -3.33066907e-16,\n",
       "         -9.14048409e-02,  -7.08336170e-01,  -9.26763434e-01,\n",
       "          0.00000000e+00,   0.00000000e+00,   0.00000000e+00,\n",
       "          3.22415770e-01,   0.00000000e+00,   1.88369530e-01,\n",
       "         -7.36290430e-02,  -4.37156257e-01,   0.00000000e+00,\n",
       "          0.00000000e+00]])"
      ]
     },
     "execution_count": 290,
     "metadata": {},
     "output_type": "execute_result"
    }
   ],
   "source": [
    "linear_regression_highb_cat.coef_"
   ]
  },
  {
   "cell_type": "code",
   "execution_count": 291,
   "metadata": {},
   "outputs": [
    {
     "data": {
      "text/plain": [
       "Index(['num_critic_for_reviews', 'duration', 'director_facebook_likes',\n",
       "       'actor_3_facebook_likes', 'actor_1_facebook_likes', 'num_voted_users',\n",
       "       'cast_total_facebook_likes', 'facenumber_in_poster',\n",
       "       'num_user_for_reviews', 'budget', 'title_year',\n",
       "       'actor_2_facebook_likes', 'imdb_score', 'aspect_ratio',\n",
       "       'movie_facebook_likes', 'genres_Action', 'genres_Adventure',\n",
       "       'genres_Animation', 'genres_Biography', 'genres_Comedy', 'genres_Crime',\n",
       "       'genres_Documentary', 'genres_Drama', 'genres_Family', 'genres_Fantasy',\n",
       "       'genres_Horror', 'genres_Musical', 'genres_Mystery', 'genres_Romance',\n",
       "       'genres_Sci-Fi', 'genres_Thriller', 'genres_Western',\n",
       "       'content_rating_Approved', 'content_rating_G',\n",
       "       'content_rating_Not Rated', 'content_rating_PG', 'content_rating_PG-13',\n",
       "       'content_rating_R', 'content_rating_Unrated', 'content_rating_X'],\n",
       "      dtype='object')"
      ]
     },
     "execution_count": 291,
     "metadata": {},
     "output_type": "execute_result"
    }
   ],
   "source": [
    "titles_cat_ml_highb_test_x.columns"
   ]
  },
  {
   "cell_type": "code",
   "execution_count": null,
   "metadata": {
    "collapsed": true
   },
   "outputs": [],
   "source": []
  },
  {
   "cell_type": "code",
   "execution_count": 292,
   "metadata": {
    "collapsed": true
   },
   "outputs": [],
   "source": [
    "titles2 = pd.DataFrame.from_csv('movie_metadata.csv', index_col=None)"
   ]
  },
  {
   "cell_type": "code",
   "execution_count": 293,
   "metadata": {
    "collapsed": true
   },
   "outputs": [],
   "source": [
    "titles2=titles2.set_index('movie_title')"
   ]
  },
  {
   "cell_type": "code",
   "execution_count": 294,
   "metadata": {
    "collapsed": true
   },
   "outputs": [],
   "source": [
    "\n",
    "titles2['ratio']=titles2.gross/titles2.budget"
   ]
  },
  {
   "cell_type": "code",
   "execution_count": 295,
   "metadata": {},
   "outputs": [
    {
     "data": {
      "text/plain": [
       "<matplotlib.collections.PathCollection at 0x112893400>"
      ]
     },
     "execution_count": 295,
     "metadata": {},
     "output_type": "execute_result"
    },
    {
     "data": {
      "image/png": "[encoded data removed]",
      "text/plain": [
       "<matplotlib.figure.Figure at 0x1a452304e0>"
      ]
     },
     "metadata": {},
     "output_type": "display_data"
    }
   ],
   "source": [
    "plt.ylim=[0,500]\n",
    "plt.xlim=[0,.2e10]\n",
    "plt.scatter(titles2.budget , titles2.ratio)"
   ]
  },
  {
   "cell_type": "code",
   "execution_count": 296,
   "metadata": {
    "collapsed": true
   },
   "outputs": [],
   "source": [
    "titles2=titles2.drop(titles2[titles2.country!=\"USA\"].index)"
   ]
  },
  {
   "cell_type": "code",
   "execution_count": 297,
   "metadata": {},
   "outputs": [
    {
     "data": {
      "text/plain": [
       "<matplotlib.collections.PathCollection at 0x1a451ca320>"
      ]
     },
     "execution_count": 297,
     "metadata": {},
     "output_type": "execute_result"
    },
    {
     "data": {
      "image/png": "[encoded data removed]",
      "text/plain": [
       "<matplotlib.figure.Figure at 0x11288b550>"
      ]
     },
     "metadata": {},
     "output_type": "display_data"
    }
   ],
   "source": [
    "#plt.ylim=[0,500]\n",
    "#plt.xlim=[0,.2e10]\n",
    "plt.axis([0,200,0,50])\n",
    "plt.xlabel('Budget in millions')\n",
    "plt.ylabel('Profit Ratio')\n",
    "plt.title('Distribution of profit ratio vs budget')\n",
    "plt.scatter(titles2.budget/(1e6) , titles2.ratio)"
   ]
  },
  {
   "cell_type": "code",
   "execution_count": 298,
   "metadata": {},
   "outputs": [
    {
     "data": {
      "text/plain": [
       "<matplotlib.axes._subplots.AxesSubplot at 0x1a58af8080>"
      ]
     },
     "execution_count": 298,
     "metadata": {},
     "output_type": "execute_result"
    },
    {
     "data": {
      "image/png": "[encoded data removed]",
      "text/plain": [
       "<matplotlib.figure.Figure at 0x11288ba90>"
      ]
     },
     "metadata": {},
     "output_type": "display_data"
    }
   ],
   "source": [
    "titles2.plot.scatter(x='imdb_score',y='gross')"
   ]
  },
  {
   "cell_type": "code",
   "execution_count": 299,
   "metadata": {},
   "outputs": [
    {
     "data": {
      "text/plain": [
       "<matplotlib.axes._subplots.AxesSubplot at 0x1a451b5668>"
      ]
     },
     "execution_count": 299,
     "metadata": {},
     "output_type": "execute_result"
    },
    {
     "data": {
      "image/png": "[encoded data removed]",
      "text/plain": [
       "<matplotlib.figure.Figure at 0x1a58b85b00>"
      ]
     },
     "metadata": {},
     "output_type": "display_data"
    }
   ],
   "source": [
    "titles2.plot.scatter(x='budget',y='gross')"
   ]
  },
  {
   "cell_type": "code",
   "execution_count": 300,
   "metadata": {},
   "outputs": [
    {
     "data": {
      "text/plain": [
       "<matplotlib.axes._subplots.AxesSubplot at 0x1a4518fc18>"
      ]
     },
     "execution_count": 300,
     "metadata": {},
     "output_type": "execute_result"
    },
    {
     "data": {
      "image/png": "[encoded data removed]",
      "text/plain": [
       "<matplotlib.figure.Figure at 0x112a8f5c0>"
      ]
     },
     "metadata": {},
     "output_type": "display_data"
    }
   ],
   "source": [
    "titles2.plot.scatter(x='actor_1_facebook_likes',y='gross')"
   ]
  },
  {
   "cell_type": "code",
   "execution_count": 301,
   "metadata": {},
   "outputs": [
    {
     "data": {
      "text/plain": [
       "16655.361604538255"
      ]
     },
     "execution_count": 301,
     "metadata": {},
     "output_type": "execute_result"
    }
   ],
   "source": [
    "titles2.actor_1_facebook_likes.std()"
   ]
  },
  {
   "cell_type": "code",
   "execution_count": 302,
   "metadata": {
    "collapsed": true
   },
   "outputs": [],
   "source": [
    "#Logistic Regression #####"
   ]
  },
  {
   "cell_type": "code",
   "execution_count": 303,
   "metadata": {
    "collapsed": true
   },
   "outputs": [],
   "source": [
    "from sklearn.model_selection import train_test_split\n",
    "from sklearn.linear_model import LogisticRegression\n",
    "from sklearn.metrics import accuracy_score\n"
   ]
  },
  {
   "cell_type": "code",
   "execution_count": 304,
   "metadata": {
    "collapsed": true
   },
   "outputs": [],
   "source": [
    "logistic_regression_1= LogisticRegression()"
   ]
  },
  {
   "cell_type": "code",
   "execution_count": 305,
   "metadata": {
    "collapsed": true
   },
   "outputs": [],
   "source": [
    "titles_cat_ml_highb=titles_cat_highb.select_dtypes(exclude=['object']) "
   ]
  },
  {
   "cell_type": "code",
   "execution_count": 306,
   "metadata": {
    "collapsed": true
   },
   "outputs": [],
   "source": [
    "titles_cat_ml_highb_ratio=titles_cat_ml_highb.ratio"
   ]
  },
  {
   "cell_type": "code",
   "execution_count": 307,
   "metadata": {
    "collapsed": true
   },
   "outputs": [],
   "source": [
    "titles_cat_logistic_highb=titles_cat_ml_highb.drop(['ratio'], axis=1)"
   ]
  },
  {
   "cell_type": "code",
   "execution_count": 308,
   "metadata": {
    "collapsed": true
   },
   "outputs": [],
   "source": [
    "titles_cat_logistic_highb=titles_cat_logistic_highb.dropna()"
   ]
  },
  {
   "cell_type": "code",
   "execution_count": 309,
   "metadata": {
    "collapsed": true
   },
   "outputs": [],
   "source": [
    "titles_cat_logistic_highb=shuffle(titles_cat_logistic_highb)"
   ]
  },
  {
   "cell_type": "code",
   "execution_count": 310,
   "metadata": {
    "collapsed": true
   },
   "outputs": [],
   "source": [
    "titles_cat_logistic_highb_train=titles_cat_logistic_highb[:1200]\n",
    "titles_cat_logistic_highb_test=titles_cat_logistic_highb[1200:]"
   ]
  },
  {
   "cell_type": "code",
   "execution_count": 311,
   "metadata": {
    "collapsed": true
   },
   "outputs": [],
   "source": [
    "titles_cat_logistic_highb_train_x=titles_cat_logistic_highb_train.drop(['gross', 'profit_making','movie_facebook_likes','num_voted_users'],axis=1 )"
   ]
  },
  {
   "cell_type": "code",
   "execution_count": 312,
   "metadata": {
    "collapsed": true
   },
   "outputs": [],
   "source": [
    "titles_cat_logistic_highb_test_x=titles_cat_logistic_highb_test.drop( ['gross', 'profit_making','movie_facebook_likes','num_voted_users' ],axis=1)"
   ]
  },
  {
   "cell_type": "code",
   "execution_count": 313,
   "metadata": {
    "collapsed": true
   },
   "outputs": [],
   "source": [
    "titles_cat_logistic_highb_train_y=pd.DataFrame(titles_cat_logistic_highb_train['profit_making'])"
   ]
  },
  {
   "cell_type": "code",
   "execution_count": 314,
   "metadata": {
    "collapsed": true
   },
   "outputs": [],
   "source": [
    "titles_cat_logistic_highb_test_y=pd.DataFrame(titles_cat_logistic_highb_test[ 'profit_making' ])"
   ]
  },
  {
   "cell_type": "code",
   "execution_count": 315,
   "metadata": {},
   "outputs": [
    {
     "data": {
      "text/plain": [
       "LogisticRegression(C=1.0, class_weight=None, dual=False, fit_intercept=True,\n",
       "          intercept_scaling=1, max_iter=100, multi_class='ovr', n_jobs=1,\n",
       "          penalty='l2', random_state=None, solver='liblinear', tol=0.0001,\n",
       "          verbose=0, warm_start=False)"
      ]
     },
     "execution_count": 315,
     "metadata": {},
     "output_type": "execute_result"
    }
   ],
   "source": [
    "logistic_regression_1.fit(titles_cat_logistic_highb_train_x,titles_cat_logistic_highb_train_y.profit_making)"
   ]
  },
  {
   "cell_type": "code",
   "execution_count": 316,
   "metadata": {},
   "outputs": [
    {
     "data": {
      "text/plain": [
       "0.68774703557312256"
      ]
     },
     "execution_count": 316,
     "metadata": {},
     "output_type": "execute_result"
    }
   ],
   "source": [
    "accuracy_score(logistic_regression_1.predict(titles_cat_logistic_highb_test_x),titles_cat_logistic_highb_test_y.profit_making)"
   ]
  },
  {
   "cell_type": "code",
   "execution_count": 317,
   "metadata": {},
   "outputs": [
    {
     "data": {
      "text/plain": [
       "Index(['Coraline ', 'Little Nicky ', 'Joyful Noise ', 'War of the Worlds ',\n",
       "       'Blade ', 'Unfaithful ', 'The Conspirator ', 'The Devil Wears Prada ',\n",
       "       'G.I. Joe: Retaliation ', 'Robots '],\n",
       "      dtype='object', name='movie_title')"
      ]
     },
     "execution_count": 317,
     "metadata": {},
     "output_type": "execute_result"
    }
   ],
   "source": [
    "titles_cat_logistic_highb_test_x.index[:10]"
   ]
  },
  {
   "cell_type": "code",
   "execution_count": 318,
   "metadata": {
    "collapsed": true
   },
   "outputs": [],
   "source": [
    "logistic_regression_2=LogisticRegression()"
   ]
  },
  {
   "cell_type": "code",
   "execution_count": 319,
   "metadata": {
    "collapsed": true
   },
   "outputs": [],
   "source": [
    "titles_cat_lowb=titles_cat_lowb.drop(titles_cat_lowb[titles_cat_lowb.country!=\"USA\"].index)"
   ]
  },
  {
   "cell_type": "code",
   "execution_count": 320,
   "metadata": {
    "collapsed": true
   },
   "outputs": [],
   "source": [
    "titles_cat_ml_lowb=titles_cat_lowb.select_dtypes(exclude=['object']) "
   ]
  },
  {
   "cell_type": "code",
   "execution_count": 321,
   "metadata": {
    "collapsed": true
   },
   "outputs": [],
   "source": [
    "titles_cat_ml_lowb_ratio=titles_cat_ml_lowb.ratio"
   ]
  },
  {
   "cell_type": "code",
   "execution_count": 322,
   "metadata": {
    "collapsed": true
   },
   "outputs": [],
   "source": [
    "titles_cat_logistic_lowb=titles_cat_ml_lowb.drop(['ratio'], axis=1)"
   ]
  },
  {
   "cell_type": "code",
   "execution_count": 323,
   "metadata": {
    "collapsed": true
   },
   "outputs": [],
   "source": [
    "titles_cat_logistic_lowb=titles_cat_logistic_lowb.dropna()"
   ]
  },
  {
   "cell_type": "code",
   "execution_count": 324,
   "metadata": {
    "collapsed": true
   },
   "outputs": [],
   "source": [
    "titles_cat_logistic_lowb=shuffle(titles_cat_logistic_lowb)"
   ]
  },
  {
   "cell_type": "code",
   "execution_count": 325,
   "metadata": {
    "collapsed": true
   },
   "outputs": [],
   "source": [
    "titles_cat_logistic_lowb_train=titles_cat_logistic_lowb[:1200]\n",
    "titles_cat_logistic_lowb_test=titles_cat_logistic_lowb[1200:]"
   ]
  },
  {
   "cell_type": "code",
   "execution_count": 326,
   "metadata": {
    "collapsed": true
   },
   "outputs": [],
   "source": [
    "titles_cat_logistic_lowb_train_x=titles_cat_logistic_lowb_train.drop(['gross', 'profit_making','movie_facebook_likes','num_voted_users'],axis=1 )"
   ]
  },
  {
   "cell_type": "code",
   "execution_count": 327,
   "metadata": {
    "collapsed": true
   },
   "outputs": [],
   "source": [
    "titles_cat_logistic_lowb_test_x=titles_cat_logistic_lowb_test.drop( ['gross', 'profit_making','movie_facebook_likes','num_voted_users'],axis=1)"
   ]
  },
  {
   "cell_type": "code",
   "execution_count": 328,
   "metadata": {
    "collapsed": true
   },
   "outputs": [],
   "source": [
    "titles_cat_logistic_lowb_train_y=pd.DataFrame(titles_cat_logistic_lowb_train['profit_making'])"
   ]
  },
  {
   "cell_type": "code",
   "execution_count": 329,
   "metadata": {
    "collapsed": true
   },
   "outputs": [],
   "source": [
    "titles_cat_logistic_lowb_test_y=pd.DataFrame(titles_cat_logistic_lowb_test[ 'profit_making' ])"
   ]
  },
  {
   "cell_type": "code",
   "execution_count": 330,
   "metadata": {},
   "outputs": [
    {
     "data": {
      "text/plain": [
       "LogisticRegression(C=1.0, class_weight=None, dual=False, fit_intercept=True,\n",
       "          intercept_scaling=1, max_iter=100, multi_class='ovr', n_jobs=1,\n",
       "          penalty='l2', random_state=None, solver='liblinear', tol=0.0001,\n",
       "          verbose=0, warm_start=False)"
      ]
     },
     "execution_count": 330,
     "metadata": {},
     "output_type": "execute_result"
    }
   ],
   "source": [
    "logistic_regression_2.fit(titles_cat_logistic_lowb_train_x,titles_cat_logistic_lowb_train_y.profit_making)"
   ]
  },
  {
   "cell_type": "code",
   "execution_count": 331,
   "metadata": {},
   "outputs": [
    {
     "data": {
      "text/plain": [
       "0.72602739726027399"
      ]
     },
     "execution_count": 331,
     "metadata": {},
     "output_type": "execute_result"
    }
   ],
   "source": [
    "accuracy_score(logistic_regression_2.predict(titles_cat_logistic_lowb_test_x),titles_cat_logistic_lowb_test_y.profit_making)"
   ]
  },
  {
   "cell_type": "code",
   "execution_count": 332,
   "metadata": {},
   "outputs": [
    {
     "data": {
      "text/plain": [
       "0.69666666666666666"
      ]
     },
     "execution_count": 332,
     "metadata": {},
     "output_type": "execute_result"
    }
   ],
   "source": [
    "accuracy_score(logistic_regression_2.predict(titles_cat_logistic_lowb_train_x),titles_cat_logistic_lowb_train_y.profit_making)"
   ]
  },
  {
   "cell_type": "code",
   "execution_count": null,
   "metadata": {
    "collapsed": true
   },
   "outputs": [],
   "source": []
  },
  {
   "cell_type": "code",
   "execution_count": 333,
   "metadata": {
    "collapsed": true
   },
   "outputs": [],
   "source": [
    "##SVM technique"
   ]
  },
  {
   "cell_type": "code",
   "execution_count": 334,
   "metadata": {
    "collapsed": true
   },
   "outputs": [],
   "source": [
    "from sklearn.svm import SVC\n",
    "from sklearn.svm import SVR\n",
    "from sklearn.svm import LinearSVC\n",
    "from sklearn.pipeline import Pipeline\n",
    "from sklearn.preprocessing import PolynomialFeatures\n",
    "from sklearn.preprocessing import StandardScaler"
   ]
  },
  {
   "cell_type": "code",
   "execution_count": 335,
   "metadata": {
    "collapsed": true
   },
   "outputs": [],
   "source": [
    "poly_kernel_svm_clf = Pipeline([\n",
    "        (\"scaler\", StandardScaler()),\n",
    "        (\"svm_clf\", SVC(kernel=\"poly\", degree=3, coef0=10, C=.1))\n",
    "])\n"
   ]
  },
  {
   "cell_type": "code",
   "execution_count": 336,
   "metadata": {},
   "outputs": [
    {
     "data": {
      "text/plain": [
       "Pipeline(memory=None,\n",
       "     steps=[('scaler', StandardScaler(copy=True, with_mean=True, with_std=True)), ('svm_clf', SVC(C=0.1, cache_size=200, class_weight=None, coef0=10,\n",
       "  decision_function_shape='ovr', degree=3, gamma='auto', kernel='poly',\n",
       "  max_iter=-1, probability=False, random_state=None, shrinking=True,\n",
       "  tol=0.001, verbose=False))])"
      ]
     },
     "execution_count": 336,
     "metadata": {},
     "output_type": "execute_result"
    }
   ],
   "source": [
    "poly_kernel_svm_clf.fit(titles_cat_logistic_lowb_train_x,titles_cat_logistic_lowb_train_y.profit_making)"
   ]
  },
  {
   "cell_type": "code",
   "execution_count": 337,
   "metadata": {},
   "outputs": [
    {
     "data": {
      "text/plain": [
       "0.78082191780821919"
      ]
     },
     "execution_count": 337,
     "metadata": {},
     "output_type": "execute_result"
    }
   ],
   "source": [
    "poly_kernel_svm_clf.score(titles_cat_logistic_lowb_test_x,titles_cat_logistic_lowb_test_y.profit_making)"
   ]
  },
  {
   "cell_type": "code",
   "execution_count": 338,
   "metadata": {},
   "outputs": [
    {
     "data": {
      "text/plain": [
       "0.78083333333333338"
      ]
     },
     "execution_count": 338,
     "metadata": {},
     "output_type": "execute_result"
    }
   ],
   "source": [
    "poly_kernel_svm_clf.score(titles_cat_logistic_lowb_train_x,titles_cat_logistic_lowb_train_y.profit_making)"
   ]
  },
  {
   "cell_type": "code",
   "execution_count": null,
   "metadata": {
    "collapsed": true
   },
   "outputs": [],
   "source": []
  },
  {
   "cell_type": "code",
   "execution_count": 339,
   "metadata": {
    "collapsed": true
   },
   "outputs": [],
   "source": [
    "titles_cat_logistic_lowb_train_x_noimdb=titles_cat_logistic_lowb_train_x.drop('imdb_score',axis=1)"
   ]
  },
  {
   "cell_type": "code",
   "execution_count": 340,
   "metadata": {
    "collapsed": true
   },
   "outputs": [],
   "source": [
    "titles_cat_logistic_lowb_test_x_noimdb=titles_cat_logistic_lowb_test_x.drop('imdb_score',axis=1)"
   ]
  },
  {
   "cell_type": "code",
   "execution_count": 341,
   "metadata": {
    "collapsed": true
   },
   "outputs": [],
   "source": [
    "lgr = Pipeline([\n",
    "        (\"scaler\", StandardScaler()),\n",
    "        (\"lgr_clf\", LogisticRegression(C=.1))\n",
    "])"
   ]
  },
  {
   "cell_type": "code",
   "execution_count": 342,
   "metadata": {},
   "outputs": [
    {
     "data": {
      "text/plain": [
       "Pipeline(memory=None,\n",
       "     steps=[('scaler', StandardScaler(copy=True, with_mean=True, with_std=True)), ('lgr_clf', LogisticRegression(C=0.1, class_weight=None, dual=False, fit_intercept=True,\n",
       "          intercept_scaling=1, max_iter=100, multi_class='ovr', n_jobs=1,\n",
       "          penalty='l2', random_state=None, solver='liblinear', tol=0.0001,\n",
       "          verbose=0, warm_start=False))])"
      ]
     },
     "execution_count": 342,
     "metadata": {},
     "output_type": "execute_result"
    }
   ],
   "source": [
    "lgr.fit(titles_cat_logistic_lowb_train_x_noimdb,titles_cat_logistic_lowb_train_y.profit_making)"
   ]
  },
  {
   "cell_type": "code",
   "execution_count": 343,
   "metadata": {},
   "outputs": [
    {
     "data": {
      "text/plain": [
       "0.76712328767123283"
      ]
     },
     "execution_count": 343,
     "metadata": {},
     "output_type": "execute_result"
    }
   ],
   "source": [
    "lgr.score(titles_cat_logistic_lowb_test_x_noimdb,titles_cat_logistic_lowb_test_y.profit_making)"
   ]
  },
  {
   "cell_type": "code",
   "execution_count": 344,
   "metadata": {},
   "outputs": [
    {
     "data": {
      "text/plain": [
       "0.71916666666666662"
      ]
     },
     "execution_count": 344,
     "metadata": {},
     "output_type": "execute_result"
    }
   ],
   "source": [
    "lgr.score(titles_cat_logistic_lowb_train_x_noimdb,titles_cat_logistic_lowb_train_y.profit_making)"
   ]
  },
  {
   "cell_type": "code",
   "execution_count": null,
   "metadata": {
    "collapsed": true
   },
   "outputs": [],
   "source": []
  },
  {
   "cell_type": "code",
   "execution_count": 345,
   "metadata": {
    "collapsed": true
   },
   "outputs": [],
   "source": [
    "poly_kernel_svm_clf = Pipeline([\n",
    "        (\"scaler\", StandardScaler()),\n",
    "        (\"svm_clf\", SVC(kernel=\"poly\", degree=3, coef0=10, C=.01))\n",
    "])"
   ]
  },
  {
   "cell_type": "code",
   "execution_count": 346,
   "metadata": {},
   "outputs": [
    {
     "data": {
      "text/plain": [
       "Pipeline(memory=None,\n",
       "     steps=[('scaler', StandardScaler(copy=True, with_mean=True, with_std=True)), ('svm_clf', SVC(C=0.01, cache_size=200, class_weight=None, coef0=10,\n",
       "  decision_function_shape='ovr', degree=3, gamma='auto', kernel='poly',\n",
       "  max_iter=-1, probability=False, random_state=None, shrinking=True,\n",
       "  tol=0.001, verbose=False))])"
      ]
     },
     "execution_count": 346,
     "metadata": {},
     "output_type": "execute_result"
    }
   ],
   "source": [
    "poly_kernel_svm_clf.fit(titles_cat_logistic_lowb_train_x_noimdb,titles_cat_logistic_lowb_train_y.profit_making)"
   ]
  },
  {
   "cell_type": "code",
   "execution_count": 347,
   "metadata": {},
   "outputs": [
    {
     "data": {
      "text/plain": [
       "0.75342465753424659"
      ]
     },
     "execution_count": 347,
     "metadata": {},
     "output_type": "execute_result"
    }
   ],
   "source": [
    "poly_kernel_svm_clf.score(titles_cat_logistic_lowb_test_x_noimdb,titles_cat_logistic_lowb_test_y.profit_making)"
   ]
  },
  {
   "cell_type": "code",
   "execution_count": 348,
   "metadata": {},
   "outputs": [
    {
     "data": {
      "text/plain": [
       "0.73499999999999999"
      ]
     },
     "execution_count": 348,
     "metadata": {},
     "output_type": "execute_result"
    }
   ],
   "source": [
    "poly_kernel_svm_clf.score(titles_cat_logistic_lowb_train_x_noimdb,titles_cat_logistic_lowb_train_y.profit_making)"
   ]
  },
  {
   "cell_type": "code",
   "execution_count": 349,
   "metadata": {
    "collapsed": true
   },
   "outputs": [],
   "source": [
    "## Decision Trees\n"
   ]
  },
  {
   "cell_type": "code",
   "execution_count": 350,
   "metadata": {
    "collapsed": true
   },
   "outputs": [],
   "source": [
    "##Voting\n"
   ]
  },
  {
   "cell_type": "code",
   "execution_count": 351,
   "metadata": {
    "collapsed": true
   },
   "outputs": [],
   "source": [
    "from sklearn.ensemble import RandomForestClassifier\n",
    "from sklearn.ensemble import VotingClassifier\n",
    "from sklearn.linear_model import LogisticRegression\n",
    "from sklearn.svm import SVC\n",
    "\n",
    "voting_clf = VotingClassifier(\n",
    "       estimators=[('lr',lgr ),  ('svc', poly_kernel_svm_clf)],\n",
    "       #estimators=[('svc', poly_kernel_svm_clf)],\n",
    "    voting='hard')\n",
    "#voting_clf.fit(X_train, y_train)\n"
   ]
  },
  {
   "cell_type": "code",
   "execution_count": 352,
   "metadata": {},
   "outputs": [
    {
     "data": {
      "text/plain": [
       "VotingClassifier(estimators=[('lr', Pipeline(memory=None,\n",
       "     steps=[('scaler', StandardScaler(copy=True, with_mean=True, with_std=True)), ('lgr_clf', LogisticRegression(C=0.1, class_weight=None, dual=False, fit_intercept=True,\n",
       "          intercept_scaling=1, max_iter=100, multi_class='ovr', n_jobs=1,\n",
       "          pena... max_iter=-1, probability=False, random_state=None, shrinking=True,\n",
       "  tol=0.001, verbose=False))]))],\n",
       "         flatten_transform=None, n_jobs=1, voting='hard', weights=None)"
      ]
     },
     "execution_count": 352,
     "metadata": {},
     "output_type": "execute_result"
    }
   ],
   "source": [
    "voting_clf.fit(titles_cat_logistic_lowb_train_x_noimdb,titles_cat_logistic_lowb_train_y.profit_making )"
   ]
  },
  {
   "cell_type": "code",
   "execution_count": 353,
   "metadata": {},
   "outputs": [
    {
     "data": {
      "text/plain": [
       "[('lr', Pipeline(memory=None,\n",
       "       steps=[('scaler', StandardScaler(copy=True, with_mean=True, with_std=True)), ('lgr_clf', LogisticRegression(C=0.1, class_weight=None, dual=False, fit_intercept=True,\n",
       "            intercept_scaling=1, max_iter=100, multi_class='ovr', n_jobs=1,\n",
       "            penalty='l2', random_state=None, solver='liblinear', tol=0.0001,\n",
       "            verbose=0, warm_start=False))])), ('svc', Pipeline(memory=None,\n",
       "       steps=[('scaler', StandardScaler(copy=True, with_mean=True, with_std=True)), ('svm_clf', SVC(C=0.01, cache_size=200, class_weight=None, coef0=10,\n",
       "    decision_function_shape='ovr', degree=3, gamma='auto', kernel='poly',\n",
       "    max_iter=-1, probability=False, random_state=None, shrinking=True,\n",
       "    tol=0.001, verbose=False))]))]"
      ]
     },
     "execution_count": 353,
     "metadata": {},
     "output_type": "execute_result"
    }
   ],
   "source": [
    "voting_clf.estimators"
   ]
  },
  {
   "cell_type": "code",
   "execution_count": 354,
   "metadata": {},
   "outputs": [
    {
     "data": {
      "text/plain": [
       "0.72750000000000004"
      ]
     },
     "execution_count": 354,
     "metadata": {},
     "output_type": "execute_result"
    }
   ],
   "source": [
    "voting_clf.score(titles_cat_logistic_lowb_train_x_noimdb,titles_cat_logistic_lowb_train_y.profit_making)"
   ]
  },
  {
   "cell_type": "code",
   "execution_count": 355,
   "metadata": {},
   "outputs": [
    {
     "data": {
      "text/plain": [
       "0.78082191780821919"
      ]
     },
     "execution_count": 355,
     "metadata": {},
     "output_type": "execute_result"
    }
   ],
   "source": [
    "voting_clf.score(titles_cat_logistic_lowb_test_x_noimdb,titles_cat_logistic_lowb_test_y.profit_making)"
   ]
  },
  {
   "cell_type": "code",
   "execution_count": 356,
   "metadata": {
    "collapsed": true
   },
   "outputs": [],
   "source": [
    "## Random forest / Bagging/ Pasting /Boosting"
   ]
  },
  {
   "cell_type": "code",
   "execution_count": 357,
   "metadata": {
    "collapsed": true
   },
   "outputs": [],
   "source": [
    "from sklearn.ensemble import RandomForestClassifier\n",
    "\n",
    "rnd_clf = RandomForestClassifier(n_estimators=1000, max_leaf_nodes=100, n_jobs=-1, random_state=42)"
   ]
  },
  {
   "cell_type": "code",
   "execution_count": 358,
   "metadata": {},
   "outputs": [
    {
     "data": {
      "text/plain": [
       "RandomForestClassifier(bootstrap=True, class_weight=None, criterion='gini',\n",
       "            max_depth=None, max_features='auto', max_leaf_nodes=100,\n",
       "            min_impurity_decrease=0.0, min_impurity_split=None,\n",
       "            min_samples_leaf=1, min_samples_split=2,\n",
       "            min_weight_fraction_leaf=0.0, n_estimators=1000, n_jobs=-1,\n",
       "            oob_score=False, random_state=42, verbose=0, warm_start=False)"
      ]
     },
     "execution_count": 358,
     "metadata": {},
     "output_type": "execute_result"
    }
   ],
   "source": [
    "rnd_clf.fit(titles_cat_logistic_lowb_train_x_noimdb,titles_cat_logistic_lowb_train_y.profit_making)"
   ]
  },
  {
   "cell_type": "code",
   "execution_count": 359,
   "metadata": {},
   "outputs": [
    {
     "data": {
      "text/plain": [
       "0.75342465753424659"
      ]
     },
     "execution_count": 359,
     "metadata": {},
     "output_type": "execute_result"
    }
   ],
   "source": [
    "rnd_clf.score(titles_cat_logistic_lowb_test_x_noimdb,titles_cat_logistic_lowb_test_y.profit_making)"
   ]
  },
  {
   "cell_type": "code",
   "execution_count": 360,
   "metadata": {
    "collapsed": true
   },
   "outputs": [],
   "source": [
    "\n",
    "voting_clf = VotingClassifier(\n",
    "       estimators=[('lr',lgr ),  ('svc', poly_kernel_svm_clf),  ('rnd', rnd_clf)],\n",
    "       #estimators=[('svc', poly_kernel_svm_clf)],\n",
    "    voting='hard')\n",
    "#voting_clf.fit(X_train, y_train)\n"
   ]
  },
  {
   "cell_type": "code",
   "execution_count": 361,
   "metadata": {},
   "outputs": [
    {
     "data": {
      "text/plain": [
       "VotingClassifier(estimators=[('lr', Pipeline(memory=None,\n",
       "     steps=[('scaler', StandardScaler(copy=True, with_mean=True, with_std=True)), ('lgr_clf', LogisticRegression(C=0.1, class_weight=None, dual=False, fit_intercept=True,\n",
       "          intercept_scaling=1, max_iter=100, multi_class='ovr', n_jobs=1,\n",
       "          pena...mators=1000, n_jobs=-1,\n",
       "            oob_score=False, random_state=42, verbose=0, warm_start=False))],\n",
       "         flatten_transform=None, n_jobs=1, voting='hard', weights=None)"
      ]
     },
     "execution_count": 361,
     "metadata": {},
     "output_type": "execute_result"
    }
   ],
   "source": [
    "voting_clf.fit(titles_cat_logistic_lowb_train_x_noimdb,titles_cat_logistic_lowb_train_y.profit_making )"
   ]
  },
  {
   "cell_type": "code",
   "execution_count": 362,
   "metadata": {},
   "outputs": [
    {
     "data": {
      "text/plain": [
       "0.75342465753424659"
      ]
     },
     "execution_count": 362,
     "metadata": {},
     "output_type": "execute_result"
    }
   ],
   "source": [
    "voting_clf.score(titles_cat_logistic_lowb_test_x_noimdb,titles_cat_logistic_lowb_test_y.profit_making)"
   ]
  },
  {
   "cell_type": "code",
   "execution_count": null,
   "metadata": {
    "collapsed": true
   },
   "outputs": [],
   "source": []
  },
  {
   "cell_type": "code",
   "execution_count": 1057,
   "metadata": {
    "collapsed": true
   },
   "outputs": [],
   "source": [
    "## Other stuff"
   ]
  },
  {
   "cell_type": "code",
   "execution_count": 1058,
   "metadata": {},
   "outputs": [
    {
     "ename": "NameError",
     "evalue": "name 'X' is not defined",
     "output_type": "error",
     "traceback": [
      "\u001b[0;31m---------------------------------------------------------------------------\u001b[0m",
      "\u001b[0;31mNameError\u001b[0m                                 Traceback (most recent call last)",
      "\u001b[0;32m<ipython-input-1058-1d8beaff8b43>\u001b[0m in \u001b[0;36m<module>\u001b[0;34m()\u001b[0m\n\u001b[1;32m      7\u001b[0m     \u001b[0mplt\u001b[0m\u001b[0;34m.\u001b[0m\u001b[0mylabel\u001b[0m\u001b[0;34m(\u001b[0m\u001b[0;34mr\"$x_2$\"\u001b[0m\u001b[0;34m,\u001b[0m \u001b[0mfontsize\u001b[0m\u001b[0;34m=\u001b[0m\u001b[0;36m20\u001b[0m\u001b[0;34m,\u001b[0m \u001b[0mrotation\u001b[0m\u001b[0;34m=\u001b[0m\u001b[0;36m0\u001b[0m\u001b[0;34m)\u001b[0m\u001b[0;34m\u001b[0m\u001b[0m\n\u001b[1;32m      8\u001b[0m \u001b[0;34m\u001b[0m\u001b[0m\n\u001b[0;32m----> 9\u001b[0;31m \u001b[0mplot_dataset\u001b[0m\u001b[0;34m(\u001b[0m\u001b[0mX\u001b[0m\u001b[0;34m,\u001b[0m \u001b[0my\u001b[0m\u001b[0;34m,\u001b[0m \u001b[0;34m[\u001b[0m\u001b[0;34m-\u001b[0m\u001b[0;36m1.5\u001b[0m\u001b[0;34m,\u001b[0m \u001b[0;36m2.5\u001b[0m\u001b[0;34m,\u001b[0m \u001b[0;34m-\u001b[0m\u001b[0;36m1\u001b[0m\u001b[0;34m,\u001b[0m \u001b[0;36m1.5\u001b[0m\u001b[0;34m]\u001b[0m\u001b[0;34m)\u001b[0m\u001b[0;34m\u001b[0m\u001b[0m\n\u001b[0m\u001b[1;32m     10\u001b[0m \u001b[0mplt\u001b[0m\u001b[0;34m.\u001b[0m\u001b[0mshow\u001b[0m\u001b[0;34m(\u001b[0m\u001b[0;34m)\u001b[0m\u001b[0;34m\u001b[0m\u001b[0m\n",
      "\u001b[0;31mNameError\u001b[0m: name 'X' is not defined"
     ]
    }
   ],
   "source": [
    "def plot_dataset(X, y, axes):\n",
    "    plt.plot(X[:, 0][y==0], X[:, 1][y==0], \"bs\")\n",
    "    plt.plot(X[:, 0][y==1], X[:, 1][y==1], \"g^\")\n",
    "    plt.axis(axes)\n",
    "    plt.grid(True, which='both')\n",
    "    plt.xlabel(r\"$x_1$\", fontsize=20)\n",
    "    plt.ylabel(r\"$x_2$\", fontsize=20, rotation=0)\n",
    "\n",
    "plot_dataset(X, y, [-1.5, 2.5, -1, 1.5])\n",
    "plt.show()"
   ]
  }
 ],
 "metadata": {
  "kernelspec": {
   "display_name": "Python 3",
   "language": "python",
   "name": "python3"
  },
  "language_info": {
   "codemirror_mode": {
    "name": "ipython",
    "version": 3
   },
   "file_extension": ".py",
   "mimetype": "text/x-python",
   "name": "python",
   "nbconvert_exporter": "python",
   "pygments_lexer": "ipython3",
   "version": "3.6.3"
  }
 },
 "nbformat": 4,
 "nbformat_minor": 2
}
